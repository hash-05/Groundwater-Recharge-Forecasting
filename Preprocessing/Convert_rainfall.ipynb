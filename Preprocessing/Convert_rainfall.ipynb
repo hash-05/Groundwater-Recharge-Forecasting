{
 "cells": [
  {
   "cell_type": "code",
   "execution_count": 1,
   "metadata": {
    "collapsed": true
   },
   "outputs": [],
   "source": [
    "import numpy as np\n",
    "import pandas as pd\n",
    "import datetime"
   ]
  },
  {
   "cell_type": "code",
   "execution_count": 3,
   "outputs": [],
   "source": [
    "df=pd.read_excel('B:\\GroundwaterRech\\Rainfall1.xlsx')"
   ],
   "metadata": {
    "collapsed": false
   }
  },
  {
   "cell_type": "code",
   "execution_count": 4,
   "outputs": [
    {
     "data": {
      "text/plain": "    India_District_Boundary_Final  Unnamed: 1      X      Y  Unnamed: 4  \\\n0                               2          52  74.75  31.25         NaN   \n1                               2          53  75.00  31.25         NaN   \n2                               2          60  74.75  31.50         NaN   \n3                               2          61  75.00  31.50         NaN   \n4                               2          62  75.25  31.50         NaN   \n..                            ...         ...    ...    ...         ...   \n70                             18          19  75.75  30.25         NaN   \n71                             18          20  76.00  30.25         NaN   \n72                             18          29  75.50  30.50         NaN   \n73                             18          30  75.75  30.50         NaN   \n74                             18          31  76.00  30.50         NaN   \n\n    Unnamed: 5  Unnamed: 6  Unnamed: 7  August_1986  July_1986  ...  \\\n0          NaN         NaN         NaN     2.659911   4.456076  ...   \n1          NaN         NaN         NaN     3.902280   4.534496  ...   \n2          NaN         NaN         NaN     4.475145   5.942981  ...   \n3          NaN         NaN         NaN     4.730352   5.491628  ...   \n4          NaN         NaN         NaN     4.954210   4.662692  ...   \n..         ...         ...         ...          ...        ...  ...   \n70         NaN         NaN         NaN     3.416143   3.646135  ...   \n71         NaN         NaN         NaN     3.859663   1.751431  ...   \n72         NaN         NaN         NaN     0.845562   1.358921  ...   \n73         NaN         NaN         NaN     4.917675   2.260974  ...   \n74         NaN         NaN         NaN     4.929562   2.810462  ...   \n\n    August_2018  July_2018  June_2018  October_2018  September_2018  \\\n0      0.986307   4.560506   2.073650      0.347830        6.875844   \n1      7.472597   8.053643   2.906744      0.276783        9.585634   \n2      1.450296   5.213764   2.766044      0.475440        8.924348   \n3      1.966370   6.169707   2.941406      0.364122        9.496521   \n4      3.359631   7.261928   4.189689      0.054668       12.204458   \n..          ...        ...        ...           ...             ...   \n70     1.388497   7.945996   4.378918      0.000000        3.646806   \n71     2.717189   6.862195   3.393701      0.033830        6.503594   \n72     3.286305   4.793872   3.295513      0.000000        8.212548   \n73     3.105711   5.156515   0.550448      0.000000        5.305318   \n74     3.396217   5.337520   2.772603      0.005185       10.618946   \n\n    August_2019  July_2019  June_2019  October_2019  September_2019  \n0      3.659099   5.994000   0.582380      0.306257        1.353071  \n1     13.259906   8.501282   0.315660      0.224458        4.972050  \n2      3.244717   6.406915   0.608223      0.270869        2.110724  \n3      7.740416   6.634056   0.487570      0.235325        2.717962  \n4     14.957551   8.135904   0.439665      0.164262        6.221113  \n..          ...        ...        ...           ...             ...  \n70     3.288132   5.765584   1.017491      0.005562        1.445179  \n71     6.455875   7.504949   0.869632      0.074488        3.087538  \n72     4.034395   6.908857   1.851164      0.337052        0.884581  \n73     1.825496   2.330568   1.015327      0.064138        0.142861  \n74     8.851127   6.936213   1.477110      0.138663        2.802407  \n\n[75 rows x 178 columns]",
      "text/html": "<div>\n<style scoped>\n    .dataframe tbody tr th:only-of-type {\n        vertical-align: middle;\n    }\n\n    .dataframe tbody tr th {\n        vertical-align: top;\n    }\n\n    .dataframe thead th {\n        text-align: right;\n    }\n</style>\n<table border=\"1\" class=\"dataframe\">\n  <thead>\n    <tr style=\"text-align: right;\">\n      <th></th>\n      <th>India_District_Boundary_Final</th>\n      <th>Unnamed: 1</th>\n      <th>X</th>\n      <th>Y</th>\n      <th>Unnamed: 4</th>\n      <th>Unnamed: 5</th>\n      <th>Unnamed: 6</th>\n      <th>Unnamed: 7</th>\n      <th>August_1986</th>\n      <th>July_1986</th>\n      <th>...</th>\n      <th>August_2018</th>\n      <th>July_2018</th>\n      <th>June_2018</th>\n      <th>October_2018</th>\n      <th>September_2018</th>\n      <th>August_2019</th>\n      <th>July_2019</th>\n      <th>June_2019</th>\n      <th>October_2019</th>\n      <th>September_2019</th>\n    </tr>\n  </thead>\n  <tbody>\n    <tr>\n      <th>0</th>\n      <td>2</td>\n      <td>52</td>\n      <td>74.75</td>\n      <td>31.25</td>\n      <td>NaN</td>\n      <td>NaN</td>\n      <td>NaN</td>\n      <td>NaN</td>\n      <td>2.659911</td>\n      <td>4.456076</td>\n      <td>...</td>\n      <td>0.986307</td>\n      <td>4.560506</td>\n      <td>2.073650</td>\n      <td>0.347830</td>\n      <td>6.875844</td>\n      <td>3.659099</td>\n      <td>5.994000</td>\n      <td>0.582380</td>\n      <td>0.306257</td>\n      <td>1.353071</td>\n    </tr>\n    <tr>\n      <th>1</th>\n      <td>2</td>\n      <td>53</td>\n      <td>75.00</td>\n      <td>31.25</td>\n      <td>NaN</td>\n      <td>NaN</td>\n      <td>NaN</td>\n      <td>NaN</td>\n      <td>3.902280</td>\n      <td>4.534496</td>\n      <td>...</td>\n      <td>7.472597</td>\n      <td>8.053643</td>\n      <td>2.906744</td>\n      <td>0.276783</td>\n      <td>9.585634</td>\n      <td>13.259906</td>\n      <td>8.501282</td>\n      <td>0.315660</td>\n      <td>0.224458</td>\n      <td>4.972050</td>\n    </tr>\n    <tr>\n      <th>2</th>\n      <td>2</td>\n      <td>60</td>\n      <td>74.75</td>\n      <td>31.50</td>\n      <td>NaN</td>\n      <td>NaN</td>\n      <td>NaN</td>\n      <td>NaN</td>\n      <td>4.475145</td>\n      <td>5.942981</td>\n      <td>...</td>\n      <td>1.450296</td>\n      <td>5.213764</td>\n      <td>2.766044</td>\n      <td>0.475440</td>\n      <td>8.924348</td>\n      <td>3.244717</td>\n      <td>6.406915</td>\n      <td>0.608223</td>\n      <td>0.270869</td>\n      <td>2.110724</td>\n    </tr>\n    <tr>\n      <th>3</th>\n      <td>2</td>\n      <td>61</td>\n      <td>75.00</td>\n      <td>31.50</td>\n      <td>NaN</td>\n      <td>NaN</td>\n      <td>NaN</td>\n      <td>NaN</td>\n      <td>4.730352</td>\n      <td>5.491628</td>\n      <td>...</td>\n      <td>1.966370</td>\n      <td>6.169707</td>\n      <td>2.941406</td>\n      <td>0.364122</td>\n      <td>9.496521</td>\n      <td>7.740416</td>\n      <td>6.634056</td>\n      <td>0.487570</td>\n      <td>0.235325</td>\n      <td>2.717962</td>\n    </tr>\n    <tr>\n      <th>4</th>\n      <td>2</td>\n      <td>62</td>\n      <td>75.25</td>\n      <td>31.50</td>\n      <td>NaN</td>\n      <td>NaN</td>\n      <td>NaN</td>\n      <td>NaN</td>\n      <td>4.954210</td>\n      <td>4.662692</td>\n      <td>...</td>\n      <td>3.359631</td>\n      <td>7.261928</td>\n      <td>4.189689</td>\n      <td>0.054668</td>\n      <td>12.204458</td>\n      <td>14.957551</td>\n      <td>8.135904</td>\n      <td>0.439665</td>\n      <td>0.164262</td>\n      <td>6.221113</td>\n    </tr>\n    <tr>\n      <th>...</th>\n      <td>...</td>\n      <td>...</td>\n      <td>...</td>\n      <td>...</td>\n      <td>...</td>\n      <td>...</td>\n      <td>...</td>\n      <td>...</td>\n      <td>...</td>\n      <td>...</td>\n      <td>...</td>\n      <td>...</td>\n      <td>...</td>\n      <td>...</td>\n      <td>...</td>\n      <td>...</td>\n      <td>...</td>\n      <td>...</td>\n      <td>...</td>\n      <td>...</td>\n      <td>...</td>\n    </tr>\n    <tr>\n      <th>70</th>\n      <td>18</td>\n      <td>19</td>\n      <td>75.75</td>\n      <td>30.25</td>\n      <td>NaN</td>\n      <td>NaN</td>\n      <td>NaN</td>\n      <td>NaN</td>\n      <td>3.416143</td>\n      <td>3.646135</td>\n      <td>...</td>\n      <td>1.388497</td>\n      <td>7.945996</td>\n      <td>4.378918</td>\n      <td>0.000000</td>\n      <td>3.646806</td>\n      <td>3.288132</td>\n      <td>5.765584</td>\n      <td>1.017491</td>\n      <td>0.005562</td>\n      <td>1.445179</td>\n    </tr>\n    <tr>\n      <th>71</th>\n      <td>18</td>\n      <td>20</td>\n      <td>76.00</td>\n      <td>30.25</td>\n      <td>NaN</td>\n      <td>NaN</td>\n      <td>NaN</td>\n      <td>NaN</td>\n      <td>3.859663</td>\n      <td>1.751431</td>\n      <td>...</td>\n      <td>2.717189</td>\n      <td>6.862195</td>\n      <td>3.393701</td>\n      <td>0.033830</td>\n      <td>6.503594</td>\n      <td>6.455875</td>\n      <td>7.504949</td>\n      <td>0.869632</td>\n      <td>0.074488</td>\n      <td>3.087538</td>\n    </tr>\n    <tr>\n      <th>72</th>\n      <td>18</td>\n      <td>29</td>\n      <td>75.50</td>\n      <td>30.50</td>\n      <td>NaN</td>\n      <td>NaN</td>\n      <td>NaN</td>\n      <td>NaN</td>\n      <td>0.845562</td>\n      <td>1.358921</td>\n      <td>...</td>\n      <td>3.286305</td>\n      <td>4.793872</td>\n      <td>3.295513</td>\n      <td>0.000000</td>\n      <td>8.212548</td>\n      <td>4.034395</td>\n      <td>6.908857</td>\n      <td>1.851164</td>\n      <td>0.337052</td>\n      <td>0.884581</td>\n    </tr>\n    <tr>\n      <th>73</th>\n      <td>18</td>\n      <td>30</td>\n      <td>75.75</td>\n      <td>30.50</td>\n      <td>NaN</td>\n      <td>NaN</td>\n      <td>NaN</td>\n      <td>NaN</td>\n      <td>4.917675</td>\n      <td>2.260974</td>\n      <td>...</td>\n      <td>3.105711</td>\n      <td>5.156515</td>\n      <td>0.550448</td>\n      <td>0.000000</td>\n      <td>5.305318</td>\n      <td>1.825496</td>\n      <td>2.330568</td>\n      <td>1.015327</td>\n      <td>0.064138</td>\n      <td>0.142861</td>\n    </tr>\n    <tr>\n      <th>74</th>\n      <td>18</td>\n      <td>31</td>\n      <td>76.00</td>\n      <td>30.50</td>\n      <td>NaN</td>\n      <td>NaN</td>\n      <td>NaN</td>\n      <td>NaN</td>\n      <td>4.929562</td>\n      <td>2.810462</td>\n      <td>...</td>\n      <td>3.396217</td>\n      <td>5.337520</td>\n      <td>2.772603</td>\n      <td>0.005185</td>\n      <td>10.618946</td>\n      <td>8.851127</td>\n      <td>6.936213</td>\n      <td>1.477110</td>\n      <td>0.138663</td>\n      <td>2.802407</td>\n    </tr>\n  </tbody>\n</table>\n<p>75 rows × 178 columns</p>\n</div>"
     },
     "execution_count": 4,
     "metadata": {},
     "output_type": "execute_result"
    }
   ],
   "source": [
    "df"
   ],
   "metadata": {
    "collapsed": false
   }
  },
  {
   "cell_type": "code",
   "execution_count": null,
   "outputs": [],
   "source": [],
   "metadata": {
    "collapsed": false
   }
  }
 ],
 "metadata": {
  "kernelspec": {
   "display_name": "Python 3",
   "language": "python",
   "name": "python3"
  },
  "language_info": {
   "codemirror_mode": {
    "name": "ipython",
    "version": 2
   },
   "file_extension": ".py",
   "mimetype": "text/x-python",
   "name": "python",
   "nbconvert_exporter": "python",
   "pygments_lexer": "ipython2",
   "version": "2.7.6"
  }
 },
 "nbformat": 4,
 "nbformat_minor": 0
}
