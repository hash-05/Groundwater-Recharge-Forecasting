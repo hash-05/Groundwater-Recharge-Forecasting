{
 "cells": [
  {
   "cell_type": "code",
   "execution_count": 1,
   "outputs": [],
   "source": [
    "import numpy as np\n",
    "import pandas as pd\n",
    "from scipy import stats"
   ],
   "metadata": {
    "collapsed": false,
    "ExecuteTime": {
     "end_time": "2023-06-30T05:11:39.819335500Z",
     "start_time": "2023-06-30T05:11:39.788092500Z"
    }
   }
  },
  {
   "cell_type": "markdown",
   "source": [
    "## Latitude & Longitude"
   ],
   "metadata": {
    "collapsed": false
   }
  },
  {
   "cell_type": "code",
   "execution_count": 110,
   "outputs": [],
   "source": [
    "ldf = pd.read_excel(\"B:\\GroundwaterRech\\GithubRepo\\Restart\\Forecast_new\\LatLong_mapping.xlsx\")\n",
    "ldf.drop(['Unnamed: 0'], inplace=True, axis=1)"
   ],
   "metadata": {
    "collapsed": false,
    "ExecuteTime": {
     "end_time": "2023-06-30T07:16:48.751144100Z",
     "start_time": "2023-06-30T07:16:48.719365Z"
    }
   }
  },
  {
   "cell_type": "code",
   "execution_count": 111,
   "outputs": [
    {
     "data": {
      "text/plain": "    New_Longitude  New_Latitude    lon    lat\n0           74.75         31.25  74.80  31.30\n1           75.00         31.25  75.05  31.30\n2           74.75         31.50  74.80  31.55\n3           75.00         31.50  75.05  31.55\n4           75.25         31.50  75.30  31.55\n..            ...           ...    ...    ...\n60          75.75         30.25  75.80  30.30\n61          76.00         30.25  76.05  30.30\n62          75.50         30.50  75.55  30.55\n63          75.75         30.50  75.80  30.55\n64          76.00         30.50  76.05  30.55\n\n[65 rows x 4 columns]",
      "text/html": "<div>\n<style scoped>\n    .dataframe tbody tr th:only-of-type {\n        vertical-align: middle;\n    }\n\n    .dataframe tbody tr th {\n        vertical-align: top;\n    }\n\n    .dataframe thead th {\n        text-align: right;\n    }\n</style>\n<table border=\"1\" class=\"dataframe\">\n  <thead>\n    <tr style=\"text-align: right;\">\n      <th></th>\n      <th>New_Longitude</th>\n      <th>New_Latitude</th>\n      <th>lon</th>\n      <th>lat</th>\n    </tr>\n  </thead>\n  <tbody>\n    <tr>\n      <th>0</th>\n      <td>74.75</td>\n      <td>31.25</td>\n      <td>74.80</td>\n      <td>31.30</td>\n    </tr>\n    <tr>\n      <th>1</th>\n      <td>75.00</td>\n      <td>31.25</td>\n      <td>75.05</td>\n      <td>31.30</td>\n    </tr>\n    <tr>\n      <th>2</th>\n      <td>74.75</td>\n      <td>31.50</td>\n      <td>74.80</td>\n      <td>31.55</td>\n    </tr>\n    <tr>\n      <th>3</th>\n      <td>75.00</td>\n      <td>31.50</td>\n      <td>75.05</td>\n      <td>31.55</td>\n    </tr>\n    <tr>\n      <th>4</th>\n      <td>75.25</td>\n      <td>31.50</td>\n      <td>75.30</td>\n      <td>31.55</td>\n    </tr>\n    <tr>\n      <th>...</th>\n      <td>...</td>\n      <td>...</td>\n      <td>...</td>\n      <td>...</td>\n    </tr>\n    <tr>\n      <th>60</th>\n      <td>75.75</td>\n      <td>30.25</td>\n      <td>75.80</td>\n      <td>30.30</td>\n    </tr>\n    <tr>\n      <th>61</th>\n      <td>76.00</td>\n      <td>30.25</td>\n      <td>76.05</td>\n      <td>30.30</td>\n    </tr>\n    <tr>\n      <th>62</th>\n      <td>75.50</td>\n      <td>30.50</td>\n      <td>75.55</td>\n      <td>30.55</td>\n    </tr>\n    <tr>\n      <th>63</th>\n      <td>75.75</td>\n      <td>30.50</td>\n      <td>75.80</td>\n      <td>30.55</td>\n    </tr>\n    <tr>\n      <th>64</th>\n      <td>76.00</td>\n      <td>30.50</td>\n      <td>76.05</td>\n      <td>30.55</td>\n    </tr>\n  </tbody>\n</table>\n<p>65 rows × 4 columns</p>\n</div>"
     },
     "execution_count": 111,
     "metadata": {},
     "output_type": "execute_result"
    }
   ],
   "source": [
    "ldf"
   ],
   "metadata": {
    "collapsed": false,
    "ExecuteTime": {
     "end_time": "2023-06-30T07:16:49.349002400Z",
     "start_time": "2023-06-30T07:16:49.301478100Z"
    }
   }
  },
  {
   "cell_type": "code",
   "execution_count": 112,
   "outputs": [],
   "source": [
    "LATITUDES = np.array(ldf['lon'].unique())\n",
    "LONGITUDES = np.array(ldf['lat'].unique())"
   ],
   "metadata": {
    "collapsed": false,
    "ExecuteTime": {
     "end_time": "2023-06-30T07:16:56.179042500Z",
     "start_time": "2023-06-30T07:16:56.148913400Z"
    }
   }
  },
  {
   "cell_type": "markdown",
   "source": [
    "# Bias Correction"
   ],
   "metadata": {
    "collapsed": false
   }
  },
  {
   "cell_type": "code",
   "execution_count": 60,
   "outputs": [],
   "source": [
    "def mean_bias_correction(observed_data, modeled_data):\n",
    "    # Calculate the mean bias\n",
    "    mean_observed = np.mean(observed_data)\n",
    "    mean_modeled = np.mean(modeled_data)\n",
    "    bias = mean_observed - mean_modeled\n",
    "\n",
    "    # Apply the bias adjustment\n",
    "    corrected_data = modeled_data + bias\n",
    "    print(bias)\n",
    "    return corrected_data"
   ],
   "metadata": {
    "collapsed": false,
    "ExecuteTime": {
     "end_time": "2023-06-30T06:05:53.352617600Z",
     "start_time": "2023-06-30T06:05:53.332370200Z"
    }
   }
  },
  {
   "cell_type": "code",
   "execution_count": 61,
   "outputs": [],
   "source": [
    "def quantile_mapping(observed_data, modeled_data):\n",
    "    # Calculate CDFs of observed and modeled data\n",
    "    observed_cdf = np.cumsum(observed_data) / np.sum(observed_data)\n",
    "    modeled_cdf = np.cumsum(modeled_data) / np.sum(modeled_data)\n",
    "\n",
    "    # Perform quantile mapping\n",
    "    mapped_data = np.interp(modeled_cdf, observed_cdf, observed_data)\n",
    "    return mapped_data"
   ],
   "metadata": {
    "collapsed": false,
    "ExecuteTime": {
     "end_time": "2023-06-30T06:06:14.806007500Z",
     "start_time": "2023-06-30T06:06:14.806007500Z"
    }
   }
  },
  {
   "cell_type": "code",
   "execution_count": 62,
   "outputs": [],
   "source": [
    "# non parametric robust quantile mapping\n",
    "def non_param_quantile_mapping(observed_data, modeled_data):\n",
    "    reference_median = np.median(observed_data)\n",
    "    reference_iqr = stats.iqr(observed_data)\n",
    "    mapped_median = np.median(modeled_data)\n",
    "    mapped_iqr = stats.iqr(modeled_data)\n",
    "\n",
    "    reference_quantiles = stats.norm.ppf(np.linspace(0, 1, 101), loc=reference_median, scale=reference_iqr / 1.349)\n",
    "    mapped_quantiles = stats.norm.ppf(np.linspace(0, 1, 101), loc=mapped_median, scale=mapped_iqr / 1.349)\n",
    "\n",
    "    corrected_mapped_data = np.interp(modeled_data, mapped_quantiles, reference_quantiles)\n",
    "    return corrected_mapped_data"
   ],
   "metadata": {
    "collapsed": false,
    "ExecuteTime": {
     "end_time": "2023-06-30T06:06:27.453908200Z",
     "start_time": "2023-06-30T06:06:27.433581500Z"
    }
   }
  },
  {
   "cell_type": "code",
   "execution_count": 63,
   "outputs": [],
   "source": [
    "def npq_mapping(observed_data, modeled_data):\n",
    "    reference_quantiles = np.percentile(observed_data, np.linspace(0, 100, 101))\n",
    "    mapped_quantiles = np.percentile(modeled_data, np.linspace(0, 100, 101))\n",
    "    corrected_mapped_data = np.interp(modeled_data, mapped_quantiles, reference_quantiles)\n",
    "    return corrected_mapped_data"
   ],
   "metadata": {
    "collapsed": false,
    "ExecuteTime": {
     "end_time": "2023-06-30T06:06:36.207727800Z",
     "start_time": "2023-06-30T06:06:36.187382800Z"
    }
   }
  },
  {
   "cell_type": "code",
   "execution_count": 64,
   "outputs": [],
   "source": [
    "def distribution_mapping(observed_data, modeled_data):\n",
    "    reference_quantiles = np.percentile(observed_data, np.linspace(0, 100, 101))\n",
    "    mapped_quantiles = np.percentile(modeled_data, np.linspace(0, 100, 101))\n",
    "    corrected_mapped_data = np.interp(modeled_data, mapped_quantiles, reference_quantiles)\n",
    "    return corrected_mapped_data"
   ],
   "metadata": {
    "collapsed": false,
    "ExecuteTime": {
     "end_time": "2023-06-30T06:06:53.166715800Z",
     "start_time": "2023-06-30T06:06:53.154471700Z"
    }
   }
  },
  {
   "cell_type": "code",
   "execution_count": 65,
   "outputs": [],
   "source": [
    "def local_intensity_scaling(observed_data, modeled_data):\n",
    "    scaling_factor = observed_data / modeled_data\n",
    "    bias_corrected_precipitation = modeled_data * scaling_factor\n",
    "    print(scaling_factor, np.mean(scaling_factor))\n",
    "    return bias_corrected_precipitation\n"
   ],
   "metadata": {
    "collapsed": false,
    "ExecuteTime": {
     "end_time": "2023-06-30T06:07:05.154476800Z",
     "start_time": "2023-06-30T06:07:05.131677300Z"
    }
   }
  },
  {
   "cell_type": "code",
   "execution_count": 66,
   "outputs": [],
   "source": [
    "def calculate_nse(observed, predicted):\n",
    "    observed = np.array(observed)\n",
    "    predicted = np.array(predicted)\n",
    "    mean_observed = np.mean(observed)\n",
    "    sse = np.sum((observed - predicted) ** 2)\n",
    "    sv = np.sum((observed - mean_observed) ** 2)\n",
    "    nse = 1 - (sse / sv)\n",
    "    print(f'NSE: {nse}')"
   ],
   "metadata": {
    "collapsed": false,
    "ExecuteTime": {
     "end_time": "2023-06-30T06:07:14.382406200Z",
     "start_time": "2023-06-30T06:07:14.366029600Z"
    }
   }
  },
  {
   "cell_type": "markdown",
   "source": [
    "## Precipitation\n",
    "##### Historical"
   ],
   "metadata": {
    "collapsed": false
   }
  },
  {
   "cell_type": "code",
   "execution_count": 147,
   "outputs": [],
   "source": [
    "def conv_precip(df, start_year, end_year):\n",
    "    df['time'] = pd.to_datetime(df['time'])\n",
    "    df['year'] = df['time'].dt.year\n",
    "    df = df[df['time'].dt.month.between(6, 10)]\n",
    "    df = df[df['time'].dt.year.between(start_year, end_year)]\n",
    "    result = df.groupby(['lat', 'lon', 'year'])['pr'].sum().reset_index()\n",
    "    result['pr'] = (86400 * result['pr']) / 5\n",
    "    # df['month'] = df['time'].dt.month\n",
    "    # avg_monthly_temp = df.groupby(['lat', 'lon', 'year'])['pr'].mean().reset_index()\n",
    "    merged_df = ldf.merge(result, on=['lon', 'lat'], how='left')\n",
    "    pivot_df = merged_df.pivot(index=['New_Latitude', 'New_Longitude'], columns='year', values='pr').reset_index()\n",
    "    return pivot_df"
   ],
   "metadata": {
    "collapsed": false,
    "ExecuteTime": {
     "end_time": "2023-06-30T09:15:02.612525400Z",
     "start_time": "2023-06-30T09:15:02.581283100Z"
    }
   }
  },
  {
   "cell_type": "code",
   "execution_count": 149,
   "outputs": [
    {
     "data": {
      "text/plain": "year  New_Latitude  New_Longitude       1986       1987       1988       1989  \\\n0            29.75          75.25  55.305527  44.197033  41.181970  44.574903   \n1            29.75          76.00  69.139285  55.781457  49.902087  49.923606   \n2            30.00          74.75  47.457414  37.082299  34.359797  39.745148   \n3            30.00          75.00  48.997724  38.250173  35.072353  40.473921   \n4            30.00          75.25  54.616990  43.378701  39.129151  43.330003   \n..             ...            ...        ...        ...        ...        ...   \n60           32.00          75.00  53.844115  49.845330  41.161282  37.787706   \n61           32.00          75.25  55.253140  51.052919  42.575997  43.545687   \n62           32.00          75.50  56.662165  52.260508  43.990712  49.303667   \n63           32.00          75.75  58.071191  53.468097  45.405427  55.061648   \n64           32.25          75.50  54.312582  55.613767  48.929233  50.070137   \n\nyear       1990       1991       1992       1993  ...       2005       2006  \\\n0     36.993112  43.369195  50.767606  65.745030  ...  43.220520  53.354416   \n1     58.058920  64.614318  65.785716  83.791145  ...  50.974307  69.032763   \n2     26.845057  32.008821  41.272354  57.040431  ...  40.278921  43.465178   \n3     28.782369  34.167767  43.334149  58.751364  ...  41.987177  45.507090   \n4     37.125974  42.845308  49.860564  66.754153  ...  45.451580  52.749246   \n..          ...        ...        ...        ...  ...        ...        ...   \n60    48.298174  52.628881  46.552825  91.926430  ...  56.330707  43.290823   \n61    48.260862  59.906883  49.050468  91.131603  ...  58.649986  45.843549   \n62    48.223550  67.184884  51.548112  90.336776  ...  60.969265  48.396275   \n63    48.186237  74.462886  54.045755  89.541949  ...  63.288545  50.949001   \n64    52.090849  76.489153  57.392703  96.074321  ...  69.193521  50.001373   \n\nyear       2007       2008       2009       2010       2011       2012  \\\n0     63.909463  65.035362  21.743422  61.500116  38.119362  53.153770   \n1     79.742823  82.207219  26.470188  86.473225  53.407016  62.853917   \n2     56.145299  57.672667  18.401412  44.616281  28.528678  47.656226   \n3     57.533638  58.991175  18.865833  47.743339  30.404040  49.202131   \n4     64.323512  66.565109  21.143854  59.071580  37.272781  53.615025   \n..          ...        ...        ...        ...        ...        ...   \n60    81.172200  89.593534  16.613050  42.781700  53.931237  59.108375   \n61    80.150102  87.335237  18.826974  52.224097  54.122034  58.515388   \n62    79.128003  85.076941  21.040898  61.666493  54.312830  57.922401   \n63    78.105905  82.818644  23.254822  71.108889  54.503627  57.329413   \n64    78.573197  90.275456  25.352944  64.170955  61.551919  64.609787   \n\nyear       2013       2014  \n0     52.600637  67.856884  \n1     65.645310  89.659905  \n2     45.724909  56.431510  \n3     46.757545  58.152887  \n4     52.742813  68.125707  \n..          ...        ...  \n60    77.976837  97.232573  \n61    78.180403  93.844463  \n62    78.383969  90.456352  \n63    78.587535  87.068241  \n64    85.016579  94.190267  \n\n[65 rows x 31 columns]",
      "text/html": "<div>\n<style scoped>\n    .dataframe tbody tr th:only-of-type {\n        vertical-align: middle;\n    }\n\n    .dataframe tbody tr th {\n        vertical-align: top;\n    }\n\n    .dataframe thead th {\n        text-align: right;\n    }\n</style>\n<table border=\"1\" class=\"dataframe\">\n  <thead>\n    <tr style=\"text-align: right;\">\n      <th>year</th>\n      <th>New_Latitude</th>\n      <th>New_Longitude</th>\n      <th>1986</th>\n      <th>1987</th>\n      <th>1988</th>\n      <th>1989</th>\n      <th>1990</th>\n      <th>1991</th>\n      <th>1992</th>\n      <th>1993</th>\n      <th>...</th>\n      <th>2005</th>\n      <th>2006</th>\n      <th>2007</th>\n      <th>2008</th>\n      <th>2009</th>\n      <th>2010</th>\n      <th>2011</th>\n      <th>2012</th>\n      <th>2013</th>\n      <th>2014</th>\n    </tr>\n  </thead>\n  <tbody>\n    <tr>\n      <th>0</th>\n      <td>29.75</td>\n      <td>75.25</td>\n      <td>55.305527</td>\n      <td>44.197033</td>\n      <td>41.181970</td>\n      <td>44.574903</td>\n      <td>36.993112</td>\n      <td>43.369195</td>\n      <td>50.767606</td>\n      <td>65.745030</td>\n      <td>...</td>\n      <td>43.220520</td>\n      <td>53.354416</td>\n      <td>63.909463</td>\n      <td>65.035362</td>\n      <td>21.743422</td>\n      <td>61.500116</td>\n      <td>38.119362</td>\n      <td>53.153770</td>\n      <td>52.600637</td>\n      <td>67.856884</td>\n    </tr>\n    <tr>\n      <th>1</th>\n      <td>29.75</td>\n      <td>76.00</td>\n      <td>69.139285</td>\n      <td>55.781457</td>\n      <td>49.902087</td>\n      <td>49.923606</td>\n      <td>58.058920</td>\n      <td>64.614318</td>\n      <td>65.785716</td>\n      <td>83.791145</td>\n      <td>...</td>\n      <td>50.974307</td>\n      <td>69.032763</td>\n      <td>79.742823</td>\n      <td>82.207219</td>\n      <td>26.470188</td>\n      <td>86.473225</td>\n      <td>53.407016</td>\n      <td>62.853917</td>\n      <td>65.645310</td>\n      <td>89.659905</td>\n    </tr>\n    <tr>\n      <th>2</th>\n      <td>30.00</td>\n      <td>74.75</td>\n      <td>47.457414</td>\n      <td>37.082299</td>\n      <td>34.359797</td>\n      <td>39.745148</td>\n      <td>26.845057</td>\n      <td>32.008821</td>\n      <td>41.272354</td>\n      <td>57.040431</td>\n      <td>...</td>\n      <td>40.278921</td>\n      <td>43.465178</td>\n      <td>56.145299</td>\n      <td>57.672667</td>\n      <td>18.401412</td>\n      <td>44.616281</td>\n      <td>28.528678</td>\n      <td>47.656226</td>\n      <td>45.724909</td>\n      <td>56.431510</td>\n    </tr>\n    <tr>\n      <th>3</th>\n      <td>30.00</td>\n      <td>75.00</td>\n      <td>48.997724</td>\n      <td>38.250173</td>\n      <td>35.072353</td>\n      <td>40.473921</td>\n      <td>28.782369</td>\n      <td>34.167767</td>\n      <td>43.334149</td>\n      <td>58.751364</td>\n      <td>...</td>\n      <td>41.987177</td>\n      <td>45.507090</td>\n      <td>57.533638</td>\n      <td>58.991175</td>\n      <td>18.865833</td>\n      <td>47.743339</td>\n      <td>30.404040</td>\n      <td>49.202131</td>\n      <td>46.757545</td>\n      <td>58.152887</td>\n    </tr>\n    <tr>\n      <th>4</th>\n      <td>30.00</td>\n      <td>75.25</td>\n      <td>54.616990</td>\n      <td>43.378701</td>\n      <td>39.129151</td>\n      <td>43.330003</td>\n      <td>37.125974</td>\n      <td>42.845308</td>\n      <td>49.860564</td>\n      <td>66.754153</td>\n      <td>...</td>\n      <td>45.451580</td>\n      <td>52.749246</td>\n      <td>64.323512</td>\n      <td>66.565109</td>\n      <td>21.143854</td>\n      <td>59.071580</td>\n      <td>37.272781</td>\n      <td>53.615025</td>\n      <td>52.742813</td>\n      <td>68.125707</td>\n    </tr>\n    <tr>\n      <th>...</th>\n      <td>...</td>\n      <td>...</td>\n      <td>...</td>\n      <td>...</td>\n      <td>...</td>\n      <td>...</td>\n      <td>...</td>\n      <td>...</td>\n      <td>...</td>\n      <td>...</td>\n      <td>...</td>\n      <td>...</td>\n      <td>...</td>\n      <td>...</td>\n      <td>...</td>\n      <td>...</td>\n      <td>...</td>\n      <td>...</td>\n      <td>...</td>\n      <td>...</td>\n      <td>...</td>\n    </tr>\n    <tr>\n      <th>60</th>\n      <td>32.00</td>\n      <td>75.00</td>\n      <td>53.844115</td>\n      <td>49.845330</td>\n      <td>41.161282</td>\n      <td>37.787706</td>\n      <td>48.298174</td>\n      <td>52.628881</td>\n      <td>46.552825</td>\n      <td>91.926430</td>\n      <td>...</td>\n      <td>56.330707</td>\n      <td>43.290823</td>\n      <td>81.172200</td>\n      <td>89.593534</td>\n      <td>16.613050</td>\n      <td>42.781700</td>\n      <td>53.931237</td>\n      <td>59.108375</td>\n      <td>77.976837</td>\n      <td>97.232573</td>\n    </tr>\n    <tr>\n      <th>61</th>\n      <td>32.00</td>\n      <td>75.25</td>\n      <td>55.253140</td>\n      <td>51.052919</td>\n      <td>42.575997</td>\n      <td>43.545687</td>\n      <td>48.260862</td>\n      <td>59.906883</td>\n      <td>49.050468</td>\n      <td>91.131603</td>\n      <td>...</td>\n      <td>58.649986</td>\n      <td>45.843549</td>\n      <td>80.150102</td>\n      <td>87.335237</td>\n      <td>18.826974</td>\n      <td>52.224097</td>\n      <td>54.122034</td>\n      <td>58.515388</td>\n      <td>78.180403</td>\n      <td>93.844463</td>\n    </tr>\n    <tr>\n      <th>62</th>\n      <td>32.00</td>\n      <td>75.50</td>\n      <td>56.662165</td>\n      <td>52.260508</td>\n      <td>43.990712</td>\n      <td>49.303667</td>\n      <td>48.223550</td>\n      <td>67.184884</td>\n      <td>51.548112</td>\n      <td>90.336776</td>\n      <td>...</td>\n      <td>60.969265</td>\n      <td>48.396275</td>\n      <td>79.128003</td>\n      <td>85.076941</td>\n      <td>21.040898</td>\n      <td>61.666493</td>\n      <td>54.312830</td>\n      <td>57.922401</td>\n      <td>78.383969</td>\n      <td>90.456352</td>\n    </tr>\n    <tr>\n      <th>63</th>\n      <td>32.00</td>\n      <td>75.75</td>\n      <td>58.071191</td>\n      <td>53.468097</td>\n      <td>45.405427</td>\n      <td>55.061648</td>\n      <td>48.186237</td>\n      <td>74.462886</td>\n      <td>54.045755</td>\n      <td>89.541949</td>\n      <td>...</td>\n      <td>63.288545</td>\n      <td>50.949001</td>\n      <td>78.105905</td>\n      <td>82.818644</td>\n      <td>23.254822</td>\n      <td>71.108889</td>\n      <td>54.503627</td>\n      <td>57.329413</td>\n      <td>78.587535</td>\n      <td>87.068241</td>\n    </tr>\n    <tr>\n      <th>64</th>\n      <td>32.25</td>\n      <td>75.50</td>\n      <td>54.312582</td>\n      <td>55.613767</td>\n      <td>48.929233</td>\n      <td>50.070137</td>\n      <td>52.090849</td>\n      <td>76.489153</td>\n      <td>57.392703</td>\n      <td>96.074321</td>\n      <td>...</td>\n      <td>69.193521</td>\n      <td>50.001373</td>\n      <td>78.573197</td>\n      <td>90.275456</td>\n      <td>25.352944</td>\n      <td>64.170955</td>\n      <td>61.551919</td>\n      <td>64.609787</td>\n      <td>85.016579</td>\n      <td>94.190267</td>\n    </tr>\n  </tbody>\n</table>\n<p>65 rows × 31 columns</p>\n</div>"
     },
     "execution_count": 149,
     "metadata": {},
     "output_type": "execute_result"
    }
   ],
   "source": [
    "df = pd.read_csv(\"B:\\GroundwaterRech\\GithubRepo\\Restart\\Dataset\\historical\\historical\\pr.csv\")\n",
    "df.drop(['Unnamed: 0'], inplace=True, axis=1)\n",
    "conv_df = conv_precip(df, 1986, 2015)\n",
    "conv_df"
   ],
   "metadata": {
    "collapsed": false,
    "ExecuteTime": {
     "end_time": "2023-06-30T09:16:06.153050700Z",
     "start_time": "2023-06-30T09:16:04.525506400Z"
    }
   }
  },
  {
   "cell_type": "markdown",
   "source": [
    "##### Forcasted PR"
   ],
   "metadata": {
    "collapsed": false
   }
  },
  {
   "cell_type": "code",
   "execution_count": 151,
   "outputs": [
    {
     "data": {
      "text/plain": "year  New_Latitude  New_Longitude       2020       2021       2022       2023  \\\n0            29.75          75.25  34.128848  57.390215  45.999076  57.278152   \n1            29.75          76.00  45.305026  69.708367  56.665623  73.792224   \n2            30.00          74.75  26.945124  50.502757  38.228411  48.838723   \n3            30.00          75.00  28.073660  52.077518  40.318053  50.636100   \n4            30.00          75.25  33.034581  58.042674  45.412354  58.047304   \n..             ...            ...        ...        ...        ...        ...   \n60           32.00          75.00  32.930563  79.939319  52.448432  81.797791   \n61           32.00          75.25  36.292687  82.644371  53.710920  80.760833   \n62           32.00          75.50  39.654811  85.349423  54.973408  79.723874   \n63           32.00          75.75  43.016935  88.054474  56.235896  78.686916   \n64           32.25          75.50  45.317085  91.426345  59.571105  82.212338   \n\nyear        2024       2025       2026       2027       2028       2029  \\\n0      61.529762  34.517298  49.260005  56.382877  54.464653  69.381700   \n1      73.844339  36.878286  63.278110  76.876443  66.315481  79.168259   \n2      54.071771  31.428321  41.992901  45.138257  48.724162  64.911190   \n3      55.687502  31.738523  43.923193  47.504836  50.219763  68.607793   \n4      61.113456  33.044409  50.416799  56.626991  55.821922  73.582706   \n..           ...        ...        ...        ...        ...        ...   \n60     93.282329  29.533070  72.044680  78.634200  58.342655  55.511599   \n61     95.475858  31.680330  69.598578  80.587898  60.637995  57.944059   \n62     97.669386  33.827590  67.152476  82.541597  62.933335  60.376520   \n63     99.862915  35.974849  64.706375  84.495295  65.228675  62.808980   \n64    107.903445  37.546899  66.145808  90.175998  71.399727  66.666777   \n\nyear       2030       2031       2032       2033       2034       2035  \n0     49.610066  58.560142  52.897555  56.530459  69.566694  60.509610  \n1     59.703003  73.638028  59.702633  75.848994  92.467179  79.088390  \n2     42.022072  52.439404  50.068805  44.901912  58.592399  50.537179  \n3     43.589903  54.799492  52.313836  47.084491  61.484115  53.389154  \n4     48.386407  61.458305  55.544467  55.340740  72.164651  61.887421  \n..          ...        ...        ...        ...        ...        ...  \n60    66.578201  79.311571  50.761262  56.861717  97.953719  66.533026  \n61    66.865035  77.842493  52.083485  56.945882  94.741718  67.617312  \n62    67.151869  76.373415  53.405707  57.030046  91.529717  68.701598  \n63    67.438703  74.904338  54.727930  57.114211  88.317716  69.785884  \n64    74.430791  82.720009  56.370786  58.680373  96.422230  74.936799  \n\n[65 rows x 18 columns]",
      "text/html": "<div>\n<style scoped>\n    .dataframe tbody tr th:only-of-type {\n        vertical-align: middle;\n    }\n\n    .dataframe tbody tr th {\n        vertical-align: top;\n    }\n\n    .dataframe thead th {\n        text-align: right;\n    }\n</style>\n<table border=\"1\" class=\"dataframe\">\n  <thead>\n    <tr style=\"text-align: right;\">\n      <th>year</th>\n      <th>New_Latitude</th>\n      <th>New_Longitude</th>\n      <th>2020</th>\n      <th>2021</th>\n      <th>2022</th>\n      <th>2023</th>\n      <th>2024</th>\n      <th>2025</th>\n      <th>2026</th>\n      <th>2027</th>\n      <th>2028</th>\n      <th>2029</th>\n      <th>2030</th>\n      <th>2031</th>\n      <th>2032</th>\n      <th>2033</th>\n      <th>2034</th>\n      <th>2035</th>\n    </tr>\n  </thead>\n  <tbody>\n    <tr>\n      <th>0</th>\n      <td>29.75</td>\n      <td>75.25</td>\n      <td>34.128848</td>\n      <td>57.390215</td>\n      <td>45.999076</td>\n      <td>57.278152</td>\n      <td>61.529762</td>\n      <td>34.517298</td>\n      <td>49.260005</td>\n      <td>56.382877</td>\n      <td>54.464653</td>\n      <td>69.381700</td>\n      <td>49.610066</td>\n      <td>58.560142</td>\n      <td>52.897555</td>\n      <td>56.530459</td>\n      <td>69.566694</td>\n      <td>60.509610</td>\n    </tr>\n    <tr>\n      <th>1</th>\n      <td>29.75</td>\n      <td>76.00</td>\n      <td>45.305026</td>\n      <td>69.708367</td>\n      <td>56.665623</td>\n      <td>73.792224</td>\n      <td>73.844339</td>\n      <td>36.878286</td>\n      <td>63.278110</td>\n      <td>76.876443</td>\n      <td>66.315481</td>\n      <td>79.168259</td>\n      <td>59.703003</td>\n      <td>73.638028</td>\n      <td>59.702633</td>\n      <td>75.848994</td>\n      <td>92.467179</td>\n      <td>79.088390</td>\n    </tr>\n    <tr>\n      <th>2</th>\n      <td>30.00</td>\n      <td>74.75</td>\n      <td>26.945124</td>\n      <td>50.502757</td>\n      <td>38.228411</td>\n      <td>48.838723</td>\n      <td>54.071771</td>\n      <td>31.428321</td>\n      <td>41.992901</td>\n      <td>45.138257</td>\n      <td>48.724162</td>\n      <td>64.911190</td>\n      <td>42.022072</td>\n      <td>52.439404</td>\n      <td>50.068805</td>\n      <td>44.901912</td>\n      <td>58.592399</td>\n      <td>50.537179</td>\n    </tr>\n    <tr>\n      <th>3</th>\n      <td>30.00</td>\n      <td>75.00</td>\n      <td>28.073660</td>\n      <td>52.077518</td>\n      <td>40.318053</td>\n      <td>50.636100</td>\n      <td>55.687502</td>\n      <td>31.738523</td>\n      <td>43.923193</td>\n      <td>47.504836</td>\n      <td>50.219763</td>\n      <td>68.607793</td>\n      <td>43.589903</td>\n      <td>54.799492</td>\n      <td>52.313836</td>\n      <td>47.084491</td>\n      <td>61.484115</td>\n      <td>53.389154</td>\n    </tr>\n    <tr>\n      <th>4</th>\n      <td>30.00</td>\n      <td>75.25</td>\n      <td>33.034581</td>\n      <td>58.042674</td>\n      <td>45.412354</td>\n      <td>58.047304</td>\n      <td>61.113456</td>\n      <td>33.044409</td>\n      <td>50.416799</td>\n      <td>56.626991</td>\n      <td>55.821922</td>\n      <td>73.582706</td>\n      <td>48.386407</td>\n      <td>61.458305</td>\n      <td>55.544467</td>\n      <td>55.340740</td>\n      <td>72.164651</td>\n      <td>61.887421</td>\n    </tr>\n    <tr>\n      <th>...</th>\n      <td>...</td>\n      <td>...</td>\n      <td>...</td>\n      <td>...</td>\n      <td>...</td>\n      <td>...</td>\n      <td>...</td>\n      <td>...</td>\n      <td>...</td>\n      <td>...</td>\n      <td>...</td>\n      <td>...</td>\n      <td>...</td>\n      <td>...</td>\n      <td>...</td>\n      <td>...</td>\n      <td>...</td>\n      <td>...</td>\n    </tr>\n    <tr>\n      <th>60</th>\n      <td>32.00</td>\n      <td>75.00</td>\n      <td>32.930563</td>\n      <td>79.939319</td>\n      <td>52.448432</td>\n      <td>81.797791</td>\n      <td>93.282329</td>\n      <td>29.533070</td>\n      <td>72.044680</td>\n      <td>78.634200</td>\n      <td>58.342655</td>\n      <td>55.511599</td>\n      <td>66.578201</td>\n      <td>79.311571</td>\n      <td>50.761262</td>\n      <td>56.861717</td>\n      <td>97.953719</td>\n      <td>66.533026</td>\n    </tr>\n    <tr>\n      <th>61</th>\n      <td>32.00</td>\n      <td>75.25</td>\n      <td>36.292687</td>\n      <td>82.644371</td>\n      <td>53.710920</td>\n      <td>80.760833</td>\n      <td>95.475858</td>\n      <td>31.680330</td>\n      <td>69.598578</td>\n      <td>80.587898</td>\n      <td>60.637995</td>\n      <td>57.944059</td>\n      <td>66.865035</td>\n      <td>77.842493</td>\n      <td>52.083485</td>\n      <td>56.945882</td>\n      <td>94.741718</td>\n      <td>67.617312</td>\n    </tr>\n    <tr>\n      <th>62</th>\n      <td>32.00</td>\n      <td>75.50</td>\n      <td>39.654811</td>\n      <td>85.349423</td>\n      <td>54.973408</td>\n      <td>79.723874</td>\n      <td>97.669386</td>\n      <td>33.827590</td>\n      <td>67.152476</td>\n      <td>82.541597</td>\n      <td>62.933335</td>\n      <td>60.376520</td>\n      <td>67.151869</td>\n      <td>76.373415</td>\n      <td>53.405707</td>\n      <td>57.030046</td>\n      <td>91.529717</td>\n      <td>68.701598</td>\n    </tr>\n    <tr>\n      <th>63</th>\n      <td>32.00</td>\n      <td>75.75</td>\n      <td>43.016935</td>\n      <td>88.054474</td>\n      <td>56.235896</td>\n      <td>78.686916</td>\n      <td>99.862915</td>\n      <td>35.974849</td>\n      <td>64.706375</td>\n      <td>84.495295</td>\n      <td>65.228675</td>\n      <td>62.808980</td>\n      <td>67.438703</td>\n      <td>74.904338</td>\n      <td>54.727930</td>\n      <td>57.114211</td>\n      <td>88.317716</td>\n      <td>69.785884</td>\n    </tr>\n    <tr>\n      <th>64</th>\n      <td>32.25</td>\n      <td>75.50</td>\n      <td>45.317085</td>\n      <td>91.426345</td>\n      <td>59.571105</td>\n      <td>82.212338</td>\n      <td>107.903445</td>\n      <td>37.546899</td>\n      <td>66.145808</td>\n      <td>90.175998</td>\n      <td>71.399727</td>\n      <td>66.666777</td>\n      <td>74.430791</td>\n      <td>82.720009</td>\n      <td>56.370786</td>\n      <td>58.680373</td>\n      <td>96.422230</td>\n      <td>74.936799</td>\n    </tr>\n  </tbody>\n</table>\n<p>65 rows × 18 columns</p>\n</div>"
     },
     "execution_count": 151,
     "metadata": {},
     "output_type": "execute_result"
    }
   ],
   "source": [
    "df2 = pd.read_csv(\n",
    "    \"B:\\GroundwaterRech\\GithubRepo\\Restart\\Dataset\\Final forecasted data 2020-2040\\Final forecasted data 2020-2040\\SSP126\\pr.csv\")\n",
    "df2.drop(['Unnamed: 0'], inplace=True, axis=1)\n",
    "conv_df = conv_precip(df2, 2020, 2035)\n",
    "conv_df"
   ],
   "metadata": {
    "collapsed": false,
    "ExecuteTime": {
     "end_time": "2023-06-30T09:19:24.335607400Z",
     "start_time": "2023-06-30T09:19:21.148846400Z"
    }
   }
  },
  {
   "cell_type": "code",
   "execution_count": 152,
   "outputs": [],
   "source": [
    "conv_df.to_csv('B:\\GroundwaterRech\\GithubRepo\\Restart\\Forecast_new\\SSP126\\pet_SSP126.csv\\pr_SSP126.csv', index=False)"
   ],
   "metadata": {
    "collapsed": false,
    "ExecuteTime": {
     "end_time": "2023-06-30T09:20:15.678142200Z",
     "start_time": "2023-06-30T09:20:15.631277500Z"
    }
   }
  },
  {
   "cell_type": "markdown",
   "source": [
    "# Temperature"
   ],
   "metadata": {
    "collapsed": false
   }
  },
  {
   "cell_type": "markdown",
   "source": [
    "### Min"
   ],
   "metadata": {
    "collapsed": false
   }
  },
  {
   "cell_type": "code",
   "execution_count": 137,
   "outputs": [],
   "source": [
    "# def conv_temp(df, start_year, end_year,var):\n",
    "#     df['tasmin'] = df['tasmin'] - 273.15\n",
    "#     df['time'] = pd.to_datetime(df['time'])\n",
    "#     df['year'] = df['time'].dt.year\n",
    "#     df = df[df['time'].dt.month.between(6, 10)]\n",
    "#     df = df[df['time'].dt.year.between(start_year, end_year)]\n",
    "#     df['month'] = df['time'].dt.month\n",
    "#     avg_monthly_temp = df.groupby(['lat', 'lon', 'year'])['tasmin'].mean().reset_index()\n",
    "#     merged_df = ldf.merge(avg_monthly_temp, on=['lon', 'lat'], how='left')\n",
    "#     pivot_df = merged_df.pivot(index=['New_Latitude', 'New_Longitude'], columns='year', values='tasmin').reset_index()\n",
    "#     return pivot_df"
   ],
   "metadata": {
    "collapsed": false,
    "ExecuteTime": {
     "end_time": "2023-06-30T08:02:59.687648700Z",
     "start_time": "2023-06-30T08:02:59.656406Z"
    }
   }
  },
  {
   "cell_type": "code",
   "execution_count": 138,
   "outputs": [],
   "source": [
    "def conv_temp(df, start_year, end_year, var):\n",
    "    df[var] = df[var] - 273.15\n",
    "    df['time'] = pd.to_datetime(df['time'])\n",
    "    df['year'] = df['time'].dt.year\n",
    "    df = df[df['time'].dt.month.between(6, 10)]\n",
    "    df = df[df['time'].dt.year.between(start_year, end_year)]\n",
    "    df['month'] = df['time'].dt.month\n",
    "    avg_monthly_temp = df.groupby(['lat', 'lon', 'year'])[var].mean().reset_index()\n",
    "    merged_df = ldf.merge(avg_monthly_temp, on=['lon', 'lat'], how='left')\n",
    "    pivot_df = merged_df.pivot(index=['New_Latitude', 'New_Longitude'], columns='year', values=var).reset_index()\n",
    "    return pivot_df"
   ],
   "metadata": {
    "collapsed": false,
    "ExecuteTime": {
     "end_time": "2023-06-30T08:03:34.986250200Z",
     "start_time": "2023-06-30T08:03:34.962622400Z"
    }
   }
  },
  {
   "cell_type": "code",
   "execution_count": 131,
   "outputs": [],
   "source": [
    "df = pd.read_csv(\"B:\\GroundwaterRech\\GithubRepo\\Restart\\Dataset\\historical\\historical\\\\tmin.csv\")\n",
    "df.drop(['Unnamed: 0'], inplace=True, axis=1)\n",
    "df.drop(['height'], inplace=True, axis=1)"
   ],
   "metadata": {
    "collapsed": false,
    "ExecuteTime": {
     "end_time": "2023-06-30T07:51:34.836153500Z",
     "start_time": "2023-06-30T07:51:33.829648400Z"
    }
   }
  },
  {
   "cell_type": "code",
   "execution_count": 132,
   "outputs": [
    {
     "data": {
      "text/plain": "year  New_Latitude  New_Longitude       1986       1987       1988       1989  \\\n0            29.75          75.25  22.439344  24.513336  24.307088  23.850769   \n1            29.75          76.00  21.443014  23.402657  23.255385  22.861304   \n2            30.00          74.75  23.054161  25.170250  24.981491  24.496934   \n3            30.00          75.00  22.892178  25.003719  24.834241  24.304428   \n4            30.00          75.25  22.449356  24.507631  24.359121  23.838091   \n..             ...            ...        ...        ...        ...        ...   \n60           32.00          75.00  18.078937  20.046645  19.614374  18.795204   \n61           32.00          75.25  16.052225  17.943380  17.464985  16.710553   \n62           32.00          75.50  14.025514  15.840116  15.315596  14.625901   \n63           32.00          75.75  11.998802  13.736852  13.166207  12.541250   \n64           32.25          75.50  11.666903  13.467656  12.886833  12.241471   \n\nyear       1990       1991       1992       1993  ...       2005       2006  \\\n0     23.990606  24.857390  23.531693  23.679141  ...  24.731911  24.992275   \n1     22.875722  23.537318  22.383965  22.707421  ...  23.597052  23.904525   \n2     24.615631  25.595016  24.292014  24.233603  ...  25.388073  25.568388   \n3     24.482862  25.441842  24.080250  24.101059  ...  25.194468  25.426449   \n4     23.968899  24.880342  23.577837  23.681398  ...  24.707511  24.958772   \n..          ...        ...        ...        ...  ...        ...        ...   \n60    18.780391  19.947808  19.245566  19.935117  ...  20.156663  20.426828   \n61    16.681903  17.826780  17.147402  17.896313  ...  18.054463  18.337104   \n62    14.583414  15.705751  15.049238  15.857509  ...  15.952264  16.247380   \n63    12.484926  13.584723  12.951074  13.818704  ...  13.850064  14.157656   \n64    12.275958  13.307006  12.721776  13.693791  ...  13.701781  13.946480   \n\nyear       2007       2008       2009       2010       2011       2012  \\\n0     24.594872  23.328115  25.335285  24.709703  24.875445  24.320486   \n1     23.740684  22.328488  24.180143  23.674380  23.693306  23.194393   \n2     25.159264  23.887280  25.939220  25.387846  25.692841  24.972548   \n3     25.052097  23.733018  25.804889  25.229370  25.518824  24.807497   \n4     24.650361  23.299063  25.295115  24.768298  24.992627  24.322387   \n..          ...        ...        ...        ...        ...        ...   \n60    20.437692  19.062365  20.376230  20.193189  20.367155  19.910701   \n61    18.415430  17.080730  18.227325  18.070100  18.266324  17.830848   \n62    16.393169  15.099095  16.078421  15.947010  16.165492  15.750995   \n63    14.370908  13.117460  13.929516  13.823920  14.064661  13.671143   \n64    14.128837  12.961928  13.769524  13.589445  13.925774  13.471329   \n\nyear       2013       2014  \n0     24.376478  24.051829  \n1     23.418491  23.241828  \n2     25.008839  24.596393  \n3     24.838847  24.483811  \n4     24.397749  24.107134  \n..          ...        ...  \n60    20.141071  20.386807  \n61    18.100132  18.388927  \n62    16.059192  16.391047  \n63    14.018252  14.393167  \n64    13.837527  14.270355  \n\n[65 rows x 31 columns]",
      "text/html": "<div>\n<style scoped>\n    .dataframe tbody tr th:only-of-type {\n        vertical-align: middle;\n    }\n\n    .dataframe tbody tr th {\n        vertical-align: top;\n    }\n\n    .dataframe thead th {\n        text-align: right;\n    }\n</style>\n<table border=\"1\" class=\"dataframe\">\n  <thead>\n    <tr style=\"text-align: right;\">\n      <th>year</th>\n      <th>New_Latitude</th>\n      <th>New_Longitude</th>\n      <th>1986</th>\n      <th>1987</th>\n      <th>1988</th>\n      <th>1989</th>\n      <th>1990</th>\n      <th>1991</th>\n      <th>1992</th>\n      <th>1993</th>\n      <th>...</th>\n      <th>2005</th>\n      <th>2006</th>\n      <th>2007</th>\n      <th>2008</th>\n      <th>2009</th>\n      <th>2010</th>\n      <th>2011</th>\n      <th>2012</th>\n      <th>2013</th>\n      <th>2014</th>\n    </tr>\n  </thead>\n  <tbody>\n    <tr>\n      <th>0</th>\n      <td>29.75</td>\n      <td>75.25</td>\n      <td>22.439344</td>\n      <td>24.513336</td>\n      <td>24.307088</td>\n      <td>23.850769</td>\n      <td>23.990606</td>\n      <td>24.857390</td>\n      <td>23.531693</td>\n      <td>23.679141</td>\n      <td>...</td>\n      <td>24.731911</td>\n      <td>24.992275</td>\n      <td>24.594872</td>\n      <td>23.328115</td>\n      <td>25.335285</td>\n      <td>24.709703</td>\n      <td>24.875445</td>\n      <td>24.320486</td>\n      <td>24.376478</td>\n      <td>24.051829</td>\n    </tr>\n    <tr>\n      <th>1</th>\n      <td>29.75</td>\n      <td>76.00</td>\n      <td>21.443014</td>\n      <td>23.402657</td>\n      <td>23.255385</td>\n      <td>22.861304</td>\n      <td>22.875722</td>\n      <td>23.537318</td>\n      <td>22.383965</td>\n      <td>22.707421</td>\n      <td>...</td>\n      <td>23.597052</td>\n      <td>23.904525</td>\n      <td>23.740684</td>\n      <td>22.328488</td>\n      <td>24.180143</td>\n      <td>23.674380</td>\n      <td>23.693306</td>\n      <td>23.194393</td>\n      <td>23.418491</td>\n      <td>23.241828</td>\n    </tr>\n    <tr>\n      <th>2</th>\n      <td>30.00</td>\n      <td>74.75</td>\n      <td>23.054161</td>\n      <td>25.170250</td>\n      <td>24.981491</td>\n      <td>24.496934</td>\n      <td>24.615631</td>\n      <td>25.595016</td>\n      <td>24.292014</td>\n      <td>24.233603</td>\n      <td>...</td>\n      <td>25.388073</td>\n      <td>25.568388</td>\n      <td>25.159264</td>\n      <td>23.887280</td>\n      <td>25.939220</td>\n      <td>25.387846</td>\n      <td>25.692841</td>\n      <td>24.972548</td>\n      <td>25.008839</td>\n      <td>24.596393</td>\n    </tr>\n    <tr>\n      <th>3</th>\n      <td>30.00</td>\n      <td>75.00</td>\n      <td>22.892178</td>\n      <td>25.003719</td>\n      <td>24.834241</td>\n      <td>24.304428</td>\n      <td>24.482862</td>\n      <td>25.441842</td>\n      <td>24.080250</td>\n      <td>24.101059</td>\n      <td>...</td>\n      <td>25.194468</td>\n      <td>25.426449</td>\n      <td>25.052097</td>\n      <td>23.733018</td>\n      <td>25.804889</td>\n      <td>25.229370</td>\n      <td>25.518824</td>\n      <td>24.807497</td>\n      <td>24.838847</td>\n      <td>24.483811</td>\n    </tr>\n    <tr>\n      <th>4</th>\n      <td>30.00</td>\n      <td>75.25</td>\n      <td>22.449356</td>\n      <td>24.507631</td>\n      <td>24.359121</td>\n      <td>23.838091</td>\n      <td>23.968899</td>\n      <td>24.880342</td>\n      <td>23.577837</td>\n      <td>23.681398</td>\n      <td>...</td>\n      <td>24.707511</td>\n      <td>24.958772</td>\n      <td>24.650361</td>\n      <td>23.299063</td>\n      <td>25.295115</td>\n      <td>24.768298</td>\n      <td>24.992627</td>\n      <td>24.322387</td>\n      <td>24.397749</td>\n      <td>24.107134</td>\n    </tr>\n    <tr>\n      <th>...</th>\n      <td>...</td>\n      <td>...</td>\n      <td>...</td>\n      <td>...</td>\n      <td>...</td>\n      <td>...</td>\n      <td>...</td>\n      <td>...</td>\n      <td>...</td>\n      <td>...</td>\n      <td>...</td>\n      <td>...</td>\n      <td>...</td>\n      <td>...</td>\n      <td>...</td>\n      <td>...</td>\n      <td>...</td>\n      <td>...</td>\n      <td>...</td>\n      <td>...</td>\n      <td>...</td>\n    </tr>\n    <tr>\n      <th>60</th>\n      <td>32.00</td>\n      <td>75.00</td>\n      <td>18.078937</td>\n      <td>20.046645</td>\n      <td>19.614374</td>\n      <td>18.795204</td>\n      <td>18.780391</td>\n      <td>19.947808</td>\n      <td>19.245566</td>\n      <td>19.935117</td>\n      <td>...</td>\n      <td>20.156663</td>\n      <td>20.426828</td>\n      <td>20.437692</td>\n      <td>19.062365</td>\n      <td>20.376230</td>\n      <td>20.193189</td>\n      <td>20.367155</td>\n      <td>19.910701</td>\n      <td>20.141071</td>\n      <td>20.386807</td>\n    </tr>\n    <tr>\n      <th>61</th>\n      <td>32.00</td>\n      <td>75.25</td>\n      <td>16.052225</td>\n      <td>17.943380</td>\n      <td>17.464985</td>\n      <td>16.710553</td>\n      <td>16.681903</td>\n      <td>17.826780</td>\n      <td>17.147402</td>\n      <td>17.896313</td>\n      <td>...</td>\n      <td>18.054463</td>\n      <td>18.337104</td>\n      <td>18.415430</td>\n      <td>17.080730</td>\n      <td>18.227325</td>\n      <td>18.070100</td>\n      <td>18.266324</td>\n      <td>17.830848</td>\n      <td>18.100132</td>\n      <td>18.388927</td>\n    </tr>\n    <tr>\n      <th>62</th>\n      <td>32.00</td>\n      <td>75.50</td>\n      <td>14.025514</td>\n      <td>15.840116</td>\n      <td>15.315596</td>\n      <td>14.625901</td>\n      <td>14.583414</td>\n      <td>15.705751</td>\n      <td>15.049238</td>\n      <td>15.857509</td>\n      <td>...</td>\n      <td>15.952264</td>\n      <td>16.247380</td>\n      <td>16.393169</td>\n      <td>15.099095</td>\n      <td>16.078421</td>\n      <td>15.947010</td>\n      <td>16.165492</td>\n      <td>15.750995</td>\n      <td>16.059192</td>\n      <td>16.391047</td>\n    </tr>\n    <tr>\n      <th>63</th>\n      <td>32.00</td>\n      <td>75.75</td>\n      <td>11.998802</td>\n      <td>13.736852</td>\n      <td>13.166207</td>\n      <td>12.541250</td>\n      <td>12.484926</td>\n      <td>13.584723</td>\n      <td>12.951074</td>\n      <td>13.818704</td>\n      <td>...</td>\n      <td>13.850064</td>\n      <td>14.157656</td>\n      <td>14.370908</td>\n      <td>13.117460</td>\n      <td>13.929516</td>\n      <td>13.823920</td>\n      <td>14.064661</td>\n      <td>13.671143</td>\n      <td>14.018252</td>\n      <td>14.393167</td>\n    </tr>\n    <tr>\n      <th>64</th>\n      <td>32.25</td>\n      <td>75.50</td>\n      <td>11.666903</td>\n      <td>13.467656</td>\n      <td>12.886833</td>\n      <td>12.241471</td>\n      <td>12.275958</td>\n      <td>13.307006</td>\n      <td>12.721776</td>\n      <td>13.693791</td>\n      <td>...</td>\n      <td>13.701781</td>\n      <td>13.946480</td>\n      <td>14.128837</td>\n      <td>12.961928</td>\n      <td>13.769524</td>\n      <td>13.589445</td>\n      <td>13.925774</td>\n      <td>13.471329</td>\n      <td>13.837527</td>\n      <td>14.270355</td>\n    </tr>\n  </tbody>\n</table>\n<p>65 rows × 31 columns</p>\n</div>"
     },
     "execution_count": 132,
     "metadata": {},
     "output_type": "execute_result"
    }
   ],
   "source": [
    "conv_df = conv_temp(df, 1986, 2019)\n",
    "conv_df"
   ],
   "metadata": {
    "collapsed": false,
    "ExecuteTime": {
     "end_time": "2023-06-30T07:51:36.897448200Z",
     "start_time": "2023-06-30T07:51:36.092643200Z"
    }
   }
  },
  {
   "cell_type": "code",
   "execution_count": 133,
   "outputs": [
    {
     "ename": "PermissionError",
     "evalue": "[Errno 13] Permission denied: 'forecast_min_temp.csv'",
     "output_type": "error",
     "traceback": [
      "\u001B[1;31m---------------------------------------------------------------------------\u001B[0m",
      "\u001B[1;31mPermissionError\u001B[0m                           Traceback (most recent call last)",
      "Cell \u001B[1;32mIn [133], line 1\u001B[0m\n\u001B[1;32m----> 1\u001B[0m \u001B[43mconv_df\u001B[49m\u001B[38;5;241;43m.\u001B[39;49m\u001B[43mto_csv\u001B[49m\u001B[43m(\u001B[49m\u001B[38;5;124;43m'\u001B[39;49m\u001B[38;5;124;43mforecast_min_temp.csv\u001B[39;49m\u001B[38;5;124;43m'\u001B[39;49m\u001B[43m,\u001B[49m\u001B[43m \u001B[49m\u001B[43mindex\u001B[49m\u001B[38;5;241;43m=\u001B[39;49m\u001B[38;5;28;43;01mFalse\u001B[39;49;00m\u001B[43m)\u001B[49m\n",
      "File \u001B[1;32mb:\\code\\ml\\venv\\lib\\site-packages\\pandas\\util\\_decorators.py:211\u001B[0m, in \u001B[0;36mdeprecate_kwarg.<locals>._deprecate_kwarg.<locals>.wrapper\u001B[1;34m(*args, **kwargs)\u001B[0m\n\u001B[0;32m    209\u001B[0m     \u001B[38;5;28;01melse\u001B[39;00m:\n\u001B[0;32m    210\u001B[0m         kwargs[new_arg_name] \u001B[38;5;241m=\u001B[39m new_arg_value\n\u001B[1;32m--> 211\u001B[0m \u001B[38;5;28;01mreturn\u001B[39;00m func(\u001B[38;5;241m*\u001B[39margs, \u001B[38;5;241m*\u001B[39m\u001B[38;5;241m*\u001B[39mkwargs)\n",
      "File \u001B[1;32mb:\\code\\ml\\venv\\lib\\site-packages\\pandas\\core\\generic.py:3721\u001B[0m, in \u001B[0;36mNDFrame.to_csv\u001B[1;34m(self, path_or_buf, sep, na_rep, float_format, columns, header, index, index_label, mode, encoding, compression, quoting, quotechar, lineterminator, chunksize, date_format, doublequote, escapechar, decimal, errors, storage_options)\u001B[0m\n\u001B[0;32m   3710\u001B[0m df \u001B[38;5;241m=\u001B[39m \u001B[38;5;28mself\u001B[39m \u001B[38;5;28;01mif\u001B[39;00m \u001B[38;5;28misinstance\u001B[39m(\u001B[38;5;28mself\u001B[39m, ABCDataFrame) \u001B[38;5;28;01melse\u001B[39;00m \u001B[38;5;28mself\u001B[39m\u001B[38;5;241m.\u001B[39mto_frame()\n\u001B[0;32m   3712\u001B[0m formatter \u001B[38;5;241m=\u001B[39m DataFrameFormatter(\n\u001B[0;32m   3713\u001B[0m     frame\u001B[38;5;241m=\u001B[39mdf,\n\u001B[0;32m   3714\u001B[0m     header\u001B[38;5;241m=\u001B[39mheader,\n\u001B[1;32m   (...)\u001B[0m\n\u001B[0;32m   3718\u001B[0m     decimal\u001B[38;5;241m=\u001B[39mdecimal,\n\u001B[0;32m   3719\u001B[0m )\n\u001B[1;32m-> 3721\u001B[0m \u001B[38;5;28;01mreturn\u001B[39;00m \u001B[43mDataFrameRenderer\u001B[49m\u001B[43m(\u001B[49m\u001B[43mformatter\u001B[49m\u001B[43m)\u001B[49m\u001B[38;5;241;43m.\u001B[39;49m\u001B[43mto_csv\u001B[49m\u001B[43m(\u001B[49m\n\u001B[0;32m   3722\u001B[0m \u001B[43m    \u001B[49m\u001B[43mpath_or_buf\u001B[49m\u001B[43m,\u001B[49m\n\u001B[0;32m   3723\u001B[0m \u001B[43m    \u001B[49m\u001B[43mlineterminator\u001B[49m\u001B[38;5;241;43m=\u001B[39;49m\u001B[43mlineterminator\u001B[49m\u001B[43m,\u001B[49m\n\u001B[0;32m   3724\u001B[0m \u001B[43m    \u001B[49m\u001B[43msep\u001B[49m\u001B[38;5;241;43m=\u001B[39;49m\u001B[43msep\u001B[49m\u001B[43m,\u001B[49m\n\u001B[0;32m   3725\u001B[0m \u001B[43m    \u001B[49m\u001B[43mencoding\u001B[49m\u001B[38;5;241;43m=\u001B[39;49m\u001B[43mencoding\u001B[49m\u001B[43m,\u001B[49m\n\u001B[0;32m   3726\u001B[0m \u001B[43m    \u001B[49m\u001B[43merrors\u001B[49m\u001B[38;5;241;43m=\u001B[39;49m\u001B[43merrors\u001B[49m\u001B[43m,\u001B[49m\n\u001B[0;32m   3727\u001B[0m \u001B[43m    \u001B[49m\u001B[43mcompression\u001B[49m\u001B[38;5;241;43m=\u001B[39;49m\u001B[43mcompression\u001B[49m\u001B[43m,\u001B[49m\n\u001B[0;32m   3728\u001B[0m \u001B[43m    \u001B[49m\u001B[43mquoting\u001B[49m\u001B[38;5;241;43m=\u001B[39;49m\u001B[43mquoting\u001B[49m\u001B[43m,\u001B[49m\n\u001B[0;32m   3729\u001B[0m \u001B[43m    \u001B[49m\u001B[43mcolumns\u001B[49m\u001B[38;5;241;43m=\u001B[39;49m\u001B[43mcolumns\u001B[49m\u001B[43m,\u001B[49m\n\u001B[0;32m   3730\u001B[0m \u001B[43m    \u001B[49m\u001B[43mindex_label\u001B[49m\u001B[38;5;241;43m=\u001B[39;49m\u001B[43mindex_label\u001B[49m\u001B[43m,\u001B[49m\n\u001B[0;32m   3731\u001B[0m \u001B[43m    \u001B[49m\u001B[43mmode\u001B[49m\u001B[38;5;241;43m=\u001B[39;49m\u001B[43mmode\u001B[49m\u001B[43m,\u001B[49m\n\u001B[0;32m   3732\u001B[0m \u001B[43m    \u001B[49m\u001B[43mchunksize\u001B[49m\u001B[38;5;241;43m=\u001B[39;49m\u001B[43mchunksize\u001B[49m\u001B[43m,\u001B[49m\n\u001B[0;32m   3733\u001B[0m \u001B[43m    \u001B[49m\u001B[43mquotechar\u001B[49m\u001B[38;5;241;43m=\u001B[39;49m\u001B[43mquotechar\u001B[49m\u001B[43m,\u001B[49m\n\u001B[0;32m   3734\u001B[0m \u001B[43m    \u001B[49m\u001B[43mdate_format\u001B[49m\u001B[38;5;241;43m=\u001B[39;49m\u001B[43mdate_format\u001B[49m\u001B[43m,\u001B[49m\n\u001B[0;32m   3735\u001B[0m \u001B[43m    \u001B[49m\u001B[43mdoublequote\u001B[49m\u001B[38;5;241;43m=\u001B[39;49m\u001B[43mdoublequote\u001B[49m\u001B[43m,\u001B[49m\n\u001B[0;32m   3736\u001B[0m \u001B[43m    \u001B[49m\u001B[43mescapechar\u001B[49m\u001B[38;5;241;43m=\u001B[39;49m\u001B[43mescapechar\u001B[49m\u001B[43m,\u001B[49m\n\u001B[0;32m   3737\u001B[0m \u001B[43m    \u001B[49m\u001B[43mstorage_options\u001B[49m\u001B[38;5;241;43m=\u001B[39;49m\u001B[43mstorage_options\u001B[49m\u001B[43m,\u001B[49m\n\u001B[0;32m   3738\u001B[0m \u001B[43m\u001B[49m\u001B[43m)\u001B[49m\n",
      "File \u001B[1;32mb:\\code\\ml\\venv\\lib\\site-packages\\pandas\\util\\_decorators.py:211\u001B[0m, in \u001B[0;36mdeprecate_kwarg.<locals>._deprecate_kwarg.<locals>.wrapper\u001B[1;34m(*args, **kwargs)\u001B[0m\n\u001B[0;32m    209\u001B[0m     \u001B[38;5;28;01melse\u001B[39;00m:\n\u001B[0;32m    210\u001B[0m         kwargs[new_arg_name] \u001B[38;5;241m=\u001B[39m new_arg_value\n\u001B[1;32m--> 211\u001B[0m \u001B[38;5;28;01mreturn\u001B[39;00m func(\u001B[38;5;241m*\u001B[39margs, \u001B[38;5;241m*\u001B[39m\u001B[38;5;241m*\u001B[39mkwargs)\n",
      "File \u001B[1;32mb:\\code\\ml\\venv\\lib\\site-packages\\pandas\\io\\formats\\format.py:1189\u001B[0m, in \u001B[0;36mDataFrameRenderer.to_csv\u001B[1;34m(self, path_or_buf, encoding, sep, columns, index_label, mode, compression, quoting, quotechar, lineterminator, chunksize, date_format, doublequote, escapechar, errors, storage_options)\u001B[0m\n\u001B[0;32m   1168\u001B[0m     created_buffer \u001B[38;5;241m=\u001B[39m \u001B[38;5;28;01mFalse\u001B[39;00m\n\u001B[0;32m   1170\u001B[0m csv_formatter \u001B[38;5;241m=\u001B[39m CSVFormatter(\n\u001B[0;32m   1171\u001B[0m     path_or_buf\u001B[38;5;241m=\u001B[39mpath_or_buf,\n\u001B[0;32m   1172\u001B[0m     lineterminator\u001B[38;5;241m=\u001B[39mlineterminator,\n\u001B[1;32m   (...)\u001B[0m\n\u001B[0;32m   1187\u001B[0m     formatter\u001B[38;5;241m=\u001B[39m\u001B[38;5;28mself\u001B[39m\u001B[38;5;241m.\u001B[39mfmt,\n\u001B[0;32m   1188\u001B[0m )\n\u001B[1;32m-> 1189\u001B[0m \u001B[43mcsv_formatter\u001B[49m\u001B[38;5;241;43m.\u001B[39;49m\u001B[43msave\u001B[49m\u001B[43m(\u001B[49m\u001B[43m)\u001B[49m\n\u001B[0;32m   1191\u001B[0m \u001B[38;5;28;01mif\u001B[39;00m created_buffer:\n\u001B[0;32m   1192\u001B[0m     \u001B[38;5;28;01massert\u001B[39;00m \u001B[38;5;28misinstance\u001B[39m(path_or_buf, StringIO)\n",
      "File \u001B[1;32mb:\\code\\ml\\venv\\lib\\site-packages\\pandas\\io\\formats\\csvs.py:241\u001B[0m, in \u001B[0;36mCSVFormatter.save\u001B[1;34m(self)\u001B[0m\n\u001B[0;32m    237\u001B[0m \u001B[38;5;124;03m\"\"\"\u001B[39;00m\n\u001B[0;32m    238\u001B[0m \u001B[38;5;124;03mCreate the writer & save.\u001B[39;00m\n\u001B[0;32m    239\u001B[0m \u001B[38;5;124;03m\"\"\"\u001B[39;00m\n\u001B[0;32m    240\u001B[0m \u001B[38;5;66;03m# apply compression and byte/text conversion\u001B[39;00m\n\u001B[1;32m--> 241\u001B[0m \u001B[38;5;28;01mwith\u001B[39;00m \u001B[43mget_handle\u001B[49m\u001B[43m(\u001B[49m\n\u001B[0;32m    242\u001B[0m \u001B[43m    \u001B[49m\u001B[38;5;28;43mself\u001B[39;49m\u001B[38;5;241;43m.\u001B[39;49m\u001B[43mfilepath_or_buffer\u001B[49m\u001B[43m,\u001B[49m\n\u001B[0;32m    243\u001B[0m \u001B[43m    \u001B[49m\u001B[38;5;28;43mself\u001B[39;49m\u001B[38;5;241;43m.\u001B[39;49m\u001B[43mmode\u001B[49m\u001B[43m,\u001B[49m\n\u001B[0;32m    244\u001B[0m \u001B[43m    \u001B[49m\u001B[43mencoding\u001B[49m\u001B[38;5;241;43m=\u001B[39;49m\u001B[38;5;28;43mself\u001B[39;49m\u001B[38;5;241;43m.\u001B[39;49m\u001B[43mencoding\u001B[49m\u001B[43m,\u001B[49m\n\u001B[0;32m    245\u001B[0m \u001B[43m    \u001B[49m\u001B[43merrors\u001B[49m\u001B[38;5;241;43m=\u001B[39;49m\u001B[38;5;28;43mself\u001B[39;49m\u001B[38;5;241;43m.\u001B[39;49m\u001B[43merrors\u001B[49m\u001B[43m,\u001B[49m\n\u001B[0;32m    246\u001B[0m \u001B[43m    \u001B[49m\u001B[43mcompression\u001B[49m\u001B[38;5;241;43m=\u001B[39;49m\u001B[38;5;28;43mself\u001B[39;49m\u001B[38;5;241;43m.\u001B[39;49m\u001B[43mcompression\u001B[49m\u001B[43m,\u001B[49m\n\u001B[0;32m    247\u001B[0m \u001B[43m    \u001B[49m\u001B[43mstorage_options\u001B[49m\u001B[38;5;241;43m=\u001B[39;49m\u001B[38;5;28;43mself\u001B[39;49m\u001B[38;5;241;43m.\u001B[39;49m\u001B[43mstorage_options\u001B[49m\u001B[43m,\u001B[49m\n\u001B[0;32m    248\u001B[0m \u001B[43m\u001B[49m\u001B[43m)\u001B[49m \u001B[38;5;28;01mas\u001B[39;00m handles:\n\u001B[0;32m    249\u001B[0m \n\u001B[0;32m    250\u001B[0m     \u001B[38;5;66;03m# Note: self.encoding is irrelevant here\u001B[39;00m\n\u001B[0;32m    251\u001B[0m     \u001B[38;5;28mself\u001B[39m\u001B[38;5;241m.\u001B[39mwriter \u001B[38;5;241m=\u001B[39m csvlib\u001B[38;5;241m.\u001B[39mwriter(\n\u001B[0;32m    252\u001B[0m         handles\u001B[38;5;241m.\u001B[39mhandle,\n\u001B[0;32m    253\u001B[0m         lineterminator\u001B[38;5;241m=\u001B[39m\u001B[38;5;28mself\u001B[39m\u001B[38;5;241m.\u001B[39mlineterminator,\n\u001B[1;32m   (...)\u001B[0m\n\u001B[0;32m    258\u001B[0m         quotechar\u001B[38;5;241m=\u001B[39m\u001B[38;5;28mself\u001B[39m\u001B[38;5;241m.\u001B[39mquotechar,\n\u001B[0;32m    259\u001B[0m     )\n\u001B[0;32m    261\u001B[0m     \u001B[38;5;28mself\u001B[39m\u001B[38;5;241m.\u001B[39m_save()\n",
      "File \u001B[1;32mb:\\code\\ml\\venv\\lib\\site-packages\\pandas\\io\\common.py:857\u001B[0m, in \u001B[0;36mget_handle\u001B[1;34m(path_or_buf, mode, encoding, compression, memory_map, is_text, errors, storage_options)\u001B[0m\n\u001B[0;32m    852\u001B[0m \u001B[38;5;28;01melif\u001B[39;00m \u001B[38;5;28misinstance\u001B[39m(handle, \u001B[38;5;28mstr\u001B[39m):\n\u001B[0;32m    853\u001B[0m     \u001B[38;5;66;03m# Check whether the filename is to be opened in binary mode.\u001B[39;00m\n\u001B[0;32m    854\u001B[0m     \u001B[38;5;66;03m# Binary mode does not support 'encoding' and 'newline'.\u001B[39;00m\n\u001B[0;32m    855\u001B[0m     \u001B[38;5;28;01mif\u001B[39;00m ioargs\u001B[38;5;241m.\u001B[39mencoding \u001B[38;5;129;01mand\u001B[39;00m \u001B[38;5;124m\"\u001B[39m\u001B[38;5;124mb\u001B[39m\u001B[38;5;124m\"\u001B[39m \u001B[38;5;129;01mnot\u001B[39;00m \u001B[38;5;129;01min\u001B[39;00m ioargs\u001B[38;5;241m.\u001B[39mmode:\n\u001B[0;32m    856\u001B[0m         \u001B[38;5;66;03m# Encoding\u001B[39;00m\n\u001B[1;32m--> 857\u001B[0m         handle \u001B[38;5;241m=\u001B[39m \u001B[38;5;28;43mopen\u001B[39;49m\u001B[43m(\u001B[49m\n\u001B[0;32m    858\u001B[0m \u001B[43m            \u001B[49m\u001B[43mhandle\u001B[49m\u001B[43m,\u001B[49m\n\u001B[0;32m    859\u001B[0m \u001B[43m            \u001B[49m\u001B[43mioargs\u001B[49m\u001B[38;5;241;43m.\u001B[39;49m\u001B[43mmode\u001B[49m\u001B[43m,\u001B[49m\n\u001B[0;32m    860\u001B[0m \u001B[43m            \u001B[49m\u001B[43mencoding\u001B[49m\u001B[38;5;241;43m=\u001B[39;49m\u001B[43mioargs\u001B[49m\u001B[38;5;241;43m.\u001B[39;49m\u001B[43mencoding\u001B[49m\u001B[43m,\u001B[49m\n\u001B[0;32m    861\u001B[0m \u001B[43m            \u001B[49m\u001B[43merrors\u001B[49m\u001B[38;5;241;43m=\u001B[39;49m\u001B[43merrors\u001B[49m\u001B[43m,\u001B[49m\n\u001B[0;32m    862\u001B[0m \u001B[43m            \u001B[49m\u001B[43mnewline\u001B[49m\u001B[38;5;241;43m=\u001B[39;49m\u001B[38;5;124;43m\"\u001B[39;49m\u001B[38;5;124;43m\"\u001B[39;49m\u001B[43m,\u001B[49m\n\u001B[0;32m    863\u001B[0m \u001B[43m        \u001B[49m\u001B[43m)\u001B[49m\n\u001B[0;32m    864\u001B[0m     \u001B[38;5;28;01melse\u001B[39;00m:\n\u001B[0;32m    865\u001B[0m         \u001B[38;5;66;03m# Binary mode\u001B[39;00m\n\u001B[0;32m    866\u001B[0m         handle \u001B[38;5;241m=\u001B[39m \u001B[38;5;28mopen\u001B[39m(handle, ioargs\u001B[38;5;241m.\u001B[39mmode)\n",
      "\u001B[1;31mPermissionError\u001B[0m: [Errno 13] Permission denied: 'forecast_min_temp.csv'"
     ]
    }
   ],
   "source": [
    "conv_df.to_csv('forecast_min_temp.csv', index=False)"
   ],
   "metadata": {
    "collapsed": false,
    "ExecuteTime": {
     "end_time": "2023-06-30T07:51:53.300994900Z",
     "start_time": "2023-06-30T07:51:52.641914700Z"
    }
   }
  },
  {
   "cell_type": "markdown",
   "source": [
    "SSP126\n"
   ],
   "metadata": {
    "collapsed": false
   }
  },
  {
   "cell_type": "code",
   "execution_count": 141,
   "outputs": [
    {
     "data": {
      "text/plain": "year  New_Latitude  New_Longitude       2020       2021       2022       2023  \\\n0            29.75          75.25  25.528034  24.996873  25.305749  24.689501   \n1            29.75          76.00  24.285877  23.958979  24.275334  23.684482   \n2            30.00          74.75  26.244828  25.592516  26.025530  25.394344   \n3            30.00          75.00  26.068380  25.450578  25.826003  25.262171   \n4            30.00          75.25  25.530199  24.989603  25.358204  24.807276   \n..             ...            ...        ...        ...        ...        ...   \n60           32.00          75.00  20.578445  20.686816  21.226856  20.755299   \n61           32.00          75.25  18.462702  18.538217  19.135083  18.702367   \n62           32.00          75.50  16.346958  16.389618  17.043311  16.649435   \n63           32.00          75.75  14.231215  14.241019  14.951539  14.596503   \n64           32.25          75.50  13.998137  14.213124  14.869646  14.509940   \n\nyear       2024       2025       2026       2027       2028       2029  \\\n0     24.433262  24.302374  24.505798  24.655400  25.034283  25.420456   \n1     23.623477  23.434602  23.592725  23.713271  24.227366  24.465376   \n2     25.010374  24.775993  25.030566  25.355804  25.626077  26.036590   \n3     24.875940  24.639186  24.818003  25.194191  25.503760  25.901323   \n4     24.490497  24.227966  24.402224  24.764210  25.116009  25.464671   \n..          ...        ...        ...        ...        ...        ...   \n60    20.667319  19.049630  20.076438  20.394273  21.420485  21.122374   \n61    18.665255  17.029880  18.042350  18.366535  19.339573  19.053452   \n62    16.663192  15.010129  16.008263  16.338798  17.258662  16.984531   \n63    14.661129  12.990379  13.974175  14.311060  15.177750  14.915609   \n64    14.511267  12.730227  13.918509  14.226901  15.008803  14.742723   \n\nyear       2030       2031       2032       2033       2034       2035  \n0     26.347762  25.603153  25.312076  25.937138  25.249160  26.014031  \n1     25.273398  24.689602  24.381296  25.010511  24.206991  25.122200  \n2     27.058081  26.198800  25.909631  26.633708  25.850567  26.609728  \n3     26.873041  26.014346  25.753860  26.467946  25.663337  26.405274  \n4     26.385320  25.586188  25.323579  26.033920  25.218588  26.000752  \n..          ...        ...        ...        ...        ...        ...  \n60    21.888138  21.450378  20.815456  21.738937  21.097079  22.238659  \n61    19.756340  19.391660  18.735349  19.645949  19.102613  20.141775  \n62    17.624541  17.332943  16.655241  17.552961  17.108147  18.044891  \n63    15.492743  15.274225  14.575134  15.459973  15.113682  15.948007  \n64    15.260490  15.158524  14.325756  15.243613  15.035434  15.841538  \n\n[65 rows x 18 columns]",
      "text/html": "<div>\n<style scoped>\n    .dataframe tbody tr th:only-of-type {\n        vertical-align: middle;\n    }\n\n    .dataframe tbody tr th {\n        vertical-align: top;\n    }\n\n    .dataframe thead th {\n        text-align: right;\n    }\n</style>\n<table border=\"1\" class=\"dataframe\">\n  <thead>\n    <tr style=\"text-align: right;\">\n      <th>year</th>\n      <th>New_Latitude</th>\n      <th>New_Longitude</th>\n      <th>2020</th>\n      <th>2021</th>\n      <th>2022</th>\n      <th>2023</th>\n      <th>2024</th>\n      <th>2025</th>\n      <th>2026</th>\n      <th>2027</th>\n      <th>2028</th>\n      <th>2029</th>\n      <th>2030</th>\n      <th>2031</th>\n      <th>2032</th>\n      <th>2033</th>\n      <th>2034</th>\n      <th>2035</th>\n    </tr>\n  </thead>\n  <tbody>\n    <tr>\n      <th>0</th>\n      <td>29.75</td>\n      <td>75.25</td>\n      <td>25.528034</td>\n      <td>24.996873</td>\n      <td>25.305749</td>\n      <td>24.689501</td>\n      <td>24.433262</td>\n      <td>24.302374</td>\n      <td>24.505798</td>\n      <td>24.655400</td>\n      <td>25.034283</td>\n      <td>25.420456</td>\n      <td>26.347762</td>\n      <td>25.603153</td>\n      <td>25.312076</td>\n      <td>25.937138</td>\n      <td>25.249160</td>\n      <td>26.014031</td>\n    </tr>\n    <tr>\n      <th>1</th>\n      <td>29.75</td>\n      <td>76.00</td>\n      <td>24.285877</td>\n      <td>23.958979</td>\n      <td>24.275334</td>\n      <td>23.684482</td>\n      <td>23.623477</td>\n      <td>23.434602</td>\n      <td>23.592725</td>\n      <td>23.713271</td>\n      <td>24.227366</td>\n      <td>24.465376</td>\n      <td>25.273398</td>\n      <td>24.689602</td>\n      <td>24.381296</td>\n      <td>25.010511</td>\n      <td>24.206991</td>\n      <td>25.122200</td>\n    </tr>\n    <tr>\n      <th>2</th>\n      <td>30.00</td>\n      <td>74.75</td>\n      <td>26.244828</td>\n      <td>25.592516</td>\n      <td>26.025530</td>\n      <td>25.394344</td>\n      <td>25.010374</td>\n      <td>24.775993</td>\n      <td>25.030566</td>\n      <td>25.355804</td>\n      <td>25.626077</td>\n      <td>26.036590</td>\n      <td>27.058081</td>\n      <td>26.198800</td>\n      <td>25.909631</td>\n      <td>26.633708</td>\n      <td>25.850567</td>\n      <td>26.609728</td>\n    </tr>\n    <tr>\n      <th>3</th>\n      <td>30.00</td>\n      <td>75.00</td>\n      <td>26.068380</td>\n      <td>25.450578</td>\n      <td>25.826003</td>\n      <td>25.262171</td>\n      <td>24.875940</td>\n      <td>24.639186</td>\n      <td>24.818003</td>\n      <td>25.194191</td>\n      <td>25.503760</td>\n      <td>25.901323</td>\n      <td>26.873041</td>\n      <td>26.014346</td>\n      <td>25.753860</td>\n      <td>26.467946</td>\n      <td>25.663337</td>\n      <td>26.405274</td>\n    </tr>\n    <tr>\n      <th>4</th>\n      <td>30.00</td>\n      <td>75.25</td>\n      <td>25.530199</td>\n      <td>24.989603</td>\n      <td>25.358204</td>\n      <td>24.807276</td>\n      <td>24.490497</td>\n      <td>24.227966</td>\n      <td>24.402224</td>\n      <td>24.764210</td>\n      <td>25.116009</td>\n      <td>25.464671</td>\n      <td>26.385320</td>\n      <td>25.586188</td>\n      <td>25.323579</td>\n      <td>26.033920</td>\n      <td>25.218588</td>\n      <td>26.000752</td>\n    </tr>\n    <tr>\n      <th>...</th>\n      <td>...</td>\n      <td>...</td>\n      <td>...</td>\n      <td>...</td>\n      <td>...</td>\n      <td>...</td>\n      <td>...</td>\n      <td>...</td>\n      <td>...</td>\n      <td>...</td>\n      <td>...</td>\n      <td>...</td>\n      <td>...</td>\n      <td>...</td>\n      <td>...</td>\n      <td>...</td>\n      <td>...</td>\n      <td>...</td>\n    </tr>\n    <tr>\n      <th>60</th>\n      <td>32.00</td>\n      <td>75.00</td>\n      <td>20.578445</td>\n      <td>20.686816</td>\n      <td>21.226856</td>\n      <td>20.755299</td>\n      <td>20.667319</td>\n      <td>19.049630</td>\n      <td>20.076438</td>\n      <td>20.394273</td>\n      <td>21.420485</td>\n      <td>21.122374</td>\n      <td>21.888138</td>\n      <td>21.450378</td>\n      <td>20.815456</td>\n      <td>21.738937</td>\n      <td>21.097079</td>\n      <td>22.238659</td>\n    </tr>\n    <tr>\n      <th>61</th>\n      <td>32.00</td>\n      <td>75.25</td>\n      <td>18.462702</td>\n      <td>18.538217</td>\n      <td>19.135083</td>\n      <td>18.702367</td>\n      <td>18.665255</td>\n      <td>17.029880</td>\n      <td>18.042350</td>\n      <td>18.366535</td>\n      <td>19.339573</td>\n      <td>19.053452</td>\n      <td>19.756340</td>\n      <td>19.391660</td>\n      <td>18.735349</td>\n      <td>19.645949</td>\n      <td>19.102613</td>\n      <td>20.141775</td>\n    </tr>\n    <tr>\n      <th>62</th>\n      <td>32.00</td>\n      <td>75.50</td>\n      <td>16.346958</td>\n      <td>16.389618</td>\n      <td>17.043311</td>\n      <td>16.649435</td>\n      <td>16.663192</td>\n      <td>15.010129</td>\n      <td>16.008263</td>\n      <td>16.338798</td>\n      <td>17.258662</td>\n      <td>16.984531</td>\n      <td>17.624541</td>\n      <td>17.332943</td>\n      <td>16.655241</td>\n      <td>17.552961</td>\n      <td>17.108147</td>\n      <td>18.044891</td>\n    </tr>\n    <tr>\n      <th>63</th>\n      <td>32.00</td>\n      <td>75.75</td>\n      <td>14.231215</td>\n      <td>14.241019</td>\n      <td>14.951539</td>\n      <td>14.596503</td>\n      <td>14.661129</td>\n      <td>12.990379</td>\n      <td>13.974175</td>\n      <td>14.311060</td>\n      <td>15.177750</td>\n      <td>14.915609</td>\n      <td>15.492743</td>\n      <td>15.274225</td>\n      <td>14.575134</td>\n      <td>15.459973</td>\n      <td>15.113682</td>\n      <td>15.948007</td>\n    </tr>\n    <tr>\n      <th>64</th>\n      <td>32.25</td>\n      <td>75.50</td>\n      <td>13.998137</td>\n      <td>14.213124</td>\n      <td>14.869646</td>\n      <td>14.509940</td>\n      <td>14.511267</td>\n      <td>12.730227</td>\n      <td>13.918509</td>\n      <td>14.226901</td>\n      <td>15.008803</td>\n      <td>14.742723</td>\n      <td>15.260490</td>\n      <td>15.158524</td>\n      <td>14.325756</td>\n      <td>15.243613</td>\n      <td>15.035434</td>\n      <td>15.841538</td>\n    </tr>\n  </tbody>\n</table>\n<p>65 rows × 18 columns</p>\n</div>"
     },
     "execution_count": 141,
     "metadata": {},
     "output_type": "execute_result"
    }
   ],
   "source": [
    "#tmin\n",
    "df = pd.read_csv(\n",
    "    \"B:\\GroundwaterRech\\GithubRepo\\Restart\\Dataset\\Final forecasted data 2020-2040\\Final forecasted data 2020-2040\\SSP126\\\\tmin.csv\")\n",
    "df.drop(['Unnamed: 0'], inplace=True, axis=1)\n",
    "df.drop(['height'], inplace=True, axis=1)\n",
    "conv_df = conv_temp(df, 2020, 2035, 'tasmin')\n",
    "conv_df"
   ],
   "metadata": {
    "collapsed": false,
    "ExecuteTime": {
     "end_time": "2023-06-30T08:06:33.408769700Z",
     "start_time": "2023-06-30T08:06:29.661899500Z"
    }
   }
  },
  {
   "cell_type": "code",
   "execution_count": 135,
   "outputs": [],
   "source": [
    "conv_df.to_csv('B:\\GroundwaterRech\\GithubRepo\\Restart\\Forecast_new\\SSP126\\pet_SSP126.csv\\\\tmin_SSP126.csv', index=False)"
   ],
   "metadata": {
    "collapsed": false,
    "ExecuteTime": {
     "end_time": "2023-06-30T08:00:33.331474900Z",
     "start_time": "2023-06-30T08:00:33.300232300Z"
    }
   }
  },
  {
   "cell_type": "code",
   "execution_count": 139,
   "outputs": [
    {
     "data": {
      "text/plain": "year  New_Latitude  New_Longitude       2020       2021       2022       2023  \\\n0            29.75          75.25  37.673741  35.939291  37.726193  36.281587   \n1            29.75          76.00  36.289148  34.866418  36.373715  35.026451   \n2            30.00          74.75  38.638990  36.740161  38.639398  37.174534   \n3            30.00          75.00  38.477703  36.595515  38.467876  37.023582   \n4            30.00          75.25  37.869305  36.102727  37.873676  36.465702   \n..             ...            ...        ...        ...        ...        ...   \n60           32.00          75.00  34.423356  33.066563  34.664077  33.164173   \n61           32.00          75.25  32.111448  30.830839  32.427968  30.988723   \n62           32.00          75.50  29.799541  28.595116  30.191860  28.813273   \n63           32.00          75.75  27.487633  26.359392  27.955752  26.637824   \n64           32.25          75.50  27.433414  26.467725  27.943051  26.693007   \n\nyear       2024       2025       2026       2027       2028       2029  \\\n0     36.001263  37.738813  37.131654  36.222254  36.484771  37.048542   \n1     34.860860  36.855675  35.931990  34.842393  35.489566  35.909888   \n2     36.884402  38.423965  37.989454  37.205140  37.223640  37.895861   \n3     36.733447  38.342697  37.826303  37.006802  37.106136  37.701465   \n4     36.211993  37.910837  37.293717  36.404378  36.626590  37.195442   \n..          ...        ...        ...        ...        ...        ...   \n60    32.657594  34.876116  33.963603  32.911335  33.688549  34.272753   \n61    30.474064  32.566848  31.763193  30.730248  31.482117  32.057295   \n62    28.290534  30.257580  29.562783  28.549161  29.275685  29.841836   \n63    26.107004  27.948313  27.362372  26.368073  27.069253  27.626377   \n64    26.071072  27.913489  27.456437  26.476855  26.994192  27.595319   \n\nyear       2030       2031       2032       2033       2034       2035  \n0     37.903782  37.583755  37.101245  37.571370  36.191628  37.300299  \n1     36.646842  36.277319  36.158082  36.077919  34.979777  35.973308  \n2     38.776979  38.484064  37.843044  38.661820  37.049413  38.211638  \n3     38.610403  38.302696  37.712204  38.435771  36.862667  38.014858  \n4     38.049728  37.731592  37.262258  37.792677  36.327856  37.432897  \n..          ...        ...        ...        ...        ...        ...  \n60    34.621274  34.860137  34.224969  34.607381  32.588400  34.436669  \n61    32.415208  32.659233  31.985983  32.357018  30.487154  32.219248  \n62    30.209143  30.458329  29.746997  30.106655  28.385908  30.001827  \n63    28.003077  28.257425  27.508011  27.856293  26.284662  27.784406  \n64    27.862957  28.270017  27.471917  27.846655  26.256707  27.753663  \n\n[65 rows x 18 columns]",
      "text/html": "<div>\n<style scoped>\n    .dataframe tbody tr th:only-of-type {\n        vertical-align: middle;\n    }\n\n    .dataframe tbody tr th {\n        vertical-align: top;\n    }\n\n    .dataframe thead th {\n        text-align: right;\n    }\n</style>\n<table border=\"1\" class=\"dataframe\">\n  <thead>\n    <tr style=\"text-align: right;\">\n      <th>year</th>\n      <th>New_Latitude</th>\n      <th>New_Longitude</th>\n      <th>2020</th>\n      <th>2021</th>\n      <th>2022</th>\n      <th>2023</th>\n      <th>2024</th>\n      <th>2025</th>\n      <th>2026</th>\n      <th>2027</th>\n      <th>2028</th>\n      <th>2029</th>\n      <th>2030</th>\n      <th>2031</th>\n      <th>2032</th>\n      <th>2033</th>\n      <th>2034</th>\n      <th>2035</th>\n    </tr>\n  </thead>\n  <tbody>\n    <tr>\n      <th>0</th>\n      <td>29.75</td>\n      <td>75.25</td>\n      <td>37.673741</td>\n      <td>35.939291</td>\n      <td>37.726193</td>\n      <td>36.281587</td>\n      <td>36.001263</td>\n      <td>37.738813</td>\n      <td>37.131654</td>\n      <td>36.222254</td>\n      <td>36.484771</td>\n      <td>37.048542</td>\n      <td>37.903782</td>\n      <td>37.583755</td>\n      <td>37.101245</td>\n      <td>37.571370</td>\n      <td>36.191628</td>\n      <td>37.300299</td>\n    </tr>\n    <tr>\n      <th>1</th>\n      <td>29.75</td>\n      <td>76.00</td>\n      <td>36.289148</td>\n      <td>34.866418</td>\n      <td>36.373715</td>\n      <td>35.026451</td>\n      <td>34.860860</td>\n      <td>36.855675</td>\n      <td>35.931990</td>\n      <td>34.842393</td>\n      <td>35.489566</td>\n      <td>35.909888</td>\n      <td>36.646842</td>\n      <td>36.277319</td>\n      <td>36.158082</td>\n      <td>36.077919</td>\n      <td>34.979777</td>\n      <td>35.973308</td>\n    </tr>\n    <tr>\n      <th>2</th>\n      <td>30.00</td>\n      <td>74.75</td>\n      <td>38.638990</td>\n      <td>36.740161</td>\n      <td>38.639398</td>\n      <td>37.174534</td>\n      <td>36.884402</td>\n      <td>38.423965</td>\n      <td>37.989454</td>\n      <td>37.205140</td>\n      <td>37.223640</td>\n      <td>37.895861</td>\n      <td>38.776979</td>\n      <td>38.484064</td>\n      <td>37.843044</td>\n      <td>38.661820</td>\n      <td>37.049413</td>\n      <td>38.211638</td>\n    </tr>\n    <tr>\n      <th>3</th>\n      <td>30.00</td>\n      <td>75.00</td>\n      <td>38.477703</td>\n      <td>36.595515</td>\n      <td>38.467876</td>\n      <td>37.023582</td>\n      <td>36.733447</td>\n      <td>38.342697</td>\n      <td>37.826303</td>\n      <td>37.006802</td>\n      <td>37.106136</td>\n      <td>37.701465</td>\n      <td>38.610403</td>\n      <td>38.302696</td>\n      <td>37.712204</td>\n      <td>38.435771</td>\n      <td>36.862667</td>\n      <td>38.014858</td>\n    </tr>\n    <tr>\n      <th>4</th>\n      <td>30.00</td>\n      <td>75.25</td>\n      <td>37.869305</td>\n      <td>36.102727</td>\n      <td>37.873676</td>\n      <td>36.465702</td>\n      <td>36.211993</td>\n      <td>37.910837</td>\n      <td>37.293717</td>\n      <td>36.404378</td>\n      <td>36.626590</td>\n      <td>37.195442</td>\n      <td>38.049728</td>\n      <td>37.731592</td>\n      <td>37.262258</td>\n      <td>37.792677</td>\n      <td>36.327856</td>\n      <td>37.432897</td>\n    </tr>\n    <tr>\n      <th>...</th>\n      <td>...</td>\n      <td>...</td>\n      <td>...</td>\n      <td>...</td>\n      <td>...</td>\n      <td>...</td>\n      <td>...</td>\n      <td>...</td>\n      <td>...</td>\n      <td>...</td>\n      <td>...</td>\n      <td>...</td>\n      <td>...</td>\n      <td>...</td>\n      <td>...</td>\n      <td>...</td>\n      <td>...</td>\n      <td>...</td>\n    </tr>\n    <tr>\n      <th>60</th>\n      <td>32.00</td>\n      <td>75.00</td>\n      <td>34.423356</td>\n      <td>33.066563</td>\n      <td>34.664077</td>\n      <td>33.164173</td>\n      <td>32.657594</td>\n      <td>34.876116</td>\n      <td>33.963603</td>\n      <td>32.911335</td>\n      <td>33.688549</td>\n      <td>34.272753</td>\n      <td>34.621274</td>\n      <td>34.860137</td>\n      <td>34.224969</td>\n      <td>34.607381</td>\n      <td>32.588400</td>\n      <td>34.436669</td>\n    </tr>\n    <tr>\n      <th>61</th>\n      <td>32.00</td>\n      <td>75.25</td>\n      <td>32.111448</td>\n      <td>30.830839</td>\n      <td>32.427968</td>\n      <td>30.988723</td>\n      <td>30.474064</td>\n      <td>32.566848</td>\n      <td>31.763193</td>\n      <td>30.730248</td>\n      <td>31.482117</td>\n      <td>32.057295</td>\n      <td>32.415208</td>\n      <td>32.659233</td>\n      <td>31.985983</td>\n      <td>32.357018</td>\n      <td>30.487154</td>\n      <td>32.219248</td>\n    </tr>\n    <tr>\n      <th>62</th>\n      <td>32.00</td>\n      <td>75.50</td>\n      <td>29.799541</td>\n      <td>28.595116</td>\n      <td>30.191860</td>\n      <td>28.813273</td>\n      <td>28.290534</td>\n      <td>30.257580</td>\n      <td>29.562783</td>\n      <td>28.549161</td>\n      <td>29.275685</td>\n      <td>29.841836</td>\n      <td>30.209143</td>\n      <td>30.458329</td>\n      <td>29.746997</td>\n      <td>30.106655</td>\n      <td>28.385908</td>\n      <td>30.001827</td>\n    </tr>\n    <tr>\n      <th>63</th>\n      <td>32.00</td>\n      <td>75.75</td>\n      <td>27.487633</td>\n      <td>26.359392</td>\n      <td>27.955752</td>\n      <td>26.637824</td>\n      <td>26.107004</td>\n      <td>27.948313</td>\n      <td>27.362372</td>\n      <td>26.368073</td>\n      <td>27.069253</td>\n      <td>27.626377</td>\n      <td>28.003077</td>\n      <td>28.257425</td>\n      <td>27.508011</td>\n      <td>27.856293</td>\n      <td>26.284662</td>\n      <td>27.784406</td>\n    </tr>\n    <tr>\n      <th>64</th>\n      <td>32.25</td>\n      <td>75.50</td>\n      <td>27.433414</td>\n      <td>26.467725</td>\n      <td>27.943051</td>\n      <td>26.693007</td>\n      <td>26.071072</td>\n      <td>27.913489</td>\n      <td>27.456437</td>\n      <td>26.476855</td>\n      <td>26.994192</td>\n      <td>27.595319</td>\n      <td>27.862957</td>\n      <td>28.270017</td>\n      <td>27.471917</td>\n      <td>27.846655</td>\n      <td>26.256707</td>\n      <td>27.753663</td>\n    </tr>\n  </tbody>\n</table>\n<p>65 rows × 18 columns</p>\n</div>"
     },
     "execution_count": 139,
     "metadata": {},
     "output_type": "execute_result"
    }
   ],
   "source": [
    "#tmax\n",
    "df = pd.read_csv(\n",
    "    \"B:\\GroundwaterRech\\GithubRepo\\Restart\\Dataset\\Final forecasted data 2020-2040\\Final forecasted data 2020-2040\\SSP126\\\\tmax.csv\")\n",
    "df.drop(['Unnamed: 0'], inplace=True, axis=1)\n",
    "df.drop(['height'], inplace=True, axis=1)\n",
    "conv_df = conv_temp(df, 2020, 2035, 'tasmax')\n",
    "conv_df"
   ],
   "metadata": {
    "collapsed": false,
    "ExecuteTime": {
     "end_time": "2023-06-30T08:04:57.401975500Z",
     "start_time": "2023-06-30T08:04:53.703268900Z"
    }
   }
  },
  {
   "cell_type": "code",
   "execution_count": 140,
   "outputs": [],
   "source": [
    "conv_df.to_csv('B:\\GroundwaterRech\\GithubRepo\\Restart\\Forecast_new\\SSP126\\pet_SSP126.csv\\\\tmax_SSP126.csv', index=False)"
   ],
   "metadata": {
    "collapsed": false,
    "ExecuteTime": {
     "end_time": "2023-06-30T08:06:20.337665600Z",
     "start_time": "2023-06-30T08:06:20.322043300Z"
    }
   }
  },
  {
   "cell_type": "code",
   "execution_count": 127,
   "outputs": [
    {
     "name": "stdout",
     "output_type": "stream",
     "text": [
      "-1.5014420341379306\n",
      "NSE: -0.2075592035453906\n"
     ]
    }
   ],
   "source": [
    "obs_data = [21.64, 23.072, 22.144, 21.556, 22.416, 22.114, 21.748, 21.106, 21.21, 21.924, 20.856,\n",
    "            21.824, 22.594, 22.454, 21.566, 22.114, 23.22, 22.982, 22.984, 21.926, 22.11,\n",
    "            23.348, 21.966, 22.832, 21.272, 22.12, 22.52, 21.896, 23.016\n",
    "            ]\n",
    "modeled_data = [22.04557902, 24.06806703, 23.76300404, 22.99754573, 22.98009298, 24.21329577, 23.20718783, 23.39335325,\n",
    "                23.26778293, 22.94746369, 23.25247475, 23.71161033, 22.69527904, 24.24301214, 23.83913828,\n",
    "                24.20667466, 24.08398862, 23.49419176, 23.90849052, 24.05230362, 24.32223775, 24.20228897,\n",
    "                22.63480233, 24.40814021, 24.21173736, 24.36980316, 23.82385299, 23.90466514, 23.82375509\n",
    "                ]\n",
    "bb = mean_bias_correction(observed_data=obs_data, modeled_data=modeled_data)\n",
    "calculate_nse(observed=obs_data, predicted=bb)\n"
   ],
   "metadata": {
    "collapsed": false,
    "ExecuteTime": {
     "end_time": "2023-06-30T07:27:51.804051600Z",
     "start_time": "2023-06-30T07:27:51.757185100Z"
    }
   }
  },
  {
   "cell_type": "code",
   "execution_count": 128,
   "outputs": [
    {
     "name": "stdout",
     "output_type": "stream",
     "text": [
      "NSE: 0.9960105488170292\n"
     ]
    }
   ],
   "source": [
    "qq = quantile_mapping(observed_data=obs_data, modeled_data=modeled_data)\n",
    "calculate_nse(observed=obs_data, predicted=qq)"
   ],
   "metadata": {
    "collapsed": false,
    "ExecuteTime": {
     "end_time": "2023-06-30T07:28:20.895055200Z",
     "start_time": "2023-06-30T07:28:20.889051300Z"
    }
   }
  },
  {
   "cell_type": "markdown",
   "source": [
    "## Evapotranspiration"
   ],
   "metadata": {
    "collapsed": false
   }
  },
  {
   "cell_type": "code",
   "execution_count": 157,
   "outputs": [],
   "source": [
    "def conv_pet(df, start_year, end_year, var):\n",
    "    df['time'] = pd.to_datetime(df['time'])\n",
    "    df['year'] = df['time'].dt.year\n",
    "    df = df[df['time'].dt.year.between(start_year, end_year)]\n",
    "    avg_monthly_pet = df.groupby(['lat', 'lon', 'year'])[var].mean().reset_index()\n",
    "    merged_df = ldf.merge(avg_monthly_pet, on=['lon', 'lat'], how='left')\n",
    "    pivot_df = merged_df.pivot(index=['New_Latitude', 'New_Longitude'], columns='year', values=var).reset_index()\n",
    "    return pivot_df"
   ],
   "metadata": {
    "collapsed": false,
    "ExecuteTime": {
     "end_time": "2023-06-30T10:41:19.225249400Z",
     "start_time": "2023-06-30T10:41:19.193996700Z"
    }
   }
  },
  {
   "cell_type": "code",
   "execution_count": 156,
   "outputs": [
    {
     "data": {
      "text/plain": "        Unnamed: 0                 time   lat    lon     tasmin     tasmax  \\\n0                0  2020-06-01 12:00:00  29.3  73.55  21.658688  36.707586   \n1                1  2020-06-01 12:00:00  29.3  73.80  21.576681  36.665179   \n2                2  2020-06-01 12:00:00  29.3  74.05  21.494674  36.622771   \n3                3  2020-06-01 12:00:00  29.3  74.30  21.412667  36.580364   \n4                4  2020-06-01 12:00:00  29.3  74.55  21.330660  36.537957   \n...            ...                  ...   ...    ...        ...        ...   \n381883      381883  2035-10-31 12:00:00  32.3  75.30   2.782446  20.150101   \n381884      381884  2035-10-31 12:00:00  32.3  75.55   0.398122  17.820745   \n381885      381885  2035-10-31 12:00:00  32.3  75.80  -1.986202  15.491389   \n381886      381886  2035-10-31 12:00:00  32.3  76.05  -4.370527  13.162033   \n381887      381887  2035-10-31 12:00:00  32.3  76.30  -6.754851  10.832677   \n\n              tas  month       PET  \n0       30.864836      6  7.381496  \n1       30.706705      6  7.367184  \n2       30.548573      6  7.352797  \n3       30.390442      6  7.338334  \n4       30.232310      6  7.323796  \n...           ...    ...       ...  \n381883  11.248109     10  3.257633  \n381884   9.007311     10  3.011090  \n381885   6.766512     10  2.763745  \n381886   4.525714     10  2.515601  \n381887   2.284915     10  2.266659  \n\n[381888 rows x 9 columns]",
      "text/html": "<div>\n<style scoped>\n    .dataframe tbody tr th:only-of-type {\n        vertical-align: middle;\n    }\n\n    .dataframe tbody tr th {\n        vertical-align: top;\n    }\n\n    .dataframe thead th {\n        text-align: right;\n    }\n</style>\n<table border=\"1\" class=\"dataframe\">\n  <thead>\n    <tr style=\"text-align: right;\">\n      <th></th>\n      <th>Unnamed: 0</th>\n      <th>time</th>\n      <th>lat</th>\n      <th>lon</th>\n      <th>tasmin</th>\n      <th>tasmax</th>\n      <th>tas</th>\n      <th>month</th>\n      <th>PET</th>\n    </tr>\n  </thead>\n  <tbody>\n    <tr>\n      <th>0</th>\n      <td>0</td>\n      <td>2020-06-01 12:00:00</td>\n      <td>29.3</td>\n      <td>73.55</td>\n      <td>21.658688</td>\n      <td>36.707586</td>\n      <td>30.864836</td>\n      <td>6</td>\n      <td>7.381496</td>\n    </tr>\n    <tr>\n      <th>1</th>\n      <td>1</td>\n      <td>2020-06-01 12:00:00</td>\n      <td>29.3</td>\n      <td>73.80</td>\n      <td>21.576681</td>\n      <td>36.665179</td>\n      <td>30.706705</td>\n      <td>6</td>\n      <td>7.367184</td>\n    </tr>\n    <tr>\n      <th>2</th>\n      <td>2</td>\n      <td>2020-06-01 12:00:00</td>\n      <td>29.3</td>\n      <td>74.05</td>\n      <td>21.494674</td>\n      <td>36.622771</td>\n      <td>30.548573</td>\n      <td>6</td>\n      <td>7.352797</td>\n    </tr>\n    <tr>\n      <th>3</th>\n      <td>3</td>\n      <td>2020-06-01 12:00:00</td>\n      <td>29.3</td>\n      <td>74.30</td>\n      <td>21.412667</td>\n      <td>36.580364</td>\n      <td>30.390442</td>\n      <td>6</td>\n      <td>7.338334</td>\n    </tr>\n    <tr>\n      <th>4</th>\n      <td>4</td>\n      <td>2020-06-01 12:00:00</td>\n      <td>29.3</td>\n      <td>74.55</td>\n      <td>21.330660</td>\n      <td>36.537957</td>\n      <td>30.232310</td>\n      <td>6</td>\n      <td>7.323796</td>\n    </tr>\n    <tr>\n      <th>...</th>\n      <td>...</td>\n      <td>...</td>\n      <td>...</td>\n      <td>...</td>\n      <td>...</td>\n      <td>...</td>\n      <td>...</td>\n      <td>...</td>\n      <td>...</td>\n    </tr>\n    <tr>\n      <th>381883</th>\n      <td>381883</td>\n      <td>2035-10-31 12:00:00</td>\n      <td>32.3</td>\n      <td>75.30</td>\n      <td>2.782446</td>\n      <td>20.150101</td>\n      <td>11.248109</td>\n      <td>10</td>\n      <td>3.257633</td>\n    </tr>\n    <tr>\n      <th>381884</th>\n      <td>381884</td>\n      <td>2035-10-31 12:00:00</td>\n      <td>32.3</td>\n      <td>75.55</td>\n      <td>0.398122</td>\n      <td>17.820745</td>\n      <td>9.007311</td>\n      <td>10</td>\n      <td>3.011090</td>\n    </tr>\n    <tr>\n      <th>381885</th>\n      <td>381885</td>\n      <td>2035-10-31 12:00:00</td>\n      <td>32.3</td>\n      <td>75.80</td>\n      <td>-1.986202</td>\n      <td>15.491389</td>\n      <td>6.766512</td>\n      <td>10</td>\n      <td>2.763745</td>\n    </tr>\n    <tr>\n      <th>381886</th>\n      <td>381886</td>\n      <td>2035-10-31 12:00:00</td>\n      <td>32.3</td>\n      <td>76.05</td>\n      <td>-4.370527</td>\n      <td>13.162033</td>\n      <td>4.525714</td>\n      <td>10</td>\n      <td>2.515601</td>\n    </tr>\n    <tr>\n      <th>381887</th>\n      <td>381887</td>\n      <td>2035-10-31 12:00:00</td>\n      <td>32.3</td>\n      <td>76.30</td>\n      <td>-6.754851</td>\n      <td>10.832677</td>\n      <td>2.284915</td>\n      <td>10</td>\n      <td>2.266659</td>\n    </tr>\n  </tbody>\n</table>\n<p>381888 rows × 9 columns</p>\n</div>"
     },
     "execution_count": 156,
     "metadata": {},
     "output_type": "execute_result"
    }
   ],
   "source": [
    "df"
   ],
   "metadata": {
    "collapsed": false,
    "ExecuteTime": {
     "end_time": "2023-06-30T10:40:41.671122Z",
     "start_time": "2023-06-30T10:40:41.624118200Z"
    }
   }
  },
  {
   "cell_type": "code",
   "execution_count": 158,
   "outputs": [
    {
     "data": {
      "text/plain": "year  New_Latitude  New_Longitude      2020      2021      2022      2023  \\\n0            29.75          75.25  5.946657  5.449734  5.959938  5.530943   \n1            29.75          76.00  5.755143  5.313389  5.733773  5.326935   \n2            30.00          74.75  6.115045  5.594527  6.117545  5.688829   \n3            30.00          75.00  6.097044  5.574817  6.099409  5.665696   \n4            30.00          75.25  6.011416  5.510383  6.002557  5.577051   \n..             ...            ...       ...       ...       ...       ...   \n60           32.00          75.00  5.867669  5.440914  5.807581  5.322401   \n61           32.00          75.25  5.547072  5.163456  5.509690  5.057496   \n62           32.00          75.50  5.229610  4.886964  5.213736  4.793267   \n63           32.00          75.75  4.915362  4.611551  4.919813  4.529897   \n64           32.25          75.50  4.924500  4.645509  4.929908  4.556798   \n\nyear      2024      2025      2026      2027      2028      2029      2030  \\\n0     5.541001  6.108348  5.925880  5.573211  5.642155  5.759931  5.869256   \n1     5.345827  6.000980  5.738531  5.328153  5.490194  5.592815  5.689679   \n2     5.715683  6.237000  6.093099  5.747861  5.766640  5.912760  6.011574   \n3     5.691001  6.237206  6.082574  5.715203  5.751844  5.877167  5.992570   \n4     5.604459  6.180616  5.998146  5.611646  5.678306  5.805357  5.913364   \n..         ...       ...       ...       ...       ...       ...       ...   \n60    5.257420  6.156223  5.761144  5.353928  5.514215  5.729288  5.735169   \n61    4.978762  5.809411  5.461584  5.081174  5.234768  5.435463  5.453731   \n62    4.702584  5.467160  5.163893  4.809361  4.956788  5.143729  5.173187   \n63    4.429011  5.129561  4.868248  4.538829  4.680390  4.854168  4.893634   \n64    4.443905  5.153068  4.904262  4.578581  4.686106  4.870848  4.891180   \n\nyear      2031      2032      2033      2034      2035  \n0     5.824260  5.789270  5.770164  5.422567  5.647477  \n1     5.599135  5.669523  5.483620  5.242404  5.406439  \n2     5.997057  5.916430  5.987304  5.583761  5.825503  \n3     5.972498  5.902739  5.946573  5.557522  5.801428  \n4     5.878419  5.843176  5.829674  5.476745  5.698113  \n..         ...       ...       ...       ...       ...  \n60    5.775245  5.746664  5.678841  5.122755  5.526254  \n61    5.484327  5.446640  5.383397  4.873210  5.250053  \n62    5.195108  5.148783  5.090359  4.624228  4.975254  \n63    4.907734  4.853248  4.799823  4.376017  4.701988  \n64    4.930303  4.872528  4.826651  4.384670  4.705629  \n\n[65 rows x 18 columns]",
      "text/html": "<div>\n<style scoped>\n    .dataframe tbody tr th:only-of-type {\n        vertical-align: middle;\n    }\n\n    .dataframe tbody tr th {\n        vertical-align: top;\n    }\n\n    .dataframe thead th {\n        text-align: right;\n    }\n</style>\n<table border=\"1\" class=\"dataframe\">\n  <thead>\n    <tr style=\"text-align: right;\">\n      <th>year</th>\n      <th>New_Latitude</th>\n      <th>New_Longitude</th>\n      <th>2020</th>\n      <th>2021</th>\n      <th>2022</th>\n      <th>2023</th>\n      <th>2024</th>\n      <th>2025</th>\n      <th>2026</th>\n      <th>2027</th>\n      <th>2028</th>\n      <th>2029</th>\n      <th>2030</th>\n      <th>2031</th>\n      <th>2032</th>\n      <th>2033</th>\n      <th>2034</th>\n      <th>2035</th>\n    </tr>\n  </thead>\n  <tbody>\n    <tr>\n      <th>0</th>\n      <td>29.75</td>\n      <td>75.25</td>\n      <td>5.946657</td>\n      <td>5.449734</td>\n      <td>5.959938</td>\n      <td>5.530943</td>\n      <td>5.541001</td>\n      <td>6.108348</td>\n      <td>5.925880</td>\n      <td>5.573211</td>\n      <td>5.642155</td>\n      <td>5.759931</td>\n      <td>5.869256</td>\n      <td>5.824260</td>\n      <td>5.789270</td>\n      <td>5.770164</td>\n      <td>5.422567</td>\n      <td>5.647477</td>\n    </tr>\n    <tr>\n      <th>1</th>\n      <td>29.75</td>\n      <td>76.00</td>\n      <td>5.755143</td>\n      <td>5.313389</td>\n      <td>5.733773</td>\n      <td>5.326935</td>\n      <td>5.345827</td>\n      <td>6.000980</td>\n      <td>5.738531</td>\n      <td>5.328153</td>\n      <td>5.490194</td>\n      <td>5.592815</td>\n      <td>5.689679</td>\n      <td>5.599135</td>\n      <td>5.669523</td>\n      <td>5.483620</td>\n      <td>5.242404</td>\n      <td>5.406439</td>\n    </tr>\n    <tr>\n      <th>2</th>\n      <td>30.00</td>\n      <td>74.75</td>\n      <td>6.115045</td>\n      <td>5.594527</td>\n      <td>6.117545</td>\n      <td>5.688829</td>\n      <td>5.715683</td>\n      <td>6.237000</td>\n      <td>6.093099</td>\n      <td>5.747861</td>\n      <td>5.766640</td>\n      <td>5.912760</td>\n      <td>6.011574</td>\n      <td>5.997057</td>\n      <td>5.916430</td>\n      <td>5.987304</td>\n      <td>5.583761</td>\n      <td>5.825503</td>\n    </tr>\n    <tr>\n      <th>3</th>\n      <td>30.00</td>\n      <td>75.00</td>\n      <td>6.097044</td>\n      <td>5.574817</td>\n      <td>6.099409</td>\n      <td>5.665696</td>\n      <td>5.691001</td>\n      <td>6.237206</td>\n      <td>6.082574</td>\n      <td>5.715203</td>\n      <td>5.751844</td>\n      <td>5.877167</td>\n      <td>5.992570</td>\n      <td>5.972498</td>\n      <td>5.902739</td>\n      <td>5.946573</td>\n      <td>5.557522</td>\n      <td>5.801428</td>\n    </tr>\n    <tr>\n      <th>4</th>\n      <td>30.00</td>\n      <td>75.25</td>\n      <td>6.011416</td>\n      <td>5.510383</td>\n      <td>6.002557</td>\n      <td>5.577051</td>\n      <td>5.604459</td>\n      <td>6.180616</td>\n      <td>5.998146</td>\n      <td>5.611646</td>\n      <td>5.678306</td>\n      <td>5.805357</td>\n      <td>5.913364</td>\n      <td>5.878419</td>\n      <td>5.843176</td>\n      <td>5.829674</td>\n      <td>5.476745</td>\n      <td>5.698113</td>\n    </tr>\n    <tr>\n      <th>...</th>\n      <td>...</td>\n      <td>...</td>\n      <td>...</td>\n      <td>...</td>\n      <td>...</td>\n      <td>...</td>\n      <td>...</td>\n      <td>...</td>\n      <td>...</td>\n      <td>...</td>\n      <td>...</td>\n      <td>...</td>\n      <td>...</td>\n      <td>...</td>\n      <td>...</td>\n      <td>...</td>\n      <td>...</td>\n      <td>...</td>\n    </tr>\n    <tr>\n      <th>60</th>\n      <td>32.00</td>\n      <td>75.00</td>\n      <td>5.867669</td>\n      <td>5.440914</td>\n      <td>5.807581</td>\n      <td>5.322401</td>\n      <td>5.257420</td>\n      <td>6.156223</td>\n      <td>5.761144</td>\n      <td>5.353928</td>\n      <td>5.514215</td>\n      <td>5.729288</td>\n      <td>5.735169</td>\n      <td>5.775245</td>\n      <td>5.746664</td>\n      <td>5.678841</td>\n      <td>5.122755</td>\n      <td>5.526254</td>\n    </tr>\n    <tr>\n      <th>61</th>\n      <td>32.00</td>\n      <td>75.25</td>\n      <td>5.547072</td>\n      <td>5.163456</td>\n      <td>5.509690</td>\n      <td>5.057496</td>\n      <td>4.978762</td>\n      <td>5.809411</td>\n      <td>5.461584</td>\n      <td>5.081174</td>\n      <td>5.234768</td>\n      <td>5.435463</td>\n      <td>5.453731</td>\n      <td>5.484327</td>\n      <td>5.446640</td>\n      <td>5.383397</td>\n      <td>4.873210</td>\n      <td>5.250053</td>\n    </tr>\n    <tr>\n      <th>62</th>\n      <td>32.00</td>\n      <td>75.50</td>\n      <td>5.229610</td>\n      <td>4.886964</td>\n      <td>5.213736</td>\n      <td>4.793267</td>\n      <td>4.702584</td>\n      <td>5.467160</td>\n      <td>5.163893</td>\n      <td>4.809361</td>\n      <td>4.956788</td>\n      <td>5.143729</td>\n      <td>5.173187</td>\n      <td>5.195108</td>\n      <td>5.148783</td>\n      <td>5.090359</td>\n      <td>4.624228</td>\n      <td>4.975254</td>\n    </tr>\n    <tr>\n      <th>63</th>\n      <td>32.00</td>\n      <td>75.75</td>\n      <td>4.915362</td>\n      <td>4.611551</td>\n      <td>4.919813</td>\n      <td>4.529897</td>\n      <td>4.429011</td>\n      <td>5.129561</td>\n      <td>4.868248</td>\n      <td>4.538829</td>\n      <td>4.680390</td>\n      <td>4.854168</td>\n      <td>4.893634</td>\n      <td>4.907734</td>\n      <td>4.853248</td>\n      <td>4.799823</td>\n      <td>4.376017</td>\n      <td>4.701988</td>\n    </tr>\n    <tr>\n      <th>64</th>\n      <td>32.25</td>\n      <td>75.50</td>\n      <td>4.924500</td>\n      <td>4.645509</td>\n      <td>4.929908</td>\n      <td>4.556798</td>\n      <td>4.443905</td>\n      <td>5.153068</td>\n      <td>4.904262</td>\n      <td>4.578581</td>\n      <td>4.686106</td>\n      <td>4.870848</td>\n      <td>4.891180</td>\n      <td>4.930303</td>\n      <td>4.872528</td>\n      <td>4.826651</td>\n      <td>4.384670</td>\n      <td>4.705629</td>\n    </tr>\n  </tbody>\n</table>\n<p>65 rows × 18 columns</p>\n</div>"
     },
     "execution_count": 158,
     "metadata": {},
     "output_type": "execute_result"
    }
   ],
   "source": [
    "df = pd.read_csv(\n",
    "    \"B:\\GroundwaterRech\\GithubRepo\\Restart\\Dataset\\Final forecasted data 2020-2040\\Final forecasted data 2020-2040\\SSP126\\\\pet.csv\")\n",
    "conv_df = conv_pet(df, 2020, 2035, 'PET')\n",
    "conv_df"
   ],
   "metadata": {
    "collapsed": false,
    "ExecuteTime": {
     "end_time": "2023-06-30T10:41:28.479612900Z",
     "start_time": "2023-06-30T10:41:27.793918100Z"
    }
   }
  },
  {
   "cell_type": "code",
   "execution_count": 159,
   "outputs": [],
   "source": [
    "conv_df.to_csv(\"B:\\GroundwaterRech\\GithubRepo\\Restart\\Forecast_new\\SSP126\\pet_SSP126.csv\")"
   ],
   "metadata": {
    "collapsed": false,
    "ExecuteTime": {
     "end_time": "2023-06-30T10:43:49.451810600Z",
     "start_time": "2023-06-30T10:43:49.420566400Z"
    }
   }
  },
  {
   "cell_type": "markdown",
   "source": [
    "### TEST"
   ],
   "metadata": {
    "collapsed": false
   }
  },
  {
   "cell_type": "code",
   "execution_count": 13,
   "outputs": [],
   "source": [
    "l = result[result['lon'] == 74.80]"
   ],
   "metadata": {
    "collapsed": false,
    "ExecuteTime": {
     "end_time": "2023-06-28T17:03:17.643981600Z",
     "start_time": "2023-06-28T17:03:17.588432400Z"
    }
   }
  },
  {
   "cell_type": "code",
   "execution_count": 14,
   "outputs": [],
   "source": [
    "l1 = l[l['lat'] == 31.80]"
   ],
   "metadata": {
    "collapsed": false,
    "ExecuteTime": {
     "end_time": "2023-06-28T17:03:17.645977100Z",
     "start_time": "2023-06-28T17:03:17.603523100Z"
    }
   }
  },
  {
   "cell_type": "code",
   "execution_count": 15,
   "outputs": [
    {
     "data": {
      "text/plain": "       lat   lon  year         pr\n3625  31.8  74.8  1986  54.227091\n3626  31.8  74.8  1987  43.378693\n3627  31.8  74.8  1988  35.255272\n3628  31.8  74.8  1989  34.383029\n3629  31.8  74.8  1990  40.643300\n3630  31.8  74.8  1991  37.851230\n3631  31.8  74.8  1992  38.467825\n3632  31.8  74.8  1993  81.933598\n3633  31.8  74.8  1994  58.695271\n3634  31.8  74.8  1995  36.223168\n3635  31.8  74.8  1996  25.135397\n3636  31.8  74.8  1997  42.877495\n3637  31.8  74.8  1998  57.221876\n3638  31.8  74.8  1999  60.586188\n3639  31.8  74.8  2000  39.843800\n3640  31.8  74.8  2001  44.336268\n3641  31.8  74.8  2002  39.624250\n3642  31.8  74.8  2003  72.140278\n3643  31.8  74.8  2004  79.559689\n3644  31.8  74.8  2005  45.137036\n3645  31.8  74.8  2006  39.321012\n3646  31.8  74.8  2007  79.411241\n3647  31.8  74.8  2008  80.476296\n3648  31.8  74.8  2009  11.069574\n3649  31.8  74.8  2010  36.051717\n3650  31.8  74.8  2011  42.870791\n3651  31.8  74.8  2012  51.276310\n3652  31.8  74.8  2013  67.497928\n3653  31.8  74.8  2014  88.265001",
      "text/html": "<div>\n<style scoped>\n    .dataframe tbody tr th:only-of-type {\n        vertical-align: middle;\n    }\n\n    .dataframe tbody tr th {\n        vertical-align: top;\n    }\n\n    .dataframe thead th {\n        text-align: right;\n    }\n</style>\n<table border=\"1\" class=\"dataframe\">\n  <thead>\n    <tr style=\"text-align: right;\">\n      <th></th>\n      <th>lat</th>\n      <th>lon</th>\n      <th>year</th>\n      <th>pr</th>\n    </tr>\n  </thead>\n  <tbody>\n    <tr>\n      <th>3625</th>\n      <td>31.8</td>\n      <td>74.8</td>\n      <td>1986</td>\n      <td>54.227091</td>\n    </tr>\n    <tr>\n      <th>3626</th>\n      <td>31.8</td>\n      <td>74.8</td>\n      <td>1987</td>\n      <td>43.378693</td>\n    </tr>\n    <tr>\n      <th>3627</th>\n      <td>31.8</td>\n      <td>74.8</td>\n      <td>1988</td>\n      <td>35.255272</td>\n    </tr>\n    <tr>\n      <th>3628</th>\n      <td>31.8</td>\n      <td>74.8</td>\n      <td>1989</td>\n      <td>34.383029</td>\n    </tr>\n    <tr>\n      <th>3629</th>\n      <td>31.8</td>\n      <td>74.8</td>\n      <td>1990</td>\n      <td>40.643300</td>\n    </tr>\n    <tr>\n      <th>3630</th>\n      <td>31.8</td>\n      <td>74.8</td>\n      <td>1991</td>\n      <td>37.851230</td>\n    </tr>\n    <tr>\n      <th>3631</th>\n      <td>31.8</td>\n      <td>74.8</td>\n      <td>1992</td>\n      <td>38.467825</td>\n    </tr>\n    <tr>\n      <th>3632</th>\n      <td>31.8</td>\n      <td>74.8</td>\n      <td>1993</td>\n      <td>81.933598</td>\n    </tr>\n    <tr>\n      <th>3633</th>\n      <td>31.8</td>\n      <td>74.8</td>\n      <td>1994</td>\n      <td>58.695271</td>\n    </tr>\n    <tr>\n      <th>3634</th>\n      <td>31.8</td>\n      <td>74.8</td>\n      <td>1995</td>\n      <td>36.223168</td>\n    </tr>\n    <tr>\n      <th>3635</th>\n      <td>31.8</td>\n      <td>74.8</td>\n      <td>1996</td>\n      <td>25.135397</td>\n    </tr>\n    <tr>\n      <th>3636</th>\n      <td>31.8</td>\n      <td>74.8</td>\n      <td>1997</td>\n      <td>42.877495</td>\n    </tr>\n    <tr>\n      <th>3637</th>\n      <td>31.8</td>\n      <td>74.8</td>\n      <td>1998</td>\n      <td>57.221876</td>\n    </tr>\n    <tr>\n      <th>3638</th>\n      <td>31.8</td>\n      <td>74.8</td>\n      <td>1999</td>\n      <td>60.586188</td>\n    </tr>\n    <tr>\n      <th>3639</th>\n      <td>31.8</td>\n      <td>74.8</td>\n      <td>2000</td>\n      <td>39.843800</td>\n    </tr>\n    <tr>\n      <th>3640</th>\n      <td>31.8</td>\n      <td>74.8</td>\n      <td>2001</td>\n      <td>44.336268</td>\n    </tr>\n    <tr>\n      <th>3641</th>\n      <td>31.8</td>\n      <td>74.8</td>\n      <td>2002</td>\n      <td>39.624250</td>\n    </tr>\n    <tr>\n      <th>3642</th>\n      <td>31.8</td>\n      <td>74.8</td>\n      <td>2003</td>\n      <td>72.140278</td>\n    </tr>\n    <tr>\n      <th>3643</th>\n      <td>31.8</td>\n      <td>74.8</td>\n      <td>2004</td>\n      <td>79.559689</td>\n    </tr>\n    <tr>\n      <th>3644</th>\n      <td>31.8</td>\n      <td>74.8</td>\n      <td>2005</td>\n      <td>45.137036</td>\n    </tr>\n    <tr>\n      <th>3645</th>\n      <td>31.8</td>\n      <td>74.8</td>\n      <td>2006</td>\n      <td>39.321012</td>\n    </tr>\n    <tr>\n      <th>3646</th>\n      <td>31.8</td>\n      <td>74.8</td>\n      <td>2007</td>\n      <td>79.411241</td>\n    </tr>\n    <tr>\n      <th>3647</th>\n      <td>31.8</td>\n      <td>74.8</td>\n      <td>2008</td>\n      <td>80.476296</td>\n    </tr>\n    <tr>\n      <th>3648</th>\n      <td>31.8</td>\n      <td>74.8</td>\n      <td>2009</td>\n      <td>11.069574</td>\n    </tr>\n    <tr>\n      <th>3649</th>\n      <td>31.8</td>\n      <td>74.8</td>\n      <td>2010</td>\n      <td>36.051717</td>\n    </tr>\n    <tr>\n      <th>3650</th>\n      <td>31.8</td>\n      <td>74.8</td>\n      <td>2011</td>\n      <td>42.870791</td>\n    </tr>\n    <tr>\n      <th>3651</th>\n      <td>31.8</td>\n      <td>74.8</td>\n      <td>2012</td>\n      <td>51.276310</td>\n    </tr>\n    <tr>\n      <th>3652</th>\n      <td>31.8</td>\n      <td>74.8</td>\n      <td>2013</td>\n      <td>67.497928</td>\n    </tr>\n    <tr>\n      <th>3653</th>\n      <td>31.8</td>\n      <td>74.8</td>\n      <td>2014</td>\n      <td>88.265001</td>\n    </tr>\n  </tbody>\n</table>\n</div>"
     },
     "execution_count": 15,
     "metadata": {},
     "output_type": "execute_result"
    }
   ],
   "source": [
    "l1"
   ],
   "metadata": {
    "collapsed": false,
    "ExecuteTime": {
     "end_time": "2023-06-28T17:03:17.703278100Z",
     "start_time": "2023-06-28T17:03:17.619622Z"
    }
   }
  },
  {
   "cell_type": "code",
   "execution_count": 23,
   "outputs": [],
   "source": [
    "modeled_data = np.array(l1['pr'])\n",
    "obs_data = np.array([110.96,\n",
    "                     62.08,\n",
    "                     173.2,\n",
    "                     119.02,\n",
    "                     152.28,\n",
    "                     88.04,\n",
    "                     124.04,\n",
    "                     97.26,\n",
    "                     100.66,\n",
    "                     163.44,\n",
    "                     149.88,\n",
    "                     146.08,\n",
    "                     98.06,\n",
    "                     86.42,\n",
    "                     109,\n",
    "                     122.32,\n",
    "                     91.02,\n",
    "                     119.3,\n",
    "                     96.38,\n",
    "                     106.68,\n",
    "                     188.04,\n",
    "                     96.76,\n",
    "                     144.64,\n",
    "                     64.86,\n",
    "                     137.9,\n",
    "                     148.6,\n",
    "                     115.18,\n",
    "                     156.74,\n",
    "                     130.16,\n",
    "                     ])\n"
   ],
   "metadata": {
    "collapsed": false,
    "ExecuteTime": {
     "end_time": "2023-06-28T17:03:22.209562500Z",
     "start_time": "2023-06-28T17:03:22.158667Z"
    }
   }
  },
  {
   "cell_type": "code",
   "execution_count": null,
   "outputs": [],
   "source": [],
   "metadata": {
    "collapsed": false
   }
  }
 ],
 "metadata": {
  "kernelspec": {
   "display_name": "Python 3",
   "language": "python",
   "name": "python3"
  },
  "language_info": {
   "codemirror_mode": {
    "name": "ipython",
    "version": 2
   },
   "file_extension": ".py",
   "mimetype": "text/x-python",
   "name": "python",
   "nbconvert_exporter": "python",
   "pygments_lexer": "ipython2",
   "version": "2.7.6"
  }
 },
 "nbformat": 4,
 "nbformat_minor": 0
}
