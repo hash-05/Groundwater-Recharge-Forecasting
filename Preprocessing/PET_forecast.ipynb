{
 "cells": [
  {
   "cell_type": "code",
   "execution_count": 1,
   "metadata": {
    "collapsed": true,
    "ExecuteTime": {
     "end_time": "2023-06-30T09:52:11.668185200Z",
     "start_time": "2023-06-30T09:52:11.652163Z"
    }
   },
   "outputs": [],
   "source": [
    "import numpy as np\n",
    "import pandas as pd"
   ]
  },
  {
   "cell_type": "code",
   "execution_count": 18,
   "outputs": [],
   "source": [
    "def preprocess(df, start_year, end_year, var):\n",
    "    df.drop(['Unnamed: 0'], axis=1, inplace=True)\n",
    "    df.drop(['height'], inplace=True, axis=1)\n",
    "    df['time'] = pd.to_datetime(df['time'])\n",
    "    df['month'] = df['time'].dt.month\n",
    "    df = df[df['time'].dt.month.between(6, 10)]\n",
    "    df = df[df['time'].dt.year.between(start_year, end_year)]\n",
    "    df[var] = df[var] - 273.15\n",
    "    return df\n"
   ],
   "metadata": {
    "collapsed": false,
    "ExecuteTime": {
     "end_time": "2023-06-30T10:11:49.364476500Z",
     "start_time": "2023-06-30T10:11:49.348843500Z"
    }
   }
  },
  {
   "cell_type": "code",
   "execution_count": 19,
   "outputs": [],
   "source": [
    "df_tmin = preprocess(pd.read_csv(\n",
    "    \"B:\\GroundwaterRech\\GithubRepo\\Restart\\Dataset\\Final forecasted data 2020-2040\\Final forecasted data 2020-2040\\SSP126\\\\tmin.csv\"),\n",
    "    2020, 2035, 'tasmin')\n",
    "\n",
    "df_tmax = preprocess(pd.read_csv(\n",
    "    \"B:\\GroundwaterRech\\GithubRepo\\Restart\\Dataset\\Final forecasted data 2020-2040\\Final forecasted data 2020-2040\\SSP126\\\\tmax.csv\"),\n",
    "    2020, 2035, 'tasmax')\n",
    "\n",
    "df_tavg = preprocess(pd.read_csv(\n",
    "    \"B:\\GroundwaterRech\\GithubRepo\\Restart\\Dataset\\Final forecasted data 2020-2040\\Final forecasted data 2020-2040\\SSP126\\\\tavg.csv\"),\n",
    "    2020, 2035, 'tas')"
   ],
   "metadata": {
    "collapsed": false,
    "ExecuteTime": {
     "end_time": "2023-06-30T10:12:00.487567700Z",
     "start_time": "2023-06-30T10:11:50.284370Z"
    }
   }
  },
  {
   "cell_type": "code",
   "execution_count": 20,
   "outputs": [
    {
     "data": {
      "text/plain": "                       time   lat    lon     tasmin  month\n308568  2020-06-01 12:00:00  29.3  73.55  21.658688      6\n308569  2020-06-01 12:00:00  29.3  73.80  21.576681      6\n308570  2020-06-01 12:00:00  29.3  74.05  21.494674      6\n308571  2020-06-01 12:00:00  29.3  74.30  21.412667      6\n308572  2020-06-01 12:00:00  29.3  74.55  21.330660      6\n...                     ...   ...    ...        ...    ...\n1186999 2035-10-31 12:00:00  32.3  75.30   2.782446     10\n1187000 2035-10-31 12:00:00  32.3  75.55   0.398122     10\n1187001 2035-10-31 12:00:00  32.3  75.80  -1.986202     10\n1187002 2035-10-31 12:00:00  32.3  76.05  -4.370527     10\n1187003 2035-10-31 12:00:00  32.3  76.30  -6.754851     10\n\n[381888 rows x 5 columns]",
      "text/html": "<div>\n<style scoped>\n    .dataframe tbody tr th:only-of-type {\n        vertical-align: middle;\n    }\n\n    .dataframe tbody tr th {\n        vertical-align: top;\n    }\n\n    .dataframe thead th {\n        text-align: right;\n    }\n</style>\n<table border=\"1\" class=\"dataframe\">\n  <thead>\n    <tr style=\"text-align: right;\">\n      <th></th>\n      <th>time</th>\n      <th>lat</th>\n      <th>lon</th>\n      <th>tasmin</th>\n      <th>month</th>\n    </tr>\n  </thead>\n  <tbody>\n    <tr>\n      <th>308568</th>\n      <td>2020-06-01 12:00:00</td>\n      <td>29.3</td>\n      <td>73.55</td>\n      <td>21.658688</td>\n      <td>6</td>\n    </tr>\n    <tr>\n      <th>308569</th>\n      <td>2020-06-01 12:00:00</td>\n      <td>29.3</td>\n      <td>73.80</td>\n      <td>21.576681</td>\n      <td>6</td>\n    </tr>\n    <tr>\n      <th>308570</th>\n      <td>2020-06-01 12:00:00</td>\n      <td>29.3</td>\n      <td>74.05</td>\n      <td>21.494674</td>\n      <td>6</td>\n    </tr>\n    <tr>\n      <th>308571</th>\n      <td>2020-06-01 12:00:00</td>\n      <td>29.3</td>\n      <td>74.30</td>\n      <td>21.412667</td>\n      <td>6</td>\n    </tr>\n    <tr>\n      <th>308572</th>\n      <td>2020-06-01 12:00:00</td>\n      <td>29.3</td>\n      <td>74.55</td>\n      <td>21.330660</td>\n      <td>6</td>\n    </tr>\n    <tr>\n      <th>...</th>\n      <td>...</td>\n      <td>...</td>\n      <td>...</td>\n      <td>...</td>\n      <td>...</td>\n    </tr>\n    <tr>\n      <th>1186999</th>\n      <td>2035-10-31 12:00:00</td>\n      <td>32.3</td>\n      <td>75.30</td>\n      <td>2.782446</td>\n      <td>10</td>\n    </tr>\n    <tr>\n      <th>1187000</th>\n      <td>2035-10-31 12:00:00</td>\n      <td>32.3</td>\n      <td>75.55</td>\n      <td>0.398122</td>\n      <td>10</td>\n    </tr>\n    <tr>\n      <th>1187001</th>\n      <td>2035-10-31 12:00:00</td>\n      <td>32.3</td>\n      <td>75.80</td>\n      <td>-1.986202</td>\n      <td>10</td>\n    </tr>\n    <tr>\n      <th>1187002</th>\n      <td>2035-10-31 12:00:00</td>\n      <td>32.3</td>\n      <td>76.05</td>\n      <td>-4.370527</td>\n      <td>10</td>\n    </tr>\n    <tr>\n      <th>1187003</th>\n      <td>2035-10-31 12:00:00</td>\n      <td>32.3</td>\n      <td>76.30</td>\n      <td>-6.754851</td>\n      <td>10</td>\n    </tr>\n  </tbody>\n</table>\n<p>381888 rows × 5 columns</p>\n</div>"
     },
     "execution_count": 20,
     "metadata": {},
     "output_type": "execute_result"
    }
   ],
   "source": [
    "df_tmin"
   ],
   "metadata": {
    "collapsed": false,
    "ExecuteTime": {
     "end_time": "2023-06-30T10:12:01.239354300Z",
     "start_time": "2023-06-30T10:12:01.208109300Z"
    }
   }
  },
  {
   "cell_type": "code",
   "execution_count": 23,
   "outputs": [],
   "source": [
    "merged_df = df_tmin.merge(df_tmax, on=['time', 'lat', 'lon']).merge(df_tavg, on=['time', 'lat', 'lon'])\n",
    "merged_df.drop(['month_x', 'month_y'], axis=1, inplace=True)"
   ],
   "metadata": {
    "collapsed": false,
    "ExecuteTime": {
     "end_time": "2023-06-30T10:21:21.391078300Z",
     "start_time": "2023-06-30T10:21:20.851769900Z"
    }
   }
  },
  {
   "cell_type": "code",
   "execution_count": 24,
   "outputs": [
    {
     "data": {
      "text/plain": "                      time   lat    lon     tasmin     tasmax        tas  \\\n0      2020-06-01 12:00:00  29.3  73.55  21.658688  36.707586  30.864836   \n1      2020-06-01 12:00:00  29.3  73.80  21.576681  36.665179  30.706705   \n2      2020-06-01 12:00:00  29.3  74.05  21.494674  36.622771  30.548573   \n3      2020-06-01 12:00:00  29.3  74.30  21.412667  36.580364  30.390442   \n4      2020-06-01 12:00:00  29.3  74.55  21.330660  36.537957  30.232310   \n...                    ...   ...    ...        ...        ...        ...   \n381883 2035-10-31 12:00:00  32.3  75.30   2.782446  20.150101  11.248109   \n381884 2035-10-31 12:00:00  32.3  75.55   0.398122  17.820745   9.007311   \n381885 2035-10-31 12:00:00  32.3  75.80  -1.986202  15.491389   6.766512   \n381886 2035-10-31 12:00:00  32.3  76.05  -4.370527  13.162033   4.525714   \n381887 2035-10-31 12:00:00  32.3  76.30  -6.754851  10.832677   2.284915   \n\n        month  \n0           6  \n1           6  \n2           6  \n3           6  \n4           6  \n...       ...  \n381883     10  \n381884     10  \n381885     10  \n381886     10  \n381887     10  \n\n[381888 rows x 7 columns]",
      "text/html": "<div>\n<style scoped>\n    .dataframe tbody tr th:only-of-type {\n        vertical-align: middle;\n    }\n\n    .dataframe tbody tr th {\n        vertical-align: top;\n    }\n\n    .dataframe thead th {\n        text-align: right;\n    }\n</style>\n<table border=\"1\" class=\"dataframe\">\n  <thead>\n    <tr style=\"text-align: right;\">\n      <th></th>\n      <th>time</th>\n      <th>lat</th>\n      <th>lon</th>\n      <th>tasmin</th>\n      <th>tasmax</th>\n      <th>tas</th>\n      <th>month</th>\n    </tr>\n  </thead>\n  <tbody>\n    <tr>\n      <th>0</th>\n      <td>2020-06-01 12:00:00</td>\n      <td>29.3</td>\n      <td>73.55</td>\n      <td>21.658688</td>\n      <td>36.707586</td>\n      <td>30.864836</td>\n      <td>6</td>\n    </tr>\n    <tr>\n      <th>1</th>\n      <td>2020-06-01 12:00:00</td>\n      <td>29.3</td>\n      <td>73.80</td>\n      <td>21.576681</td>\n      <td>36.665179</td>\n      <td>30.706705</td>\n      <td>6</td>\n    </tr>\n    <tr>\n      <th>2</th>\n      <td>2020-06-01 12:00:00</td>\n      <td>29.3</td>\n      <td>74.05</td>\n      <td>21.494674</td>\n      <td>36.622771</td>\n      <td>30.548573</td>\n      <td>6</td>\n    </tr>\n    <tr>\n      <th>3</th>\n      <td>2020-06-01 12:00:00</td>\n      <td>29.3</td>\n      <td>74.30</td>\n      <td>21.412667</td>\n      <td>36.580364</td>\n      <td>30.390442</td>\n      <td>6</td>\n    </tr>\n    <tr>\n      <th>4</th>\n      <td>2020-06-01 12:00:00</td>\n      <td>29.3</td>\n      <td>74.55</td>\n      <td>21.330660</td>\n      <td>36.537957</td>\n      <td>30.232310</td>\n      <td>6</td>\n    </tr>\n    <tr>\n      <th>...</th>\n      <td>...</td>\n      <td>...</td>\n      <td>...</td>\n      <td>...</td>\n      <td>...</td>\n      <td>...</td>\n      <td>...</td>\n    </tr>\n    <tr>\n      <th>381883</th>\n      <td>2035-10-31 12:00:00</td>\n      <td>32.3</td>\n      <td>75.30</td>\n      <td>2.782446</td>\n      <td>20.150101</td>\n      <td>11.248109</td>\n      <td>10</td>\n    </tr>\n    <tr>\n      <th>381884</th>\n      <td>2035-10-31 12:00:00</td>\n      <td>32.3</td>\n      <td>75.55</td>\n      <td>0.398122</td>\n      <td>17.820745</td>\n      <td>9.007311</td>\n      <td>10</td>\n    </tr>\n    <tr>\n      <th>381885</th>\n      <td>2035-10-31 12:00:00</td>\n      <td>32.3</td>\n      <td>75.80</td>\n      <td>-1.986202</td>\n      <td>15.491389</td>\n      <td>6.766512</td>\n      <td>10</td>\n    </tr>\n    <tr>\n      <th>381886</th>\n      <td>2035-10-31 12:00:00</td>\n      <td>32.3</td>\n      <td>76.05</td>\n      <td>-4.370527</td>\n      <td>13.162033</td>\n      <td>4.525714</td>\n      <td>10</td>\n    </tr>\n    <tr>\n      <th>381887</th>\n      <td>2035-10-31 12:00:00</td>\n      <td>32.3</td>\n      <td>76.30</td>\n      <td>-6.754851</td>\n      <td>10.832677</td>\n      <td>2.284915</td>\n      <td>10</td>\n    </tr>\n  </tbody>\n</table>\n<p>381888 rows × 7 columns</p>\n</div>"
     },
     "execution_count": 24,
     "metadata": {},
     "output_type": "execute_result"
    }
   ],
   "source": [
    "merged_df"
   ],
   "metadata": {
    "collapsed": false,
    "ExecuteTime": {
     "end_time": "2023-06-30T10:21:22.691142300Z",
     "start_time": "2023-06-30T10:21:22.659896800Z"
    }
   }
  },
  {
   "cell_type": "code",
   "execution_count": 25,
   "outputs": [],
   "source": [
    "factor = {6: 17.0, 7: 16.7, 8: 15.7, 9: 13.9, 10: 11.7}"
   ],
   "metadata": {
    "collapsed": false,
    "ExecuteTime": {
     "end_time": "2023-06-30T10:21:31.396353900Z",
     "start_time": "2023-06-30T10:21:31.380724600Z"
    }
   }
  },
  {
   "cell_type": "code",
   "execution_count": 29,
   "outputs": [],
   "source": [
    "def calculate_pet(tavg, tmax, tmin, factor):\n",
    "    return 0.0023 * (tavg + 17.8) * ((tmax - tmin) ** 0.5) * factor"
   ],
   "metadata": {
    "collapsed": false,
    "ExecuteTime": {
     "end_time": "2023-06-30T10:33:43.869878100Z",
     "start_time": "2023-06-30T10:33:43.838241400Z"
    }
   }
  },
  {
   "cell_type": "code",
   "execution_count": 30,
   "outputs": [],
   "source": [
    "merged_df['PET'] = merged_df.apply(\n",
    "    lambda row: calculate_pet(row['tas'], row['tasmax'], row['tasmin'], factor[row['month']]), axis=1)"
   ],
   "metadata": {
    "collapsed": false,
    "ExecuteTime": {
     "end_time": "2023-06-30T10:33:49.937255600Z",
     "start_time": "2023-06-30T10:33:45.493142Z"
    }
   }
  },
  {
   "cell_type": "code",
   "execution_count": 32,
   "outputs": [
    {
     "data": {
      "text/plain": "                      time   lat    lon     tasmin     tasmax        tas  \\\n0      2020-06-01 12:00:00  29.3  73.55  21.658688  36.707586  30.864836   \n1      2020-06-01 12:00:00  29.3  73.80  21.576681  36.665179  30.706705   \n2      2020-06-01 12:00:00  29.3  74.05  21.494674  36.622771  30.548573   \n3      2020-06-01 12:00:00  29.3  74.30  21.412667  36.580364  30.390442   \n4      2020-06-01 12:00:00  29.3  74.55  21.330660  36.537957  30.232310   \n...                    ...   ...    ...        ...        ...        ...   \n381883 2035-10-31 12:00:00  32.3  75.30   2.782446  20.150101  11.248109   \n381884 2035-10-31 12:00:00  32.3  75.55   0.398122  17.820745   9.007311   \n381885 2035-10-31 12:00:00  32.3  75.80  -1.986202  15.491389   6.766512   \n381886 2035-10-31 12:00:00  32.3  76.05  -4.370527  13.162033   4.525714   \n381887 2035-10-31 12:00:00  32.3  76.30  -6.754851  10.832677   2.284915   \n\n        month       PET  \n0           6  7.381496  \n1           6  7.367184  \n2           6  7.352797  \n3           6  7.338334  \n4           6  7.323796  \n...       ...       ...  \n381883     10  3.257633  \n381884     10  3.011090  \n381885     10  2.763745  \n381886     10  2.515601  \n381887     10  2.266659  \n\n[381888 rows x 8 columns]",
      "text/html": "<div>\n<style scoped>\n    .dataframe tbody tr th:only-of-type {\n        vertical-align: middle;\n    }\n\n    .dataframe tbody tr th {\n        vertical-align: top;\n    }\n\n    .dataframe thead th {\n        text-align: right;\n    }\n</style>\n<table border=\"1\" class=\"dataframe\">\n  <thead>\n    <tr style=\"text-align: right;\">\n      <th></th>\n      <th>time</th>\n      <th>lat</th>\n      <th>lon</th>\n      <th>tasmin</th>\n      <th>tasmax</th>\n      <th>tas</th>\n      <th>month</th>\n      <th>PET</th>\n    </tr>\n  </thead>\n  <tbody>\n    <tr>\n      <th>0</th>\n      <td>2020-06-01 12:00:00</td>\n      <td>29.3</td>\n      <td>73.55</td>\n      <td>21.658688</td>\n      <td>36.707586</td>\n      <td>30.864836</td>\n      <td>6</td>\n      <td>7.381496</td>\n    </tr>\n    <tr>\n      <th>1</th>\n      <td>2020-06-01 12:00:00</td>\n      <td>29.3</td>\n      <td>73.80</td>\n      <td>21.576681</td>\n      <td>36.665179</td>\n      <td>30.706705</td>\n      <td>6</td>\n      <td>7.367184</td>\n    </tr>\n    <tr>\n      <th>2</th>\n      <td>2020-06-01 12:00:00</td>\n      <td>29.3</td>\n      <td>74.05</td>\n      <td>21.494674</td>\n      <td>36.622771</td>\n      <td>30.548573</td>\n      <td>6</td>\n      <td>7.352797</td>\n    </tr>\n    <tr>\n      <th>3</th>\n      <td>2020-06-01 12:00:00</td>\n      <td>29.3</td>\n      <td>74.30</td>\n      <td>21.412667</td>\n      <td>36.580364</td>\n      <td>30.390442</td>\n      <td>6</td>\n      <td>7.338334</td>\n    </tr>\n    <tr>\n      <th>4</th>\n      <td>2020-06-01 12:00:00</td>\n      <td>29.3</td>\n      <td>74.55</td>\n      <td>21.330660</td>\n      <td>36.537957</td>\n      <td>30.232310</td>\n      <td>6</td>\n      <td>7.323796</td>\n    </tr>\n    <tr>\n      <th>...</th>\n      <td>...</td>\n      <td>...</td>\n      <td>...</td>\n      <td>...</td>\n      <td>...</td>\n      <td>...</td>\n      <td>...</td>\n      <td>...</td>\n    </tr>\n    <tr>\n      <th>381883</th>\n      <td>2035-10-31 12:00:00</td>\n      <td>32.3</td>\n      <td>75.30</td>\n      <td>2.782446</td>\n      <td>20.150101</td>\n      <td>11.248109</td>\n      <td>10</td>\n      <td>3.257633</td>\n    </tr>\n    <tr>\n      <th>381884</th>\n      <td>2035-10-31 12:00:00</td>\n      <td>32.3</td>\n      <td>75.55</td>\n      <td>0.398122</td>\n      <td>17.820745</td>\n      <td>9.007311</td>\n      <td>10</td>\n      <td>3.011090</td>\n    </tr>\n    <tr>\n      <th>381885</th>\n      <td>2035-10-31 12:00:00</td>\n      <td>32.3</td>\n      <td>75.80</td>\n      <td>-1.986202</td>\n      <td>15.491389</td>\n      <td>6.766512</td>\n      <td>10</td>\n      <td>2.763745</td>\n    </tr>\n    <tr>\n      <th>381886</th>\n      <td>2035-10-31 12:00:00</td>\n      <td>32.3</td>\n      <td>76.05</td>\n      <td>-4.370527</td>\n      <td>13.162033</td>\n      <td>4.525714</td>\n      <td>10</td>\n      <td>2.515601</td>\n    </tr>\n    <tr>\n      <th>381887</th>\n      <td>2035-10-31 12:00:00</td>\n      <td>32.3</td>\n      <td>76.30</td>\n      <td>-6.754851</td>\n      <td>10.832677</td>\n      <td>2.284915</td>\n      <td>10</td>\n      <td>2.266659</td>\n    </tr>\n  </tbody>\n</table>\n<p>381888 rows × 8 columns</p>\n</div>"
     },
     "execution_count": 32,
     "metadata": {},
     "output_type": "execute_result"
    }
   ],
   "source": [
    "merged_df"
   ],
   "metadata": {
    "collapsed": false,
    "ExecuteTime": {
     "end_time": "2023-06-30T10:36:45.584955900Z",
     "start_time": "2023-06-30T10:36:45.553712900Z"
    }
   }
  },
  {
   "cell_type": "code",
   "execution_count": 33,
   "outputs": [],
   "source": [
    "merged_df.to_csv(\n",
    "    \"B:\\GroundwaterRech\\GithubRepo\\Restart\\Dataset\\Final forecasted data 2020-2040\\Final forecasted data 2020-2040\\SSP126\\\\pet.csv\")"
   ],
   "metadata": {
    "collapsed": false,
    "ExecuteTime": {
     "end_time": "2023-06-30T10:36:52.067575Z",
     "start_time": "2023-06-30T10:36:49.408612500Z"
    }
   }
  },
  {
   "cell_type": "markdown",
   "source": [],
   "metadata": {
    "collapsed": false
   }
  },
  {
   "cell_type": "code",
   "execution_count": null,
   "outputs": [],
   "source": [],
   "metadata": {
    "collapsed": false
   }
  }
 ],
 "metadata": {
  "kernelspec": {
   "display_name": "Python 3",
   "language": "python",
   "name": "python3"
  },
  "language_info": {
   "codemirror_mode": {
    "name": "ipython",
    "version": 2
   },
   "file_extension": ".py",
   "mimetype": "text/x-python",
   "name": "python",
   "nbconvert_exporter": "python",
   "pygments_lexer": "ipython2",
   "version": "2.7.6"
  }
 },
 "nbformat": 4,
 "nbformat_minor": 0
}
