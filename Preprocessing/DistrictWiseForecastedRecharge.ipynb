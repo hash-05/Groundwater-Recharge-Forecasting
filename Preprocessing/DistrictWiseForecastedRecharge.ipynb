{
 "cells": [
  {
   "cell_type": "code",
   "execution_count": 12,
   "metadata": {
    "collapsed": true,
    "ExecuteTime": {
     "end_time": "2023-08-17T16:56:21.690306200Z",
     "start_time": "2023-08-17T16:56:21.658842400Z"
    }
   },
   "outputs": [],
   "source": [
    "import pandas as pd\n",
    "import xlsxwriter"
   ]
  },
  {
   "cell_type": "code",
   "execution_count": 13,
   "outputs": [],
   "source": [
    "df = pd.read_excel(\"B:\\GroundwaterRech\\GithubRepo\\Restart\\Forecast_new\\Pre-Post_Forecasted_all.xlsx\",\n",
    "                   sheet_name='SSP126')"
   ],
   "metadata": {
    "collapsed": false,
    "ExecuteTime": {
     "end_time": "2023-08-17T16:56:22.436719200Z",
     "start_time": "2023-08-17T16:56:22.358012400Z"
    }
   }
  },
  {
   "cell_type": "code",
   "execution_count": 14,
   "outputs": [
    {
     "data": {
      "text/plain": "                     District  Object Id  Longitude  Latitude     Slope  \\\n0                    Faridkot          1      75.25     29.75  0.496398   \n1                     Patiala          2      76.00     29.75  0.992721   \n2                    Amritsar          6      74.75     30.00  0.701995   \n3                    Amritsar          7      75.00     30.00  0.784844   \n4                    Amritsar          8      75.25     30.00  0.784844   \n..                        ...        ...        ...       ...       ...   \n60  Shahid Bhagat Singh Nagar         71      75.00     32.00  1.446964   \n61  Shahid Bhagat Singh Nagar         72      75.25     32.00  1.446964   \n62  Shahid Bhagat Singh Nagar         73      75.50     32.00  0.701995   \n63                    Fazilka         74      75.75     32.00  2.218904   \n64  Shahid Bhagat Singh Nagar         75      75.50     32.25  2.827676   \n\n             Soil Type  1986  1987  1988  1989  ...      2026      2027  \\\n0              Builtup  0.09 -0.83  1.48 -0.30  ...  2.053720 -0.087979   \n1     Haplic Calcisols  1.04 -0.60  1.45  0.12  ... -0.032571 -0.549061   \n2              Bulitup  0.15 -0.25  2.26  0.36  ...  1.439913  0.654923   \n3              Builtup  0.28  0.60  4.85  0.68  ...  0.701529 -0.259867   \n4              Builtup  0.15 -0.25  2.26  0.36  ...  1.862033 -0.321842   \n..                 ...   ...   ...   ...   ...  ...       ...       ...   \n60  Calcaric Fluvisols  2.79 -1.30  7.90  2.20  ...  1.778433  1.796496   \n61    Haplic Calcisols  0.83 -0.92  3.68  1.01  ...  1.408372  1.295232   \n62                Loam  2.79 -1.30  7.90  2.20  ...  1.878295  1.739912   \n63                Loam  0.20 -0.13  1.06  0.63  ...  0.911622  1.301024   \n64  Calcaric Fluvisols  0.83 -0.92  3.68  1.01  ...  2.497663  2.268878   \n\n        2028      2029      2030      2031      2032      2033      2034  \\\n0   1.468322 -0.081840  0.296563 -0.078197  0.898262  1.665772 -0.118141   \n1  -1.168408 -0.627456 -1.215979 -0.686700 -0.443027 -0.252623 -0.468973   \n2   1.303157 -0.425271  0.223895 -1.238247  0.069443 -0.028607  1.408980   \n3   1.303157 -0.259867  0.307848 -0.308167  1.408980  1.381552  1.598567   \n4   1.300221 -0.274366 -0.041234 -0.335755 -0.243159  1.540361 -0.286241   \n..       ...       ...       ...       ...       ...       ...       ...   \n60  1.575544  1.296048  1.489119  1.443148  2.524194  1.732426  1.591470   \n61  1.424445  1.075805  1.406539  1.337560  2.466190  1.398375  2.023729   \n62  1.668090  1.080645  1.657587  1.709373  1.789345  1.880704  1.896252   \n63  0.833049  1.326155  1.185175  1.322192  0.816804  1.012315  0.935736   \n64  2.177986  2.253041  2.218273  2.345137  2.366260  2.401131  2.538745   \n\n        2035  \n0   1.730667  \n1  -1.176745  \n2   0.015434  \n3   0.248649  \n4   1.562566  \n..       ...  \n60  1.538984  \n61  1.330080  \n62  1.707201  \n63  1.234232  \n64  2.245787  \n\n[65 rows x 56 columns]",
      "text/html": "<div>\n<style scoped>\n    .dataframe tbody tr th:only-of-type {\n        vertical-align: middle;\n    }\n\n    .dataframe tbody tr th {\n        vertical-align: top;\n    }\n\n    .dataframe thead th {\n        text-align: right;\n    }\n</style>\n<table border=\"1\" class=\"dataframe\">\n  <thead>\n    <tr style=\"text-align: right;\">\n      <th></th>\n      <th>District</th>\n      <th>Object Id</th>\n      <th>Longitude</th>\n      <th>Latitude</th>\n      <th>Slope</th>\n      <th>Soil Type</th>\n      <th>1986</th>\n      <th>1987</th>\n      <th>1988</th>\n      <th>1989</th>\n      <th>...</th>\n      <th>2026</th>\n      <th>2027</th>\n      <th>2028</th>\n      <th>2029</th>\n      <th>2030</th>\n      <th>2031</th>\n      <th>2032</th>\n      <th>2033</th>\n      <th>2034</th>\n      <th>2035</th>\n    </tr>\n  </thead>\n  <tbody>\n    <tr>\n      <th>0</th>\n      <td>Faridkot</td>\n      <td>1</td>\n      <td>75.25</td>\n      <td>29.75</td>\n      <td>0.496398</td>\n      <td>Builtup</td>\n      <td>0.09</td>\n      <td>-0.83</td>\n      <td>1.48</td>\n      <td>-0.30</td>\n      <td>...</td>\n      <td>2.053720</td>\n      <td>-0.087979</td>\n      <td>1.468322</td>\n      <td>-0.081840</td>\n      <td>0.296563</td>\n      <td>-0.078197</td>\n      <td>0.898262</td>\n      <td>1.665772</td>\n      <td>-0.118141</td>\n      <td>1.730667</td>\n    </tr>\n    <tr>\n      <th>1</th>\n      <td>Patiala</td>\n      <td>2</td>\n      <td>76.00</td>\n      <td>29.75</td>\n      <td>0.992721</td>\n      <td>Haplic Calcisols</td>\n      <td>1.04</td>\n      <td>-0.60</td>\n      <td>1.45</td>\n      <td>0.12</td>\n      <td>...</td>\n      <td>-0.032571</td>\n      <td>-0.549061</td>\n      <td>-1.168408</td>\n      <td>-0.627456</td>\n      <td>-1.215979</td>\n      <td>-0.686700</td>\n      <td>-0.443027</td>\n      <td>-0.252623</td>\n      <td>-0.468973</td>\n      <td>-1.176745</td>\n    </tr>\n    <tr>\n      <th>2</th>\n      <td>Amritsar</td>\n      <td>6</td>\n      <td>74.75</td>\n      <td>30.00</td>\n      <td>0.701995</td>\n      <td>Bulitup</td>\n      <td>0.15</td>\n      <td>-0.25</td>\n      <td>2.26</td>\n      <td>0.36</td>\n      <td>...</td>\n      <td>1.439913</td>\n      <td>0.654923</td>\n      <td>1.303157</td>\n      <td>-0.425271</td>\n      <td>0.223895</td>\n      <td>-1.238247</td>\n      <td>0.069443</td>\n      <td>-0.028607</td>\n      <td>1.408980</td>\n      <td>0.015434</td>\n    </tr>\n    <tr>\n      <th>3</th>\n      <td>Amritsar</td>\n      <td>7</td>\n      <td>75.00</td>\n      <td>30.00</td>\n      <td>0.784844</td>\n      <td>Builtup</td>\n      <td>0.28</td>\n      <td>0.60</td>\n      <td>4.85</td>\n      <td>0.68</td>\n      <td>...</td>\n      <td>0.701529</td>\n      <td>-0.259867</td>\n      <td>1.303157</td>\n      <td>-0.259867</td>\n      <td>0.307848</td>\n      <td>-0.308167</td>\n      <td>1.408980</td>\n      <td>1.381552</td>\n      <td>1.598567</td>\n      <td>0.248649</td>\n    </tr>\n    <tr>\n      <th>4</th>\n      <td>Amritsar</td>\n      <td>8</td>\n      <td>75.25</td>\n      <td>30.00</td>\n      <td>0.784844</td>\n      <td>Builtup</td>\n      <td>0.15</td>\n      <td>-0.25</td>\n      <td>2.26</td>\n      <td>0.36</td>\n      <td>...</td>\n      <td>1.862033</td>\n      <td>-0.321842</td>\n      <td>1.300221</td>\n      <td>-0.274366</td>\n      <td>-0.041234</td>\n      <td>-0.335755</td>\n      <td>-0.243159</td>\n      <td>1.540361</td>\n      <td>-0.286241</td>\n      <td>1.562566</td>\n    </tr>\n    <tr>\n      <th>...</th>\n      <td>...</td>\n      <td>...</td>\n      <td>...</td>\n      <td>...</td>\n      <td>...</td>\n      <td>...</td>\n      <td>...</td>\n      <td>...</td>\n      <td>...</td>\n      <td>...</td>\n      <td>...</td>\n      <td>...</td>\n      <td>...</td>\n      <td>...</td>\n      <td>...</td>\n      <td>...</td>\n      <td>...</td>\n      <td>...</td>\n      <td>...</td>\n      <td>...</td>\n      <td>...</td>\n    </tr>\n    <tr>\n      <th>60</th>\n      <td>Shahid Bhagat Singh Nagar</td>\n      <td>71</td>\n      <td>75.00</td>\n      <td>32.00</td>\n      <td>1.446964</td>\n      <td>Calcaric Fluvisols</td>\n      <td>2.79</td>\n      <td>-1.30</td>\n      <td>7.90</td>\n      <td>2.20</td>\n      <td>...</td>\n      <td>1.778433</td>\n      <td>1.796496</td>\n      <td>1.575544</td>\n      <td>1.296048</td>\n      <td>1.489119</td>\n      <td>1.443148</td>\n      <td>2.524194</td>\n      <td>1.732426</td>\n      <td>1.591470</td>\n      <td>1.538984</td>\n    </tr>\n    <tr>\n      <th>61</th>\n      <td>Shahid Bhagat Singh Nagar</td>\n      <td>72</td>\n      <td>75.25</td>\n      <td>32.00</td>\n      <td>1.446964</td>\n      <td>Haplic Calcisols</td>\n      <td>0.83</td>\n      <td>-0.92</td>\n      <td>3.68</td>\n      <td>1.01</td>\n      <td>...</td>\n      <td>1.408372</td>\n      <td>1.295232</td>\n      <td>1.424445</td>\n      <td>1.075805</td>\n      <td>1.406539</td>\n      <td>1.337560</td>\n      <td>2.466190</td>\n      <td>1.398375</td>\n      <td>2.023729</td>\n      <td>1.330080</td>\n    </tr>\n    <tr>\n      <th>62</th>\n      <td>Shahid Bhagat Singh Nagar</td>\n      <td>73</td>\n      <td>75.50</td>\n      <td>32.00</td>\n      <td>0.701995</td>\n      <td>Loam</td>\n      <td>2.79</td>\n      <td>-1.30</td>\n      <td>7.90</td>\n      <td>2.20</td>\n      <td>...</td>\n      <td>1.878295</td>\n      <td>1.739912</td>\n      <td>1.668090</td>\n      <td>1.080645</td>\n      <td>1.657587</td>\n      <td>1.709373</td>\n      <td>1.789345</td>\n      <td>1.880704</td>\n      <td>1.896252</td>\n      <td>1.707201</td>\n    </tr>\n    <tr>\n      <th>63</th>\n      <td>Fazilka</td>\n      <td>74</td>\n      <td>75.75</td>\n      <td>32.00</td>\n      <td>2.218904</td>\n      <td>Loam</td>\n      <td>0.20</td>\n      <td>-0.13</td>\n      <td>1.06</td>\n      <td>0.63</td>\n      <td>...</td>\n      <td>0.911622</td>\n      <td>1.301024</td>\n      <td>0.833049</td>\n      <td>1.326155</td>\n      <td>1.185175</td>\n      <td>1.322192</td>\n      <td>0.816804</td>\n      <td>1.012315</td>\n      <td>0.935736</td>\n      <td>1.234232</td>\n    </tr>\n    <tr>\n      <th>64</th>\n      <td>Shahid Bhagat Singh Nagar</td>\n      <td>75</td>\n      <td>75.50</td>\n      <td>32.25</td>\n      <td>2.827676</td>\n      <td>Calcaric Fluvisols</td>\n      <td>0.83</td>\n      <td>-0.92</td>\n      <td>3.68</td>\n      <td>1.01</td>\n      <td>...</td>\n      <td>2.497663</td>\n      <td>2.268878</td>\n      <td>2.177986</td>\n      <td>2.253041</td>\n      <td>2.218273</td>\n      <td>2.345137</td>\n      <td>2.366260</td>\n      <td>2.401131</td>\n      <td>2.538745</td>\n      <td>2.245787</td>\n    </tr>\n  </tbody>\n</table>\n<p>65 rows × 56 columns</p>\n</div>"
     },
     "execution_count": 14,
     "metadata": {},
     "output_type": "execute_result"
    }
   ],
   "source": [
    "df"
   ],
   "metadata": {
    "collapsed": false,
    "ExecuteTime": {
     "end_time": "2023-08-17T16:56:23.249355400Z",
     "start_time": "2023-08-17T16:56:23.186478600Z"
    }
   }
  },
  {
   "cell_type": "code",
   "execution_count": 15,
   "outputs": [
    {
     "name": "stderr",
     "output_type": "stream",
     "text": [
      "C:\\Users\\shash\\AppData\\Local\\Temp\\ipykernel_24784\\2518634570.py:2: FutureWarning: The default value of numeric_only in DataFrameGroupBy.mean is deprecated. In a future version, numeric_only will default to False. Either specify numeric_only or select only columns which should be valid for the function.\n",
      "  df_xg = df.groupby('District').mean().reset_index()\n"
     ]
    }
   ],
   "source": [
    "df = df.drop(['Object Id', 'Latitude', 'Longitude'], axis=1)\n",
    "df_xg = df.groupby('District').mean().reset_index()"
   ],
   "metadata": {
    "collapsed": false,
    "ExecuteTime": {
     "end_time": "2023-08-17T16:56:25.107292600Z",
     "start_time": "2023-08-17T16:56:25.083165700Z"
    }
   }
  },
  {
   "cell_type": "code",
   "execution_count": 16,
   "outputs": [
    {
     "data": {
      "text/plain": "                     District     Slope      1986      1987      1988  \\\n0                    Amritsar  1.138239  0.205714  0.114286  3.370000   \n1                     Barnala  2.218934 -0.550000 -0.620000  1.850000   \n2                    Bathinda  2.739426 -0.030000  0.840000  2.610000   \n3                    Faridkot  0.496398  0.090000 -0.830000  1.480000   \n4             Fatehgarh Sahib  1.378034  0.330000 -0.960000  3.300000   \n5                     Fazilka  2.800736  0.200000 -0.130000  1.060000   \n6                  Hoshiarpur  1.213943  1.145714  1.105714  5.521429   \n7                   Jalandhar  0.496398 -0.250000 -0.270000  7.000000   \n8                    Ludhiana  0.748574 -0.333333 -0.950000  1.773333   \n9                        Moga  1.789251 -1.230000 -0.800000  2.650000   \n10                     Mohali  2.364981  1.478000 -0.450000  4.550000   \n11                    Patiala  1.220251  0.537778 -0.804444  1.481111   \n12                   Rupnagar  3.155940  0.790000 -0.110000  1.010000   \n13                    Sangrur  3.896456  0.580000 -0.510000  1.310000   \n14  Shahid Bhagat Singh Nagar  3.044560  1.810000 -1.110000  5.790000   \n15                 Tarn Taran  1.889588  0.180000 -0.700000  0.760000   \n\n        1989      1990      1991      1992      1993  ...      2026      2027  \\\n0   0.497143  2.175714  1.001429  1.122857  1.271429  ...  1.451676  0.007605   \n1  -0.650000  0.630000  0.180000 -0.150000 -0.200000  ...  1.842508  1.700805   \n2   0.210000  0.600000  0.200000  0.640000  0.780000  ...  1.694459  1.661395   \n3  -0.300000  0.800000 -0.650000  0.330000  0.270000  ...  2.029244  0.077374   \n4   0.830000  2.090000  0.230000  0.030000  2.220000  ...  0.316785 -0.406884   \n5   0.630000  0.870000  1.070000  0.930000  0.880000  ...  1.232957  1.456668   \n6   1.602857  1.770000  2.548571  1.242857  1.788571  ...  1.636006  1.327333   \n7   0.150000  2.150000  0.800000 -0.470000  1.050000  ...  1.777067  0.640784   \n8  -0.416667  1.250000 -0.436667 -0.163333  0.140000  ...  0.855767  0.865692   \n9  -0.290000  1.620000 -0.320000  0.500000  0.050000  ...  1.374067  0.941118   \n10  1.580000  3.980000  0.930000  1.142000  2.302000  ...  2.266495  1.648564   \n11  0.240000  1.786667 -0.010000 -0.443333  0.444444  ... -0.241255 -0.569947   \n12  0.660000  1.260000 -0.080000  0.690000  1.240000  ...  0.004100  0.674335   \n13 -0.310000  0.180000 -3.800000 -0.395000  0.175000  ...  2.339154  1.410332   \n14  1.605000  3.985000  1.335000  0.145000  2.220000  ...  1.929547  1.659936   \n15  0.700000  0.540000  0.680000 -0.150000  0.950000  ...  1.732745  2.025328   \n\n        2028      2029      2030      2031      2032      2033      2034  \\\n0   1.160018 -0.081273  0.121974 -0.210781  0.193806  0.897624  0.568482   \n1   2.023491  1.274222  1.447707 -0.619804  2.388428  1.962166  2.443187   \n2   1.647762  1.656019 -0.193765  1.665567  1.891377  2.160055  1.500178   \n3   1.564410 -0.056094  0.936822  0.106385  0.326357  0.710112  0.936497   \n4   0.379545 -0.248294 -0.101321 -0.063601 -0.931096 -0.724509 -0.644378   \n5   1.008097  1.160725  1.052211  1.674767  1.356134  1.534953  1.318086   \n6   1.587834  1.200839  1.570582  1.510232  1.835149  1.614908  1.773595   \n7   1.351282  0.561553  0.281921  0.527336  0.984807  0.867806  1.539096   \n8   0.424380  0.896015  0.751964  0.795233  0.872372  0.720324  0.894054   \n9  -0.217809  1.173913  1.285134  1.511144  1.760070  1.618690  1.751050   \n10  1.530896  1.619151  1.398108  1.234303  2.292679  2.234936  2.284901   \n11 -0.790033 -0.486320 -0.915448 -0.715681 -0.465499 -0.309487 -0.349507   \n12  1.773723  0.514119  0.708763  0.436674  0.004100  1.922034 -0.053266   \n13  1.656598  1.297186  1.004544  1.445607  3.090280  3.135815  2.812675   \n14  1.499186  1.473986  1.754458  1.573393  1.967851  1.767213  1.849473   \n15  2.316376  1.807311  1.747359  0.098717  2.735492  2.892592  2.678956   \n\n        2035  \n0   0.111691  \n1   1.449793  \n2  -0.136400  \n3   0.850623  \n4   0.037598  \n5   1.218322  \n6   1.640091  \n7   0.923491  \n8   0.742119  \n9   1.426735  \n10  0.697917  \n11 -0.633521  \n12  0.693482  \n13  0.795747  \n14  1.581426  \n15  1.863343  \n\n[16 rows x 52 columns]",
      "text/html": "<div>\n<style scoped>\n    .dataframe tbody tr th:only-of-type {\n        vertical-align: middle;\n    }\n\n    .dataframe tbody tr th {\n        vertical-align: top;\n    }\n\n    .dataframe thead th {\n        text-align: right;\n    }\n</style>\n<table border=\"1\" class=\"dataframe\">\n  <thead>\n    <tr style=\"text-align: right;\">\n      <th></th>\n      <th>District</th>\n      <th>Slope</th>\n      <th>1986</th>\n      <th>1987</th>\n      <th>1988</th>\n      <th>1989</th>\n      <th>1990</th>\n      <th>1991</th>\n      <th>1992</th>\n      <th>1993</th>\n      <th>...</th>\n      <th>2026</th>\n      <th>2027</th>\n      <th>2028</th>\n      <th>2029</th>\n      <th>2030</th>\n      <th>2031</th>\n      <th>2032</th>\n      <th>2033</th>\n      <th>2034</th>\n      <th>2035</th>\n    </tr>\n  </thead>\n  <tbody>\n    <tr>\n      <th>0</th>\n      <td>Amritsar</td>\n      <td>1.138239</td>\n      <td>0.205714</td>\n      <td>0.114286</td>\n      <td>3.370000</td>\n      <td>0.497143</td>\n      <td>2.175714</td>\n      <td>1.001429</td>\n      <td>1.122857</td>\n      <td>1.271429</td>\n      <td>...</td>\n      <td>1.451676</td>\n      <td>0.007605</td>\n      <td>1.160018</td>\n      <td>-0.081273</td>\n      <td>0.121974</td>\n      <td>-0.210781</td>\n      <td>0.193806</td>\n      <td>0.897624</td>\n      <td>0.568482</td>\n      <td>0.111691</td>\n    </tr>\n    <tr>\n      <th>1</th>\n      <td>Barnala</td>\n      <td>2.218934</td>\n      <td>-0.550000</td>\n      <td>-0.620000</td>\n      <td>1.850000</td>\n      <td>-0.650000</td>\n      <td>0.630000</td>\n      <td>0.180000</td>\n      <td>-0.150000</td>\n      <td>-0.200000</td>\n      <td>...</td>\n      <td>1.842508</td>\n      <td>1.700805</td>\n      <td>2.023491</td>\n      <td>1.274222</td>\n      <td>1.447707</td>\n      <td>-0.619804</td>\n      <td>2.388428</td>\n      <td>1.962166</td>\n      <td>2.443187</td>\n      <td>1.449793</td>\n    </tr>\n    <tr>\n      <th>2</th>\n      <td>Bathinda</td>\n      <td>2.739426</td>\n      <td>-0.030000</td>\n      <td>0.840000</td>\n      <td>2.610000</td>\n      <td>0.210000</td>\n      <td>0.600000</td>\n      <td>0.200000</td>\n      <td>0.640000</td>\n      <td>0.780000</td>\n      <td>...</td>\n      <td>1.694459</td>\n      <td>1.661395</td>\n      <td>1.647762</td>\n      <td>1.656019</td>\n      <td>-0.193765</td>\n      <td>1.665567</td>\n      <td>1.891377</td>\n      <td>2.160055</td>\n      <td>1.500178</td>\n      <td>-0.136400</td>\n    </tr>\n    <tr>\n      <th>3</th>\n      <td>Faridkot</td>\n      <td>0.496398</td>\n      <td>0.090000</td>\n      <td>-0.830000</td>\n      <td>1.480000</td>\n      <td>-0.300000</td>\n      <td>0.800000</td>\n      <td>-0.650000</td>\n      <td>0.330000</td>\n      <td>0.270000</td>\n      <td>...</td>\n      <td>2.029244</td>\n      <td>0.077374</td>\n      <td>1.564410</td>\n      <td>-0.056094</td>\n      <td>0.936822</td>\n      <td>0.106385</td>\n      <td>0.326357</td>\n      <td>0.710112</td>\n      <td>0.936497</td>\n      <td>0.850623</td>\n    </tr>\n    <tr>\n      <th>4</th>\n      <td>Fatehgarh Sahib</td>\n      <td>1.378034</td>\n      <td>0.330000</td>\n      <td>-0.960000</td>\n      <td>3.300000</td>\n      <td>0.830000</td>\n      <td>2.090000</td>\n      <td>0.230000</td>\n      <td>0.030000</td>\n      <td>2.220000</td>\n      <td>...</td>\n      <td>0.316785</td>\n      <td>-0.406884</td>\n      <td>0.379545</td>\n      <td>-0.248294</td>\n      <td>-0.101321</td>\n      <td>-0.063601</td>\n      <td>-0.931096</td>\n      <td>-0.724509</td>\n      <td>-0.644378</td>\n      <td>0.037598</td>\n    </tr>\n    <tr>\n      <th>5</th>\n      <td>Fazilka</td>\n      <td>2.800736</td>\n      <td>0.200000</td>\n      <td>-0.130000</td>\n      <td>1.060000</td>\n      <td>0.630000</td>\n      <td>0.870000</td>\n      <td>1.070000</td>\n      <td>0.930000</td>\n      <td>0.880000</td>\n      <td>...</td>\n      <td>1.232957</td>\n      <td>1.456668</td>\n      <td>1.008097</td>\n      <td>1.160725</td>\n      <td>1.052211</td>\n      <td>1.674767</td>\n      <td>1.356134</td>\n      <td>1.534953</td>\n      <td>1.318086</td>\n      <td>1.218322</td>\n    </tr>\n    <tr>\n      <th>6</th>\n      <td>Hoshiarpur</td>\n      <td>1.213943</td>\n      <td>1.145714</td>\n      <td>1.105714</td>\n      <td>5.521429</td>\n      <td>1.602857</td>\n      <td>1.770000</td>\n      <td>2.548571</td>\n      <td>1.242857</td>\n      <td>1.788571</td>\n      <td>...</td>\n      <td>1.636006</td>\n      <td>1.327333</td>\n      <td>1.587834</td>\n      <td>1.200839</td>\n      <td>1.570582</td>\n      <td>1.510232</td>\n      <td>1.835149</td>\n      <td>1.614908</td>\n      <td>1.773595</td>\n      <td>1.640091</td>\n    </tr>\n    <tr>\n      <th>7</th>\n      <td>Jalandhar</td>\n      <td>0.496398</td>\n      <td>-0.250000</td>\n      <td>-0.270000</td>\n      <td>7.000000</td>\n      <td>0.150000</td>\n      <td>2.150000</td>\n      <td>0.800000</td>\n      <td>-0.470000</td>\n      <td>1.050000</td>\n      <td>...</td>\n      <td>1.777067</td>\n      <td>0.640784</td>\n      <td>1.351282</td>\n      <td>0.561553</td>\n      <td>0.281921</td>\n      <td>0.527336</td>\n      <td>0.984807</td>\n      <td>0.867806</td>\n      <td>1.539096</td>\n      <td>0.923491</td>\n    </tr>\n    <tr>\n      <th>8</th>\n      <td>Ludhiana</td>\n      <td>0.748574</td>\n      <td>-0.333333</td>\n      <td>-0.950000</td>\n      <td>1.773333</td>\n      <td>-0.416667</td>\n      <td>1.250000</td>\n      <td>-0.436667</td>\n      <td>-0.163333</td>\n      <td>0.140000</td>\n      <td>...</td>\n      <td>0.855767</td>\n      <td>0.865692</td>\n      <td>0.424380</td>\n      <td>0.896015</td>\n      <td>0.751964</td>\n      <td>0.795233</td>\n      <td>0.872372</td>\n      <td>0.720324</td>\n      <td>0.894054</td>\n      <td>0.742119</td>\n    </tr>\n    <tr>\n      <th>9</th>\n      <td>Moga</td>\n      <td>1.789251</td>\n      <td>-1.230000</td>\n      <td>-0.800000</td>\n      <td>2.650000</td>\n      <td>-0.290000</td>\n      <td>1.620000</td>\n      <td>-0.320000</td>\n      <td>0.500000</td>\n      <td>0.050000</td>\n      <td>...</td>\n      <td>1.374067</td>\n      <td>0.941118</td>\n      <td>-0.217809</td>\n      <td>1.173913</td>\n      <td>1.285134</td>\n      <td>1.511144</td>\n      <td>1.760070</td>\n      <td>1.618690</td>\n      <td>1.751050</td>\n      <td>1.426735</td>\n    </tr>\n    <tr>\n      <th>10</th>\n      <td>Mohali</td>\n      <td>2.364981</td>\n      <td>1.478000</td>\n      <td>-0.450000</td>\n      <td>4.550000</td>\n      <td>1.580000</td>\n      <td>3.980000</td>\n      <td>0.930000</td>\n      <td>1.142000</td>\n      <td>2.302000</td>\n      <td>...</td>\n      <td>2.266495</td>\n      <td>1.648564</td>\n      <td>1.530896</td>\n      <td>1.619151</td>\n      <td>1.398108</td>\n      <td>1.234303</td>\n      <td>2.292679</td>\n      <td>2.234936</td>\n      <td>2.284901</td>\n      <td>0.697917</td>\n    </tr>\n    <tr>\n      <th>11</th>\n      <td>Patiala</td>\n      <td>1.220251</td>\n      <td>0.537778</td>\n      <td>-0.804444</td>\n      <td>1.481111</td>\n      <td>0.240000</td>\n      <td>1.786667</td>\n      <td>-0.010000</td>\n      <td>-0.443333</td>\n      <td>0.444444</td>\n      <td>...</td>\n      <td>-0.241255</td>\n      <td>-0.569947</td>\n      <td>-0.790033</td>\n      <td>-0.486320</td>\n      <td>-0.915448</td>\n      <td>-0.715681</td>\n      <td>-0.465499</td>\n      <td>-0.309487</td>\n      <td>-0.349507</td>\n      <td>-0.633521</td>\n    </tr>\n    <tr>\n      <th>12</th>\n      <td>Rupnagar</td>\n      <td>3.155940</td>\n      <td>0.790000</td>\n      <td>-0.110000</td>\n      <td>1.010000</td>\n      <td>0.660000</td>\n      <td>1.260000</td>\n      <td>-0.080000</td>\n      <td>0.690000</td>\n      <td>1.240000</td>\n      <td>...</td>\n      <td>0.004100</td>\n      <td>0.674335</td>\n      <td>1.773723</td>\n      <td>0.514119</td>\n      <td>0.708763</td>\n      <td>0.436674</td>\n      <td>0.004100</td>\n      <td>1.922034</td>\n      <td>-0.053266</td>\n      <td>0.693482</td>\n    </tr>\n    <tr>\n      <th>13</th>\n      <td>Sangrur</td>\n      <td>3.896456</td>\n      <td>0.580000</td>\n      <td>-0.510000</td>\n      <td>1.310000</td>\n      <td>-0.310000</td>\n      <td>0.180000</td>\n      <td>-3.800000</td>\n      <td>-0.395000</td>\n      <td>0.175000</td>\n      <td>...</td>\n      <td>2.339154</td>\n      <td>1.410332</td>\n      <td>1.656598</td>\n      <td>1.297186</td>\n      <td>1.004544</td>\n      <td>1.445607</td>\n      <td>3.090280</td>\n      <td>3.135815</td>\n      <td>2.812675</td>\n      <td>0.795747</td>\n    </tr>\n    <tr>\n      <th>14</th>\n      <td>Shahid Bhagat Singh Nagar</td>\n      <td>3.044560</td>\n      <td>1.810000</td>\n      <td>-1.110000</td>\n      <td>5.790000</td>\n      <td>1.605000</td>\n      <td>3.985000</td>\n      <td>1.335000</td>\n      <td>0.145000</td>\n      <td>2.220000</td>\n      <td>...</td>\n      <td>1.929547</td>\n      <td>1.659936</td>\n      <td>1.499186</td>\n      <td>1.473986</td>\n      <td>1.754458</td>\n      <td>1.573393</td>\n      <td>1.967851</td>\n      <td>1.767213</td>\n      <td>1.849473</td>\n      <td>1.581426</td>\n    </tr>\n    <tr>\n      <th>15</th>\n      <td>Tarn Taran</td>\n      <td>1.889588</td>\n      <td>0.180000</td>\n      <td>-0.700000</td>\n      <td>0.760000</td>\n      <td>0.700000</td>\n      <td>0.540000</td>\n      <td>0.680000</td>\n      <td>-0.150000</td>\n      <td>0.950000</td>\n      <td>...</td>\n      <td>1.732745</td>\n      <td>2.025328</td>\n      <td>2.316376</td>\n      <td>1.807311</td>\n      <td>1.747359</td>\n      <td>0.098717</td>\n      <td>2.735492</td>\n      <td>2.892592</td>\n      <td>2.678956</td>\n      <td>1.863343</td>\n    </tr>\n  </tbody>\n</table>\n<p>16 rows × 52 columns</p>\n</div>"
     },
     "execution_count": 16,
     "metadata": {},
     "output_type": "execute_result"
    }
   ],
   "source": [
    "df_xg"
   ],
   "metadata": {
    "collapsed": false,
    "ExecuteTime": {
     "end_time": "2023-08-17T16:56:26.329015900Z",
     "start_time": "2023-08-17T16:56:26.283472700Z"
    }
   }
  },
  {
   "cell_type": "code",
   "execution_count": 17,
   "outputs": [],
   "source": [
    "SSP_LIST = ['SSP126', 'SSP245', 'SSP370']"
   ],
   "metadata": {
    "collapsed": false,
    "ExecuteTime": {
     "end_time": "2023-08-17T16:56:28.850887200Z",
     "start_time": "2023-08-17T16:56:28.818134600Z"
    }
   }
  },
  {
   "cell_type": "code",
   "execution_count": 19,
   "outputs": [
    {
     "name": "stderr",
     "output_type": "stream",
     "text": [
      "C:\\Users\\shash\\AppData\\Local\\Temp\\ipykernel_24784\\885897055.py:7: FutureWarning: The default value of numeric_only in DataFrameGroupBy.mean is deprecated. In a future version, numeric_only will default to False. Either specify numeric_only or select only columns which should be valid for the function.\n",
      "  df_xg = df.groupby('District').mean().reset_index()\n",
      "C:\\Users\\shash\\AppData\\Local\\Temp\\ipykernel_24784\\885897055.py:7: FutureWarning: The default value of numeric_only in DataFrameGroupBy.mean is deprecated. In a future version, numeric_only will default to False. Either specify numeric_only or select only columns which should be valid for the function.\n",
      "  df_xg = df.groupby('District').mean().reset_index()\n",
      "C:\\Users\\shash\\AppData\\Local\\Temp\\ipykernel_24784\\885897055.py:7: FutureWarning: The default value of numeric_only in DataFrameGroupBy.mean is deprecated. In a future version, numeric_only will default to False. Either specify numeric_only or select only columns which should be valid for the function.\n",
      "  df_xg = df.groupby('District').mean().reset_index()\n",
      "C:\\Users\\shash\\AppData\\Local\\Temp\\ipykernel_24784\\885897055.py:7: FutureWarning: The default value of numeric_only in DataFrameGroupBy.mean is deprecated. In a future version, numeric_only will default to False. Either specify numeric_only or select only columns which should be valid for the function.\n",
      "  df_xg = df.groupby('District').mean().reset_index()\n",
      "C:\\Users\\shash\\AppData\\Local\\Temp\\ipykernel_24784\\885897055.py:10: FutureWarning: save is not part of the public API, usage can give in unexpected results and will be removed in a future version\n",
      "  writer.save()\n"
     ]
    }
   ],
   "source": [
    "file_path = f'B:\\GroundwaterRech\\GithubRepo\\Restart\\Forecast_new\\DistrictWise_Forecast(Pre-Post).xlsx'\n",
    "writer = pd.ExcelWriter(file_path, engine='xlsxwriter')\n",
    "for i in SSP_LIST:\n",
    "    df = pd.read_excel(\"B:\\GroundwaterRech\\GithubRepo\\Restart\\Forecast_new\\Pre-Post_Forecasted_all.xlsx\",\n",
    "                       sheet_name=i)\n",
    "    df = df.drop(['Object Id', 'Latitude', 'Longitude'], axis=1)\n",
    "    df_xg = df.groupby('District').mean().reset_index()\n",
    "\n",
    "    df_xg.to_excel(writer, sheet_name=i, index=False)\n",
    "writer.save()"
   ],
   "metadata": {
    "collapsed": false,
    "ExecuteTime": {
     "end_time": "2023-08-17T17:00:08.132513Z",
     "start_time": "2023-08-17T17:00:07.803115700Z"
    }
   }
  },
  {
   "cell_type": "code",
   "execution_count": null,
   "outputs": [],
   "source": [],
   "metadata": {
    "collapsed": false
   }
  }
 ],
 "metadata": {
  "kernelspec": {
   "display_name": "Python 3",
   "language": "python",
   "name": "python3"
  },
  "language_info": {
   "codemirror_mode": {
    "name": "ipython",
    "version": 2
   },
   "file_extension": ".py",
   "mimetype": "text/x-python",
   "name": "python",
   "nbconvert_exporter": "python",
   "pygments_lexer": "ipython2",
   "version": "2.7.6"
  }
 },
 "nbformat": 4,
 "nbformat_minor": 0
}
