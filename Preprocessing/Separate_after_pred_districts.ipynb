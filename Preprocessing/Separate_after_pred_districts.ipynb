{
 "cells": [
  {
   "cell_type": "code",
   "execution_count": 1,
   "metadata": {
    "collapsed": true,
    "ExecuteTime": {
     "end_time": "2023-08-17T16:53:56.895971Z",
     "start_time": "2023-08-17T16:53:56.660383900Z"
    }
   },
   "outputs": [],
   "source": [
    "import numpy as np\n",
    "import pandas as pd\n",
    "from sklearn.preprocessing import MinMaxScaler\n",
    "from sklearn.model_selection import StratifiedKFold\n",
    "\n"
   ]
  },
  {
   "cell_type": "code",
   "execution_count": 2,
   "outputs": [],
   "source": [
    "df2 = pd.DataFrame()\n",
    "n = [3, 4, 5, 12, 13, 14, 23, 24, 25, 44]\n",
    "df = pd.read_excel(\"B:\\GroundwaterRech\\GithubRepo\\Restart\\Results\\Predicted.xlsx\")\n",
    "year = range(1986, 2020)\n",
    "x = 0\n",
    "for i in range(1, 76):\n",
    "    if i not in n:\n",
    "        df2 = df.iloc[x:x + 34, :]\n",
    "        df2 = df2.drop('Unnamed: 0', axis=1)\n",
    "        df2['Year']=year\n",
    "        df2.to_excel(str(i) + \".xlsx\")\n",
    "        x = x + 34"
   ],
   "metadata": {
    "collapsed": false
   }
  },
  {
   "cell_type": "code",
   "execution_count": 7,
   "outputs": [],
   "source": [
    "df3 = df.iloc[:34, :]"
   ],
   "metadata": {
    "collapsed": false
   }
  },
  {
   "cell_type": "code",
   "execution_count": 9,
   "outputs": [
    {
     "data": {
      "text/plain": "Index(['Unnamed: 0', 'District', 'Slope', 'Soil Type', 'LULC',\n       'Max Temperature', 'Min Temperature', 'Precipitation',\n       'Groundwater Recharge', 'Predicted'],\n      dtype='object')"
     },
     "execution_count": 9,
     "metadata": {},
     "output_type": "execute_result"
    }
   ],
   "source": [
    "df3.columns"
   ],
   "metadata": {
    "collapsed": false
   }
  },
  {
   "cell_type": "code",
   "execution_count": null,
   "outputs": [],
   "source": [],
   "metadata": {
    "collapsed": false
   }
  }
 ],
 "metadata": {
  "kernelspec": {
   "display_name": "Python 3",
   "language": "python",
   "name": "python3"
  },
  "language_info": {
   "codemirror_mode": {
    "name": "ipython",
    "version": 2
   },
   "file_extension": ".py",
   "mimetype": "text/x-python",
   "name": "python",
   "nbconvert_exporter": "python",
   "pygments_lexer": "ipython2",
   "version": "2.7.6"
  }
 },
 "nbformat": 4,
 "nbformat_minor": 0
}
