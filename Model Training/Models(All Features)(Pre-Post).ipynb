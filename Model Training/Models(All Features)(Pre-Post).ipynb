{
 "cells": [
  {
   "cell_type": "code",
   "execution_count": null,
   "metadata": {
    "collapsed": true
   },
   "outputs": [],
   "source": [
    "import numpy as np\n",
    "import pandas as pd\n",
    "from sklearn.preprocessing import MinMaxScaler\n",
    "from sklearn.model_selection import StratifiedKFold, KFold\n",
    "from sklearn.model_selection import cross_val_score\n",
    "from sklearn.model_selection import GridSearchCV, RandomizedSearchCV\n",
    "import joblib"
   ]
  },
  {
   "cell_type": "code",
   "execution_count": null,
   "outputs": [],
   "source": [
    "import matplotlib.pyplot as plt\n",
    "import seaborn as sns\n",
    "import statsmodels.api as sm"
   ],
   "metadata": {
    "collapsed": false
   }
  },
  {
   "cell_type": "code",
   "execution_count": null,
   "outputs": [],
   "source": [
    "df2 = pd.DataFrame()\n",
    "n = [3, 4, 5, 12, 13, 14, 23, 24, 25, 44]\n",
    "for i in range(1, 76):\n",
    "    if i not in n:\n",
    "        df = pd.read_excel(\"B:\\GroundwaterRech\\GithubRepo\\Restart\\Dataset\\District Wise\\\\3\\\\\" + str(i) + \".xlsx\")\n",
    "        df1 = df.drop([ 'Latitude','Longitude','Year'], axis=1)\n",
    "        df2 = pd.concat([df2, df1])"
   ],
   "metadata": {
    "collapsed": false
   }
  },
  {
   "cell_type": "code",
   "execution_count": null,
   "outputs": [],
   "source": [
    "df2"
   ],
   "metadata": {
    "collapsed": false
   }
  },
  {
   "cell_type": "code",
   "execution_count": null,
   "outputs": [],
   "source": [
    "df2 = df2.reset_index()"
   ],
   "metadata": {
    "collapsed": false
   }
  },
  {
   "cell_type": "code",
   "execution_count": null,
   "outputs": [],
   "source": [
    "df2.drop('index', inplace=True, axis=1)"
   ],
   "metadata": {
    "collapsed": false
   }
  },
  {
   "cell_type": "code",
   "execution_count": null,
   "outputs": [],
   "source": [
    "df2"
   ],
   "metadata": {
    "collapsed": false
   }
  },
  {
   "cell_type": "code",
   "execution_count": null,
   "outputs": [],
   "source": [
    "# df2.to_csv('Feat.csv',index=False)"
   ],
   "metadata": {
    "collapsed": false
   }
  },
  {
   "cell_type": "code",
   "execution_count": null,
   "outputs": [],
   "source": [
    "df2['Soil Type'].unique()"
   ],
   "metadata": {
    "collapsed": false
   }
  },
  {
   "cell_type": "code",
   "execution_count": null,
   "outputs": [],
   "source": [
    "df2['LULC'].unique()"
   ],
   "metadata": {
    "collapsed": false
   }
  },
  {
   "cell_type": "code",
   "execution_count": null,
   "outputs": [],
   "source": [
    "df2['Soil Type'] = df2['Soil Type'].replace('Builtup', 1)\n",
    "df2['Soil Type'] = df2['Soil Type'].replace('Bulitup', 1)\n",
    "\n",
    "df2['Soil Type'] = df2['Soil Type'].replace('Haplic Luvisols', 2)\n",
    "df2['Soil Type'] = df2['Soil Type'].replace('Haplic Calcisols', 3)\n",
    "df2['Soil Type'] = df2['Soil Type'].replace('Loam', 4)\n",
    "df2['Soil Type'] = df2['Soil Type'].replace('Calcaric Fluvisols', 5)\n"
   ],
   "metadata": {
    "collapsed": false
   }
  },
  {
   "cell_type": "code",
   "execution_count": null,
   "outputs": [],
   "source": [
    "X = df2.drop('Groundwater Recharge', axis=1)\n",
    "y = df2['Groundwater Recharge']"
   ],
   "metadata": {
    "collapsed": false
   }
  },
  {
   "cell_type": "code",
   "execution_count": null,
   "outputs": [],
   "source": [
    "X = pd.get_dummies(X)"
   ],
   "metadata": {
    "collapsed": false
   }
  },
  {
   "cell_type": "code",
   "execution_count": null,
   "outputs": [],
   "source": [
    "X"
   ],
   "metadata": {
    "collapsed": false
   }
  },
  {
   "cell_type": "code",
   "execution_count": null,
   "outputs": [],
   "source": [
    "scaler = MinMaxScaler()"
   ],
   "metadata": {
    "collapsed": false
   }
  },
  {
   "cell_type": "code",
   "execution_count": null,
   "outputs": [],
   "source": [
    "joblib.dump(scaler,\"B:\\GroundwaterRech\\GithubRepo\\Restart\\Results\\Pretrained Model\\scaler(Pre-Post).pkl\")"
   ],
   "metadata": {
    "collapsed": false
   }
  },
  {
   "cell_type": "code",
   "execution_count": null,
   "outputs": [],
   "source": [
    "from sklearn.model_selection import train_test_split\n"
   ],
   "metadata": {
    "collapsed": false
   }
  },
  {
   "cell_type": "code",
   "execution_count": null,
   "outputs": [],
   "source": [
    "# train_data1, valid_data, train_labels1, valid_labels = train_test_split(X, y, test_size=0.1, random_state=42)\n",
    "train_data, test_data, train_labels, test_labels = train_test_split(X, y, test_size=0.2, random_state=42)\n"
   ],
   "metadata": {
    "collapsed": false
   }
  },
  {
   "cell_type": "code",
   "execution_count": null,
   "outputs": [],
   "source": [
    "train_data=scaler.fit_transform(train_data)\n",
    "test_data=scaler.transform(test_data)"
   ],
   "metadata": {
    "collapsed": false
   }
  },
  {
   "cell_type": "code",
   "execution_count": null,
   "outputs": [],
   "source": [
    "train_data.shape"
   ],
   "metadata": {
    "collapsed": false
   }
  },
  {
   "cell_type": "code",
   "execution_count": null,
   "outputs": [],
   "source": [
    "kfold = KFold(n_splits=10, shuffle=True, random_state=42)  #For cross validation"
   ],
   "metadata": {
    "collapsed": false
   }
  },
  {
   "cell_type": "code",
   "execution_count": null,
   "outputs": [],
   "source": [
    "\n",
    "from sklearn.ensemble import RandomForestRegressor\n",
    "from sklearn.ensemble import GradientBoostingRegressor\n",
    "from sklearn import svm\n",
    "from sklearn.tree import DecisionTreeRegressor\n",
    "from sklearn.metrics import r2_score, mean_squared_error, mean_absolute_error\n",
    "import math\n",
    "from sklearn.tree import DecisionTreeRegressor\n",
    "from sklearn.linear_model import LinearRegression\n",
    "from sklearn.svm import SVR\n",
    "import hydroeval as he\n",
    "from sklearn.utils import resample"
   ],
   "metadata": {
    "collapsed": false
   }
  },
  {
   "cell_type": "code",
   "execution_count": null,
   "outputs": [],
   "source": [
    "from sklearn.linear_model import SGDRegressor\n",
    "from sklearn.linear_model import Lasso\n",
    "from sklearn.linear_model import LassoCV\n",
    "from sklearn.linear_model import RidgeCV\n",
    "from sklearn.linear_model import Ridge\n",
    "from sklearn.preprocessing import PolynomialFeatures"
   ],
   "metadata": {
    "collapsed": false
   }
  },
  {
   "cell_type": "markdown",
   "source": [],
   "metadata": {
    "collapsed": false
   }
  },
  {
   "cell_type": "code",
   "execution_count": null,
   "outputs": [],
   "source": [
    "d = {}"
   ],
   "metadata": {
    "collapsed": false
   }
  },
  {
   "cell_type": "code",
   "execution_count": null,
   "outputs": [],
   "source": [
    "def calculate_nse(observed, predicted):\n",
    "    observed = np.array(observed)\n",
    "    predicted = np.array(predicted)\n",
    "\n",
    "    mean_observed = np.mean(observed)\n",
    "\n",
    "    sse = np.sum((observed - predicted) ** 2)\n",
    "\n",
    "    sv = np.sum((observed - mean_observed) ** 2)\n",
    "\n",
    "    nse = 1 - (sse / sv)\n",
    "\n",
    "    return nse"
   ],
   "metadata": {
    "collapsed": false
   }
  },
  {
   "cell_type": "code",
   "execution_count": null,
   "outputs": [],
   "source": [
    "def hpt(model, params):\n",
    "    grid_search = GridSearchCV(model, param_grid=params, n_jobs=-1, cv=kfold, scoring='neg_mean_squared_error',\n",
    "                               return_train_score=True)\n",
    "    grid_result = grid_search.fit(train_data, train_labels)\n",
    "    print(f'Best Score: {grid_result.best_score_}\\nParams: {grid_result.best_params_}')\n",
    "    rcscore = grid_result.score(test_data, test_labels)\n",
    "    print(f'Test_score: {rcscore}')"
   ],
   "metadata": {
    "collapsed": false
   }
  },
  {
   "cell_type": "code",
   "execution_count": null,
   "outputs": [],
   "source": [
    "def train_model(model, name):\n",
    "    model.fit(train_data, train_labels)\n",
    "    y_pred = model.predict(test_data)\n",
    "    y_pred_train = model.predict(train_data)\n",
    "    r2 = r2_score(test_labels, y_pred)\n",
    "    ms = mean_squared_error(test_labels, y_pred)\n",
    "    print(f'R2_score: {r2}, RMSE: {math.sqrt(ms)}')\n",
    "\n",
    "    train_score = mean_squared_error(train_labels, y_pred_train)\n",
    "    test_score = mean_squared_error(test_labels, y_pred)\n",
    "    r2_s = r2_score(test_labels, y_pred)\n",
    "    mae_test = mean_absolute_error(test_labels, y_pred)\n",
    "    mae_train = mean_absolute_error(train_labels, y_pred_train)\n",
    "\n",
    "    n1 = len(y_pred)\n",
    "    p = X.shape[1]\n",
    "    adj_r2 = 1 - (1 - r2_s) * (n1 - 1) / (n1 - p - 1)\n",
    "\n",
    "    a = test_labels\n",
    "    b = y_pred\n",
    "    c2 = a.sub(b, fill_value=0)\n",
    "    d2 = c2.pow(2)\n",
    "    d_sum2 = d2.sum()\n",
    "    a_mean2 = a.mean()\n",
    "    e2 = ((a - a_mean2).pow(2).sum())\n",
    "    f = 1 - (d_sum2 / e2)\n",
    "    print(f'MAE_train: {mae_train}    MAE_test:{mae_test}     NSE2:{calculate_nse(a, b)}')\n",
    "    print(f'MSE_train:  {train_score}  MSE_test: {test_score}')\n",
    "    print(f'adjusted_R2:{adj_r2}')\n",
    "    print(f'NSE:{he.nse(np.array(y_pred), np.array(test_labels))}')\n",
    "    d[name] = (train_score, test_score, r2_s, mae_train, mae_test, f, adj_r2)\n",
    "    # fig, (ax1, ax2) = plt.subplots(2, 1, figsize=(8, 10))\n",
    "\n",
    "    plt.figure(figsize=(8, 4))\n",
    "    # sns.scatterplot(x=test_labels, y=y_pred)\n",
    "    sns.scatterplot(x=test_labels, y=y_pred)\n",
    "    coefficients = np.polyfit(test_labels, y_pred, 1)\n",
    "    trendline_x = np.linspace(min(test_labels), max(test_labels), 100)\n",
    "    trendline_y = np.polyval(coefficients, trendline_x)\n",
    "    plt.plot(trendline_x, trendline_y, linestyle='dotted', color='red')\n",
    "    plt.xlabel('True Groundwater Recharge (m)',fontsize=13,fontweight='bold')\n",
    "    plt.ylabel('Predicted Groundwater Recharge (m)',fontsize=13,fontweight='bold')\n",
    "    plt.title(f'Scatter Plot: {name}',fontsize=14,fontweight='bold')\n",
    "    # plt.grid(False)\n",
    "    plt.tight_layout()\n",
    "    plt.savefig(f\"B:\\GroundwaterRech\\GithubRepo\\Restart\\Results\\Images(new)\\Model Performance Plots\\\\{name}_Scatterplot.png\",dpi=1200)\n",
    "    plt.show()\n",
    "\n",
    "    plt.figure(figsize=(7, 4))\n",
    "    sns.lineplot(x=range(1, len(test_labels) + 1), y=test_labels, label='Actual')\n",
    "    sns.lineplot(x=range(1, len(y_pred) + 1), y=y_pred, label='Predicted')\n",
    "    plt.xlabel('Test Data (Years)',fontsize=13,fontweight='bold')\n",
    "    plt.ylabel('Groundwater Recharge (m)',fontsize=13,fontweight='bold')\n",
    "    plt.title(f'Line Plot: {name}',fontsize=14,fontweight='bold')\n",
    "    plt.legend()\n",
    "    # plt.grid(False)\n",
    "\n",
    "    plt.tight_layout()\n",
    "\n",
    "    # Display the line plot\n",
    "\n",
    "    plt.savefig(f\"B:\\GroundwaterRech\\GithubRepo\\Restart\\Results\\Images(new)\\Model Performance Plots\\\\{name}_Lineplot.png\",dpi=1200)\n",
    "    plt.show()\n",
    "    joblib.dump(model,\"B:\\GroundwaterRech\\GithubRepo\\Restart\\Results\\Pretrained Model\\Pre-post\\\\\"+str(name)+\".pkl\")"
   ],
   "metadata": {
    "collapsed": false
   }
  },
  {
   "cell_type": "code",
   "execution_count": null,
   "outputs": [],
   "source": [
    "#Random Forest\n",
    "train_model(RandomForestRegressor(max_depth=14, max_features=19, random_state=45), \"Random Forest Regressor\")"
   ],
   "metadata": {
    "collapsed": false
   }
  },
  {
   "cell_type": "code",
   "execution_count": null,
   "outputs": [],
   "source": [
    "hpt(RandomForestRegressor(), {'max_depth': [i for i in range(8, 15)], 'max_features': [i for i in range(2, 20)]})"
   ],
   "metadata": {
    "collapsed": false
   }
  },
  {
   "cell_type": "code",
   "execution_count": null,
   "outputs": [],
   "source": [
    "#Decision Tree\n",
    "train_model(DecisionTreeRegressor(max_depth=14, max_features=19, random_state=45), \"Decision Tree Regressor\")"
   ],
   "metadata": {
    "collapsed": false
   }
  },
  {
   "cell_type": "code",
   "execution_count": null,
   "outputs": [],
   "source": [
    "hpt(DecisionTreeRegressor(), {'max_depth': [i for i in range(8, 15)], 'max_features': [i for i in range(2, 20)]})"
   ],
   "metadata": {
    "collapsed": false
   }
  },
  {
   "cell_type": "code",
   "execution_count": null,
   "outputs": [],
   "source": [
    "#GBR\n",
    "train_model(GradientBoostingRegressor(max_depth=7, max_features=14, n_estimators=100, random_state=10),\n",
    "            name='Gradient Boosting Regressor')"
   ],
   "metadata": {
    "collapsed": false
   }
  },
  {
   "cell_type": "code",
   "execution_count": null,
   "outputs": [],
   "source": [
    "hpt(GradientBoostingRegressor(), {'max_depth': [i for i in range(8, 15)], 'max_features': [i for i in range(10, 20)],\n",
    "                                  'n_estimators': [100, 150, 500]})"
   ],
   "metadata": {
    "collapsed": false
   }
  },
  {
   "cell_type": "code",
   "execution_count": null,
   "outputs": [],
   "source": [
    "import xgboost\n",
    "\n",
    "train_model(xgboost.XGBRegressor(learning_rate=0.1, max_depth=8, n_estimators=150, random_state=45), 'XG Boost')"
   ],
   "metadata": {
    "collapsed": false
   }
  },
  {
   "cell_type": "markdown",
   "source": [
    "Uncertainity Analysis"
   ],
   "metadata": {
    "collapsed": false
   }
  },
  {
   "cell_type": "code",
   "execution_count": null,
   "outputs": [],
   "source": [
    "n_bootstrap = 1000\n",
    "bootstrap_predictions = np.zeros((n_bootstrap, len(test_labels)))\n",
    "for i in range(n_bootstrap):\n",
    "    # Resample the training data with replacement\n",
    "    X_boot, y_boot = resample(train_data, train_labels, random_state=i)\n",
    "    # Fit XGB model to the bootstrapped data\n",
    "    xgb_boot = xgboost.XGBRegressor(learning_rate=0.1, max_depth=8, n_estimators=150, random_state=i)\n",
    "    xgb_boot.fit(X_boot, y_boot)\n",
    "\n",
    "    # Make predictions on the test set\n",
    "    bootstrap_predictions[i] = xgb_boot.predict(test_data)"
   ],
   "metadata": {
    "collapsed": false
   }
  },
  {
   "cell_type": "code",
   "execution_count": null,
   "outputs": [],
   "source": [
    "mean_predictions = np.mean(bootstrap_predictions, axis=0)\n",
    "std_predictions = np.std(bootstrap_predictions, axis=0)\n",
    "mse_mean = mean_squared_error(test_labels, mean_predictions)\n",
    "r2_mean=r2_score(test_labels,mean_predictions)\n",
    "mean_mae=mean_absolute_error(test_labels,mean_predictions)"
   ],
   "metadata": {
    "collapsed": false
   }
  },
  {
   "cell_type": "code",
   "execution_count": null,
   "outputs": [],
   "source": [
    "cv = std_predictions / mean_predictions\n",
    "mean_cv = np.mean(cv)"
   ],
   "metadata": {
    "collapsed": false
   }
  },
  {
   "cell_type": "code",
   "execution_count": null,
   "outputs": [],
   "source": [
    "print(f\"Mean Squared Error: {mse_mean}\\nMAE: {mean_mae}\\nr2: {r2_mean}\\nCV: {mean_cv}\")"
   ],
   "metadata": {
    "collapsed": false
   }
  },
  {
   "cell_type": "code",
   "execution_count": null,
   "outputs": [],
   "source": [
    "confidence_interval = np.percentile(bootstrap_predictions, [2.5, 97.5], axis=0)"
   ],
   "metadata": {
    "collapsed": false
   }
  },
  {
   "cell_type": "code",
   "execution_count": null,
   "outputs": [],
   "source": [
    "plt.figure(figsize=(10, 6))\n",
    "plt.fill_between(range(len(test_labels[:100])), confidence_interval[0][:100], confidence_interval[1][:100], color='gray', alpha=0.4, label='95% Confidence Interval')\n",
    "\n",
    "plt.plot(range(len(test_labels[:100])), test_labels[:100], label='True Values')\n",
    "plt.plot(range(len(test_labels[:100])), mean_predictions[:100], label='Mean Predictions', color='red')\n",
    "\n",
    "plt.title('Uncertainty Analysis on Test Data ',fontsize=16,fontweight='bold')\n",
    "plt.xlabel('Sample Index',fontsize=14,fontweight='bold')\n",
    "plt.ylabel('Groundwater Recharge (m)',fontsize=14,fontweight='bold')\n",
    "plt.legend()\n",
    "plt.grid(True)\n",
    "plt.savefig('B:\\GroundwaterRech\\GithubRepo\\Restart\\Results\\Images\\\\uncertainty1(pre-post).png', dpi=1200)\n",
    "plt.show()"
   ],
   "metadata": {
    "collapsed": false
   }
  },
  {
   "cell_type": "code",
   "execution_count": null,
   "outputs": [],
   "source": [
    "\n",
    "m=joblib.load(\"B:\\GroundwaterRech\\GithubRepo\\Restart\\Results\\Pretrained Model\\\\\"+str(\"XG Boost\")+\".pkl\")"
   ],
   "metadata": {
    "collapsed": false
   }
  },
  {
   "cell_type": "code",
   "execution_count": null,
   "outputs": [],
   "source": [
    "m.feature_importances_"
   ],
   "metadata": {
    "collapsed": false
   }
  },
  {
   "cell_type": "code",
   "execution_count": null,
   "outputs": [],
   "source": [
    "hpt(xgboost.XGBRegressor(),\n",
    "    {'max_depth': [i for i in range(10, 15)], 'n_estimators': [100, 150, 250, 400],\n",
    "     'learning_rate': [0.1, 0.01, 0.001], })"
   ],
   "metadata": {
    "collapsed": false
   }
  },
  {
   "cell_type": "code",
   "execution_count": null,
   "outputs": [],
   "source": [
    "import lightgbm as lgb\n",
    "\n",
    "train_model(lgb.LGBMRegressor(max_depth=13, n_estimators=800, learning_rate=0.1, colsample_bytree=0.9, subsample=0.8,\n",
    "                              random_state=45), 'LGBM Regressor')"
   ],
   "metadata": {
    "collapsed": false
   }
  },
  {
   "cell_type": "code",
   "execution_count": null,
   "outputs": [],
   "source": [
    "hpt(lgb.LGBMRegressor(),\n",
    "    {'max_depth': [i for i in range(10, 15)], 'n_estimators': [100, 500, 1000], 'learning_rate': [0.1, 0.01, 0.001],\n",
    "     'subsample': [0.8, 0.9, 1.0],\n",
    "     'colsample_bytree': [0.8, 0.9, 1.0]})"
   ],
   "metadata": {
    "collapsed": false
   }
  },
  {
   "cell_type": "code",
   "execution_count": null,
   "outputs": [],
   "source": [
    "#Linear Regression\n",
    "train_model(LinearRegression(), \"Linear Regression\")"
   ],
   "metadata": {
    "collapsed": false
   }
  },
  {
   "cell_type": "code",
   "execution_count": null,
   "outputs": [],
   "source": [
    "#Ridge Regression\n",
    "train_model(Ridge(alpha=10), 'Ridge Regression')"
   ],
   "metadata": {
    "collapsed": false
   }
  },
  {
   "cell_type": "code",
   "execution_count": null,
   "outputs": [],
   "source": [
    "hpt(Ridge(), {'alpha': [0.1, 1, 10, 100, 0.01]})"
   ],
   "metadata": {
    "collapsed": false
   }
  },
  {
   "cell_type": "markdown",
   "source": [
    "Polynomial Regression"
   ],
   "metadata": {
    "collapsed": false,
    "ExecuteTime": {
     "end_time": "2023-06-15T05:33:59.209508700Z",
     "start_time": "2023-06-15T05:33:59.178265800Z"
    }
   },
   "outputs": [
    {
     "data": {
      "text/plain": "{}"
     },
     "execution_count": 39,
     "metadata": {},
     "output_type": "execute_result"
    }
   ],
   "execution_count": 39
  },
  {
   "cell_type": "code",
   "execution_count": null,
   "outputs": [],
   "source": [
    "poly = PolynomialFeatures(degree=2)\n",
    "x_train_poly = poly.fit_transform(train_data)\n",
    "x_test_poly = poly.fit_transform(test_data)\n",
    "\n",
    "plr = LinearRegression()\n",
    "plr.fit(x_train_poly, train_labels)\n",
    "y_pred = plr.predict(x_test_poly)\n",
    "y_pred_train = plr.predict(x_train_poly)\n",
    "r2 = r2_score(test_labels, y_pred)\n",
    "ms = mean_squared_error(test_labels, y_pred)\n",
    "print(r2, math.sqrt(ms))\n",
    "\n",
    "train_score = mean_squared_error(train_labels, y_pred_train)\n",
    "test_score = mean_squared_error(test_labels, y_pred)\n",
    "r2_s = r2_score(test_labels, y_pred)\n",
    "mae_test = mean_absolute_error(test_labels, y_pred)\n",
    "mae_train = mean_absolute_error(train_labels, y_pred_train)\n",
    "\n",
    "a = test_labels\n",
    "b = y_pred\n",
    "c2 = a.sub(b, fill_value=0)\n",
    "d2 = c2.pow(2)\n",
    "d_sum2 = d2.sum()\n",
    "a_mean2 = a.mean()\n",
    "e2 = ((a - a_mean2).pow(2).sum())\n",
    "f = 1 - (d_sum2 / e2)\n",
    "\n",
    "n1 = len(y_pred)\n",
    "p = X.shape[1]\n",
    "adj_r2 = 1 - (1 - r2_s) * (n1 - 1) / (n1 - p - 1)\n",
    "d['Polynomial Regression'] = (train_score, test_score, r2_s, mae_train, mae_test, f,adj_r2)\n",
    "\n",
    "plt.figure(figsize=(8, 4))\n",
    "# sns.scatterplot(x=test_labels, y=y_pred)\n",
    "sns.scatterplot(x=test_labels, y=y_pred)\n",
    "coefficients = np.polyfit(test_labels, y_pred, 1)\n",
    "trendline_x = np.linspace(min(test_labels), max(test_labels), 100)\n",
    "trendline_y = np.polyval(coefficients, trendline_x)\n",
    "plt.plot(trendline_x, trendline_y, linestyle='dotted', color='red')\n",
    "plt.xlabel('True Groundwater Recharge (m)',fontsize=13,fontweight='bold')\n",
    "plt.ylabel('Predicted Groundwater Recharge (m)',fontsize=13,fontweight='bold')\n",
    "plt.title(f'Scatter Plot: Polynomial Regression(degree=3)',fontsize=14,fontweight='bold')\n",
    "# plt.grid(False)\n",
    "plt.tight_layout()\n",
    "plt.savefig(f\"B:\\GroundwaterRech\\GithubRepo\\Restart\\Results\\Images(new)\\Model Performance Plots\\PolynomialReg_Scatterplot.png\",dpi=1200)\n",
    "plt.show()\n",
    "\n",
    "plt.figure(figsize=(8, 4))\n",
    "sns.lineplot(x=range(1, len(test_labels) + 1), y=test_labels, label='Actual')\n",
    "sns.lineplot(x=range(1, len(y_pred) + 1), y=y_pred, label='Predicted')\n",
    "plt.xlabel('Test Data (Years)',fontsize=13,fontweight='bold')\n",
    "plt.ylabel('Groundwater Recharge (m)',fontsize=13,fontweight='bold')\n",
    "plt.title(f'Line Plot: Polynomial Regression(degree=3) ',fontsize=14,fontweight='bold')\n",
    "plt.legend()\n",
    "plt.tight_layout()\n",
    "plt.savefig(f\"B:\\GroundwaterRech\\GithubRepo\\Restart\\Results\\Images(new)\\Model Performance Plots\\PolynomialReg_Lineplot.png\",dpi=1200)\n",
    "\n",
    "# Display the line plot\n",
    "plt.show()"
   ],
   "metadata": {
    "collapsed": false
   }
  },
  {
   "cell_type": "code",
   "execution_count": null,
   "outputs": [],
   "source": [
    "d"
   ],
   "metadata": {
    "collapsed": false
   }
  },
  {
   "cell_type": "markdown",
   "source": [
    "ANN"
   ],
   "metadata": {
    "collapsed": false
   }
  },
  {
   "cell_type": "code",
   "execution_count": null,
   "outputs": [],
   "source": [
    "import tensorflow as tf"
   ],
   "metadata": {
    "collapsed": false
   }
  },
  {
   "cell_type": "code",
   "execution_count": null,
   "outputs": [],
   "source": [
    "# Define the model architecture\n",
    "model = tf.keras.Sequential([\n",
    "    tf.keras.layers.Dense(25, input_shape=(27,), activation='relu'),\n",
    "    # tf.keras.layers.Dropout()\n",
    "    tf.keras.layers.Dense(512, activation='relu'),\n",
    "    tf.keras.layers.Dense(1024, activation='relu'),\n",
    "    tf.keras.layers.Dropout(rate=0.3),\n",
    "    tf.keras.layers.Dense(512, activation='relu'),\n",
    "    tf.keras.layers.Dense(64, activation='relu'),\n",
    "    tf.keras.layers.Dense(1, activation='linear')\n",
    "])"
   ],
   "metadata": {
    "collapsed": false
   }
  },
  {
   "cell_type": "code",
   "execution_count": null,
   "outputs": [],
   "source": [
    "model.compile(optimizer='adam', loss='mean_squared_error')"
   ],
   "metadata": {
    "collapsed": false
   }
  },
  {
   "cell_type": "code",
   "execution_count": null,
   "outputs": [],
   "source": [
    "model.fit(train_data, train_labels, epochs=150, batch_size=32)"
   ],
   "metadata": {
    "collapsed": false
   }
  },
  {
   "cell_type": "code",
   "execution_count": null,
   "outputs": [],
   "source": [
    "# Evaluate the model on the test set\n",
    "test_score = model.evaluate(test_data, test_labels)\n",
    "train_score = model.evaluate(train_data, train_labels)\n",
    "y_pred = model.predict(test_data)\n",
    "y_pred_train = model.predict(train_data)\n",
    "print(f'Mean squared error on test set: {test_score} train set: {train_score}')\n",
    "print(\"R2 square\", r2_score(test_labels, y_pred))"
   ],
   "metadata": {
    "collapsed": false
   }
  },
  {
   "cell_type": "code",
   "execution_count": null,
   "outputs": [],
   "source": [
    "train_score = mean_squared_error(train_labels, np.squeeze(y_pred_train))\n",
    "test_score = mean_squared_error(test_labels, np.squeeze(y_pred))\n",
    "r2_s = r2_score(test_labels, np.squeeze(y_pred))\n",
    "mae_test = mean_absolute_error(test_labels, np.squeeze(y_pred))\n",
    "mae_train = mean_absolute_error(train_labels, np.squeeze(y_pred_train))\n",
    "\n",
    "n1 = len(y_pred)\n",
    "p = X.shape[1]\n",
    "adj_r2 = 1 - (1 - r2_s) * (n1 - 1) / (n1 - p - 1)\n",
    "a, b = list(test_labels), list(y_pred)\n",
    "n = 0\n",
    "d1 = 0\n",
    "d_mean = test_labels.mean()\n",
    "for i in range(len(y_pred)):\n",
    "    n = n + math.pow((a[i] - b[i]), 2)\n",
    "    d1 = d1 + math.pow((a[i] - d_mean), 2)\n",
    "nse = 1 - (n / d1)\n",
    "\n",
    "\n",
    "\n",
    "d['MLP'] = (train_score, test_score, r2_s, mae_train, mae_test, nse,adj_r2)\n",
    "\n",
    "\n",
    "plt.figure(figsize=(8, 4))\n",
    "# sns.scatterplot(x=test_labels, y=y_pred)\n",
    "sns.scatterplot(x=test_labels, y=np.squeeze(y_pred))\n",
    "coefficients = np.polyfit(test_labels, np.squeeze(y_pred), 1)\n",
    "trendline_x = np.linspace(min(test_labels), max(test_labels), 100)\n",
    "trendline_y = np.polyval(coefficients, trendline_x)\n",
    "plt.plot(trendline_x, trendline_y, linestyle='dotted', color='red')\n",
    "plt.xlabel('True Groundwater Recharge (m)',fontsize=13,fontweight='bold')\n",
    "plt.ylabel('Predicted Groundwater Recharge (m)',fontsize=13,fontweight='bold')\n",
    "plt.title(f'Scatter Plot: Multi Layer Perceptron(MLP)',fontsize=14,fontweight='bold')\n",
    "# plt.grid(False)\n",
    "plt.tight_layout()\n",
    "plt.savefig(f\"B:\\GroundwaterRech\\GithubRepo\\Restart\\Results\\Images(new)\\Model Performance Plots\\MLP_Scatterplot.png\",dpi=1200)\n",
    "\n",
    "plt.show()\n",
    "\n",
    "plt.figure(figsize=(8, 4))\n",
    "sns.lineplot(x=range(1, len(test_labels) + 1), y=test_labels, label='Actual')\n",
    "sns.lineplot(x=range(1, len(np.squeeze(y_pred)) + 1), y=np.squeeze(y_pred), label='Predicted')\n",
    "plt.xlabel('Test Data (Years)',fontsize=13,fontweight='bold')\n",
    "plt.ylabel('Groundwater Recharge (m)',fontsize=13,fontweight='bold')\n",
    "plt.title(f'Line Plot: Multi Layer Perceptron(MLP) ',fontsize=14,fontweight='bold')\n",
    "plt.legend()\n",
    "plt.tight_layout()\n",
    "plt.savefig(f\"B:\\GroundwaterRech\\GithubRepo\\Restart\\Results\\Images(new)\\Model Performance Plots\\MLP_Lineplot.png\",dpi=1200)\n",
    "\n",
    "# Display the line plot\n",
    "plt.show()"
   ],
   "metadata": {
    "collapsed": false
   }
  },
  {
   "cell_type": "code",
   "execution_count": null,
   "outputs": [],
   "source": [
    "d"
   ],
   "metadata": {
    "collapsed": false
   }
  },
  {
   "cell_type": "code",
   "execution_count": null,
   "outputs": [],
   "source": [
    "df = pd.DataFrame.from_dict(d, orient='index',\n",
    "                            columns=['Train MSE', 'Test MSE', 'R2_score', 'Train MAE', 'Test MAE', 'NSE','Adj_r2'])\n",
    "df.to_excel('Models_Results(Districts).xlsx')"
   ],
   "metadata": {
    "collapsed": false
   }
  },
  {
   "cell_type": "code",
   "execution_count": null,
   "outputs": [],
   "source": [],
   "metadata": {
    "collapsed": false
   }
  }
 ],
 "metadata": {
  "kernelspec": {
   "display_name": "Python 3",
   "language": "python",
   "name": "python3"
  },
  "language_info": {
   "codemirror_mode": {
    "name": "ipython",
    "version": 2
   },
   "file_extension": ".py",
   "mimetype": "text/x-python",
   "name": "python",
   "nbconvert_exporter": "python",
   "pygments_lexer": "ipython2",
   "version": "2.7.6"
  }
 },
 "nbformat": 4,
 "nbformat_minor": 0
}
